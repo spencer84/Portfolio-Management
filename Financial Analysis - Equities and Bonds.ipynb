{
 "cells": [
  {
   "cell_type": "markdown",
   "metadata": {},
   "source": [
    "## 0. Import Modules and Data"
   ]
  },
  {
   "cell_type": "code",
   "execution_count": 1,
   "metadata": {},
   "outputs": [],
   "source": [
    "import pandas as pd\n",
    "import numpy as np\n",
    "from pandas_datareader import data\n",
    "import pandas_datareader.data as web\n",
    "import datetime as dt"
   ]
  },
  {
   "cell_type": "code",
   "execution_count": 2,
   "metadata": {},
   "outputs": [],
   "source": [
    "import Portfolio as port # This is from the Portfolio.py file with the different classes defined"
   ]
  },
  {
   "cell_type": "markdown",
   "metadata": {},
   "source": [
    "## 1. Set-up Portfolio Strategy"
   ]
  },
  {
   "cell_type": "code",
   "execution_count": 3,
   "metadata": {},
   "outputs": [],
   "source": [
    "# Define start date and end date\n",
    "\n",
    "start_date = '2015-01-01'\n",
    "\n",
    "end_date = '2020-01-05'"
   ]
  },
  {
   "cell_type": "code",
   "execution_count": 4,
   "metadata": {},
   "outputs": [],
   "source": [
    "# Define Shares\n",
    "\n",
    "# Provide the name of the ticker and type (Equity or Bond)\n",
    "\n",
    "#VOO and BND are Vanguard ETFs which are proxies for individual stocks/bonds\n",
    "\n",
    "voo = port.Share('VOO', 'Equity', start_date,end_date)\n",
    "bnd = port.Share('BND', 'Bond', start_date, end_date)"
   ]
  },
  {
   "cell_type": "code",
   "execution_count": 5,
   "metadata": {},
   "outputs": [
    {
     "data": {
      "text/plain": [
       "229.99"
      ]
     },
     "execution_count": 5,
     "metadata": {},
     "output_type": "execute_result"
    }
   ],
   "source": [
    "voo.get_value('2019-01-01')"
   ]
  },
  {
   "cell_type": "code",
   "execution_count": 6,
   "metadata": {},
   "outputs": [
    {
     "data": {
      "text/plain": [
       "278.55"
      ]
     },
     "execution_count": 6,
     "metadata": {},
     "output_type": "execute_result"
    }
   ],
   "source": [
    "voo.get_value('2019-10-31')"
   ]
  },
  {
   "cell_type": "code",
   "execution_count": 7,
   "metadata": {},
   "outputs": [],
   "source": [
    "# Need a way to group the different shares together\n",
    "\n",
    "shares_list = [voo, bnd]\n",
    "\n",
    "shares_dict = {}\n",
    "\n",
    "for share in shares_list:\n",
    "    shares_dict[share] = share.type\n"
   ]
  },
  {
   "cell_type": "code",
   "execution_count": 8,
   "metadata": {},
   "outputs": [
    {
     "data": {
      "text/plain": [
       "{<Portfolio.Share at 0x7f59443cf048>: 'Equity',\n",
       " <Portfolio.Share at 0x7f59443cfbe0>: 'Bond'}"
      ]
     },
     "execution_count": 8,
     "metadata": {},
     "output_type": "execute_result"
    }
   ],
   "source": [
    "shares_dict"
   ]
  },
  {
   "cell_type": "code",
   "execution_count": 24,
   "metadata": {},
   "outputs": [],
   "source": [
    "# Define Strategy\n",
    "\n",
    "# Provide the equity distribution, the bond distriubtion, cash distribution, and the threshold\n",
    "strat = port.Strategy(50,50,0,1)"
   ]
  },
  {
   "cell_type": "code",
   "execution_count": 25,
   "metadata": {},
   "outputs": [],
   "source": [
    "# Run portfolio with set start and end dates\n",
    "\n",
    "portfolio = port.Portfolio(shares_dict)\n",
    "\n",
    "portfolio.initial_buy(500, strat, start_date)"
   ]
  },
  {
   "cell_type": "code",
   "execution_count": 26,
   "metadata": {},
   "outputs": [],
   "source": [
    "portfolio.get_asset_values(start_date)"
   ]
  },
  {
   "cell_type": "code",
   "execution_count": 27,
   "metadata": {},
   "outputs": [
    {
     "data": {
      "text/plain": [
       "{'Equities': 50.0, 'Bonds': 50.0, 'Cash': 0.0}"
      ]
     },
     "execution_count": 27,
     "metadata": {},
     "output_type": "execute_result"
    }
   ],
   "source": [
    "portfolio.asset_split"
   ]
  },
  {
   "cell_type": "code",
   "execution_count": 28,
   "metadata": {
    "scrolled": false
   },
   "outputs": [],
   "source": [
    "# Run the portfolio over a series of months\n",
    "\n",
    "time_period = pd.date_range(pd.to_datetime(start_date),pd.to_datetime(end_date))\n",
    "\n",
    "for day in time_period:\n",
    "    portfolio.reinvest_divs(day)\n",
    "    portfolio.get_asset_values(day)\n",
    "    if portfolio.asset_split['Equities'] > strat.equity_distribution+strat.threshold:\n",
    "        sell_amt = (portfolio.asset_values['Equities']+portfolio.asset_values['Bonds'])*((portfolio.asset_split['Equities']-strat.equity_distribution)/100)\n",
    "        sell_amt_per = sell_amt/len(portfolio.equities)\n",
    "        for share in portfolio.equities: # sell equities and buy more bonds\n",
    "            portfolio.sell(share, sell_amt_per, day)\n",
    "        for share in portfolio.bonds:\n",
    "            portfolio.buy(share, sell_amt_per, day)\n",
    "               \n",
    "    if portfolio.asset_split['Bonds'] > strat.bond_distribution+strat.threshold:\n",
    "        sell_amt = (portfolio.asset_values['Equities']+portfolio.asset_values['Bonds'])*(portfolio.asset_split['Bonds']-strat.bond_distribution)\n",
    "        sell_amt_per = sell_amt/len(portfolio.bonds)\n",
    "        for share in portfolio.bonds: # sell bonds and buy more equities\n",
    "            portfolio.sell(share, sell_amt_per, day)\n",
    "        for share in portfolio.bonds:\n",
    "            portfolio.buy(share, sell_amt_per, day)\n",
    "        \n",
    "    "
   ]
  },
  {
   "cell_type": "code",
   "execution_count": 29,
   "metadata": {},
   "outputs": [
    {
     "data": {
      "text/html": [
       "<div>\n",
       "<style scoped>\n",
       "    .dataframe tbody tr th:only-of-type {\n",
       "        vertical-align: middle;\n",
       "    }\n",
       "\n",
       "    .dataframe tbody tr th {\n",
       "        vertical-align: top;\n",
       "    }\n",
       "\n",
       "    .dataframe thead th {\n",
       "        text-align: right;\n",
       "    }\n",
       "</style>\n",
       "<table border=\"1\" class=\"dataframe\">\n",
       "  <thead>\n",
       "    <tr style=\"text-align: right;\">\n",
       "      <th></th>\n",
       "      <th>Total Value</th>\n",
       "      <th>Equities</th>\n",
       "      <th>Bonds</th>\n",
       "    </tr>\n",
       "    <tr>\n",
       "      <th>Date</th>\n",
       "      <th></th>\n",
       "      <th></th>\n",
       "      <th></th>\n",
       "    </tr>\n",
       "  </thead>\n",
       "  <tbody>\n",
       "    <tr>\n",
       "      <th>2020-01-01</th>\n",
       "      <td>715.957431</td>\n",
       "      <td>362.850082</td>\n",
       "      <td>353.107349</td>\n",
       "    </tr>\n",
       "    <tr>\n",
       "      <th>2020-01-02</th>\n",
       "      <td>715.957431</td>\n",
       "      <td>362.850082</td>\n",
       "      <td>353.107349</td>\n",
       "    </tr>\n",
       "    <tr>\n",
       "      <th>2020-01-03</th>\n",
       "      <td>714.568308</td>\n",
       "      <td>360.199411</td>\n",
       "      <td>354.368897</td>\n",
       "    </tr>\n",
       "    <tr>\n",
       "      <th>2020-01-04</th>\n",
       "      <td>714.568308</td>\n",
       "      <td>360.199411</td>\n",
       "      <td>354.368897</td>\n",
       "    </tr>\n",
       "    <tr>\n",
       "      <th>2020-01-05</th>\n",
       "      <td>714.568308</td>\n",
       "      <td>360.199411</td>\n",
       "      <td>354.368897</td>\n",
       "    </tr>\n",
       "  </tbody>\n",
       "</table>\n",
       "</div>"
      ],
      "text/plain": [
       "            Total Value    Equities       Bonds\n",
       "Date                                           \n",
       "2020-01-01   715.957431  362.850082  353.107349\n",
       "2020-01-02   715.957431  362.850082  353.107349\n",
       "2020-01-03   714.568308  360.199411  354.368897\n",
       "2020-01-04   714.568308  360.199411  354.368897\n",
       "2020-01-05   714.568308  360.199411  354.368897"
      ]
     },
     "execution_count": 29,
     "metadata": {},
     "output_type": "execute_result"
    }
   ],
   "source": [
    "# Create a dataframe with the historical data\n",
    "\n",
    "portfolio_history = portfolio.get_hist_df()\n",
    "portfolio_history['Date'] = pd.to_datetime(portfolio_history['Date']) # Convert date to datetime object\n",
    "portfolio_history.set_index('Date', inplace = True)\n",
    "portfolio_history.tail()"
   ]
  },
  {
   "cell_type": "code",
   "execution_count": 30,
   "metadata": {},
   "outputs": [
    {
     "data": {
      "text/plain": [
       "<AxesSubplot:xlabel='Date'>"
      ]
     },
     "execution_count": 30,
     "metadata": {},
     "output_type": "execute_result"
    },
    {
     "data": {
      "image/png": "[encoded data removed]",
      "text/plain": [
       "<Figure size 432x288 with 1 Axes>"
      ]
     },
     "metadata": {
      "needs_background": "light"
     },
     "output_type": "display_data"
    }
   ],
   "source": [
    "# Plot the Total value, value of equities, and value of bonds over the length of the timeframe\n",
    "\n",
    "# This represents the performance of a portfolio with a 50% Equity-50% Bond allocation\n",
    "\n",
    "portfolio_history[['Total Value', 'Equities','Bonds']].plot()"
   ]
  },
  {
   "cell_type": "markdown",
   "metadata": {},
   "source": [
    "## 2. Compare Different Allocation Rates"
   ]
  },
  {
   "cell_type": "code",
   "execution_count": 42,
   "metadata": {},
   "outputs": [],
   "source": [
    "# Create an empty DataFrame for different allocation rates\n",
    "\n",
    "allocation_df = pd.DataFrame()\n",
    "\n",
    "# Create an empty DataFrame for different allocation ROI\n",
    "\n",
    "allocation_roi_df = pd.DataFrame()"
   ]
  },
  {
   "cell_type": "code",
   "execution_count": 102,
   "metadata": {},
   "outputs": [],
   "source": [
    "# Create an empty DataFrame for reporting the standard deviation in each strategy/year\n",
    "\n",
    "std_df = pd.DataFrame()"
   ]
  },
  {
   "cell_type": "code",
   "execution_count": 103,
   "metadata": {},
   "outputs": [],
   "source": [
    "# Create a loop for different strategies (different allocation proportions)\n",
    "\n",
    "# This is largely the same as above, however, the strat (strategy) will change in each iteration\n",
    "\n",
    "ini_amount = 500\n",
    " \n",
    "for i in range(0,100,5):\n",
    "    strat = port.Strategy(i,100-i,0,1) \n",
    "    \n",
    "    portfolio = port.Portfolio(shares_dict)\n",
    "\n",
    "    portfolio.initial_buy(ini_amount, strat, start_date)\n",
    "    \n",
    "    time_period = pd.date_range(pd.to_datetime(start_date),pd.to_datetime(end_date))\n",
    "\n",
    "    for day in time_period:\n",
    "        portfolio.reinvest_divs(day)\n",
    "        portfolio.get_asset_values(day)\n",
    "        if portfolio.asset_split['Equities'] > strat.equity_distribution+strat.threshold:\n",
    "            sell_amt = (portfolio.asset_values['Equities']+portfolio.asset_values['Bonds'])*((portfolio.asset_split['Equities']-strat.equity_distribution)/100)\n",
    "            sell_amt_per = sell_amt/len(portfolio.equities)\n",
    "            for share in portfolio.equities: # sell equities and buy more bonds\n",
    "                portfolio.sell(share, sell_amt_per, day)\n",
    "            for share in portfolio.bonds:\n",
    "                portfolio.buy(share, sell_amt_per, day)\n",
    "\n",
    "        if portfolio.asset_split['Bonds'] > strat.bond_distribution+strat.threshold:\n",
    "            sell_amt = (portfolio.asset_values['Equities']+portfolio.asset_values['Bonds'])*(portfolio.asset_split['Bonds']-strat.bond_distribution)\n",
    "            sell_amt_per = sell_amt/len(portfolio.bonds)\n",
    "            for share in portfolio.bonds: # sell bonds and buy more equities\n",
    "                portfolio.sell(share, sell_amt_per, day)\n",
    "            for share in portfolio.bonds:\n",
    "                portfolio.buy(share, sell_amt_per, day)\n",
    "    portfolio_history = portfolio.get_hist_df()\n",
    "    portfolio_history['Date'] = pd.to_datetime(portfolio_history['Date']) # Convert date to datetime object\n",
    "    portfolio_history.set_index('Date', inplace = True) \n",
    "    \n",
    "    # Create a new column of the allocation dataframe based on the total value of the most recent portfolio simulation\n",
    "    allocation_df[str(i)+'% Equities:'+str(100-i)+'% Bonds'] = portfolio_history['Total Value']\n",
    "    \n",
    "    # Loop through each year to calculate a ROI in each year and Standard Deviation \n",
    "    \n",
    "    portfolio_history['Year'] = portfolio_history.index.strftime('%Y')\n",
    "    \n",
    "    years = list(portfolio_history['Year'].unique())\n",
    "    \n",
    "    for year in years:\n",
    "        subset = portfolio_history[portfolio_history['Year']==year]\n",
    "        allocation_roi_df.at[year,str(i)+'% Equities:'+str(100-i)+' % Bonds'] = ((subset['Total Value'].iat[-1]/subset['Total Value'].iat[0])-1)*100\n",
    "        std_df.at[year,str(i)+'% Equities:'+str(100-i)+' % Bonds'] = subset['Total Value'].std()\n",
    "    allocation_roi_df.at['Period Total',str(i)+'% Equities:'+str(100-i)+' % Bonds'] = ((portfolio_history['Total Value'].iat[-1]/portfolio_history['Total Value'].iat[0])-1)*100\n",
    "    std_df.at['Period Total',str(i)+'% Equities:'+str(100-i)+' % Bonds'] = portfolio_history['Total Value'].std()\n",
    "    # Get standard deviation for each year/strategy\n",
    "    \n",
    " "
   ]
  },
  {
   "cell_type": "code",
   "execution_count": 36,
   "metadata": {},
   "outputs": [
    {
     "data": {
      "text/plain": [
       "<AxesSubplot:xlabel='Date'>"
      ]
     },
     "execution_count": 36,
     "metadata": {},
     "output_type": "execute_result"
    },
    {
     "data": {
      "image/png": "[encoded data removed]",
      "text/plain": [
       "<Figure size 432x288 with 1 Axes>"
      ]
     },
     "metadata": {
      "needs_background": "light"
     },
     "output_type": "display_data"
    }
   ],
   "source": [
    "allocation_df[['20% Equities:80% Bonds','40% Equities:60% Bonds','60% Equities:40% Bonds','80% Equities:20% Bonds']].plot()"
   ]
  },
  {
   "cell_type": "code",
   "execution_count": 72,
   "metadata": {},
   "outputs": [
    {
     "data": {
      "text/html": [
       "<div>\n",
       "<style scoped>\n",
       "    .dataframe tbody tr th:only-of-type {\n",
       "        vertical-align: middle;\n",
       "    }\n",
       "\n",
       "    .dataframe tbody tr th {\n",
       "        vertical-align: top;\n",
       "    }\n",
       "\n",
       "    .dataframe thead th {\n",
       "        text-align: right;\n",
       "    }\n",
       "</style>\n",
       "<table border=\"1\" class=\"dataframe\">\n",
       "  <thead>\n",
       "    <tr style=\"text-align: right;\">\n",
       "      <th></th>\n",
       "      <th>0% Equities:100 % Bonds</th>\n",
       "      <th>5% Equities:95 % Bonds</th>\n",
       "      <th>10% Equities:90 % Bonds</th>\n",
       "      <th>15% Equities:85 % Bonds</th>\n",
       "      <th>20% Equities:80 % Bonds</th>\n",
       "      <th>25% Equities:75 % Bonds</th>\n",
       "      <th>30% Equities:70 % Bonds</th>\n",
       "      <th>35% Equities:65 % Bonds</th>\n",
       "      <th>40% Equities:60 % Bonds</th>\n",
       "      <th>45% Equities:55 % Bonds</th>\n",
       "      <th>50% Equities:50 % Bonds</th>\n",
       "      <th>55% Equities:45 % Bonds</th>\n",
       "      <th>60% Equities:40 % Bonds</th>\n",
       "      <th>65% Equities:35 % Bonds</th>\n",
       "      <th>70% Equities:30 % Bonds</th>\n",
       "      <th>75% Equities:25 % Bonds</th>\n",
       "      <th>80% Equities:20 % Bonds</th>\n",
       "      <th>85% Equities:15 % Bonds</th>\n",
       "      <th>90% Equities:10 % Bonds</th>\n",
       "      <th>95% Equities:5 % Bonds</th>\n",
       "    </tr>\n",
       "  </thead>\n",
       "  <tbody>\n",
       "    <tr>\n",
       "      <th>2015</th>\n",
       "      <td>0.218626</td>\n",
       "      <td>0.273435</td>\n",
       "      <td>0.328244</td>\n",
       "      <td>0.383053</td>\n",
       "      <td>0.437862</td>\n",
       "      <td>0.492671</td>\n",
       "      <td>0.584348</td>\n",
       "      <td>0.636731</td>\n",
       "      <td>0.689152</td>\n",
       "      <td>0.741940</td>\n",
       "      <td>0.797053</td>\n",
       "      <td>0.851559</td>\n",
       "      <td>0.908389</td>\n",
       "      <td>0.965585</td>\n",
       "      <td>1.028476</td>\n",
       "      <td>1.040762</td>\n",
       "      <td>1.095572</td>\n",
       "      <td>1.150381</td>\n",
       "      <td>1.205190</td>\n",
       "      <td>1.259999</td>\n",
       "    </tr>\n",
       "    <tr>\n",
       "      <th>2016</th>\n",
       "      <td>2.587218</td>\n",
       "      <td>3.184265</td>\n",
       "      <td>3.786813</td>\n",
       "      <td>4.348741</td>\n",
       "      <td>4.929391</td>\n",
       "      <td>5.520848</td>\n",
       "      <td>6.043585</td>\n",
       "      <td>6.629010</td>\n",
       "      <td>7.222337</td>\n",
       "      <td>7.818013</td>\n",
       "      <td>8.428890</td>\n",
       "      <td>9.014540</td>\n",
       "      <td>9.615362</td>\n",
       "      <td>10.227456</td>\n",
       "      <td>10.822423</td>\n",
       "      <td>11.506959</td>\n",
       "      <td>12.112548</td>\n",
       "      <td>12.729853</td>\n",
       "      <td>13.371337</td>\n",
       "      <td>13.959125</td>\n",
       "    </tr>\n",
       "    <tr>\n",
       "      <th>2017</th>\n",
       "      <td>3.691745</td>\n",
       "      <td>4.613491</td>\n",
       "      <td>5.444126</td>\n",
       "      <td>6.325657</td>\n",
       "      <td>7.175629</td>\n",
       "      <td>8.036254</td>\n",
       "      <td>8.918145</td>\n",
       "      <td>9.803572</td>\n",
       "      <td>10.686046</td>\n",
       "      <td>11.585973</td>\n",
       "      <td>12.471108</td>\n",
       "      <td>13.397852</td>\n",
       "      <td>14.309808</td>\n",
       "      <td>15.235800</td>\n",
       "      <td>16.168599</td>\n",
       "      <td>17.096929</td>\n",
       "      <td>18.065387</td>\n",
       "      <td>19.012808</td>\n",
       "      <td>19.950952</td>\n",
       "      <td>20.963172</td>\n",
       "    </tr>\n",
       "    <tr>\n",
       "      <th>2018</th>\n",
       "      <td>0.399563</td>\n",
       "      <td>0.098906</td>\n",
       "      <td>-0.073633</td>\n",
       "      <td>-0.341283</td>\n",
       "      <td>-0.458312</td>\n",
       "      <td>-0.708085</td>\n",
       "      <td>-1.070154</td>\n",
       "      <td>-1.279104</td>\n",
       "      <td>-1.622218</td>\n",
       "      <td>-1.895153</td>\n",
       "      <td>-2.030043</td>\n",
       "      <td>-2.454619</td>\n",
       "      <td>-2.741172</td>\n",
       "      <td>-3.049134</td>\n",
       "      <td>-3.278649</td>\n",
       "      <td>-3.636598</td>\n",
       "      <td>-3.938433</td>\n",
       "      <td>-4.232325</td>\n",
       "      <td>-4.502496</td>\n",
       "      <td>-4.926519</td>\n",
       "    </tr>\n",
       "    <tr>\n",
       "      <th>2019</th>\n",
       "      <td>8.615056</td>\n",
       "      <td>9.752188</td>\n",
       "      <td>10.650205</td>\n",
       "      <td>11.685000</td>\n",
       "      <td>12.552129</td>\n",
       "      <td>13.576834</td>\n",
       "      <td>14.758023</td>\n",
       "      <td>15.754691</td>\n",
       "      <td>16.930999</td>\n",
       "      <td>18.034645</td>\n",
       "      <td>18.976087</td>\n",
       "      <td>20.287908</td>\n",
       "      <td>21.438156</td>\n",
       "      <td>22.636861</td>\n",
       "      <td>23.738357</td>\n",
       "      <td>25.025217</td>\n",
       "      <td>26.239241</td>\n",
       "      <td>27.467102</td>\n",
       "      <td>28.669020</td>\n",
       "      <td>30.088455</td>\n",
       "    </tr>\n",
       "    <tr>\n",
       "      <th>2020</th>\n",
       "      <td>0.357270</td>\n",
       "      <td>0.301886</td>\n",
       "      <td>0.240486</td>\n",
       "      <td>0.194103</td>\n",
       "      <td>0.135325</td>\n",
       "      <td>0.080188</td>\n",
       "      <td>0.028791</td>\n",
       "      <td>-0.033622</td>\n",
       "      <td>-0.082840</td>\n",
       "      <td>-0.137380</td>\n",
       "      <td>-0.194023</td>\n",
       "      <td>-0.246149</td>\n",
       "      <td>-0.300378</td>\n",
       "      <td>-0.354503</td>\n",
       "      <td>-0.404179</td>\n",
       "      <td>-0.460475</td>\n",
       "      <td>-0.512957</td>\n",
       "      <td>-0.576525</td>\n",
       "      <td>-0.626441</td>\n",
       "      <td>-0.684159</td>\n",
       "    </tr>\n",
       "    <tr>\n",
       "      <th>Period Total</th>\n",
       "      <td>17.000328</td>\n",
       "      <td>19.566755</td>\n",
       "      <td>21.955314</td>\n",
       "      <td>24.430453</td>\n",
       "      <td>26.896683</td>\n",
       "      <td>29.435010</td>\n",
       "      <td>32.037200</td>\n",
       "      <td>34.667888</td>\n",
       "      <td>37.361456</td>\n",
       "      <td>40.117462</td>\n",
       "      <td>42.913662</td>\n",
       "      <td>45.777220</td>\n",
       "      <td>48.682505</td>\n",
       "      <td>51.676951</td>\n",
       "      <td>54.714501</td>\n",
       "      <td>57.797106</td>\n",
       "      <td>60.967322</td>\n",
       "      <td>64.155941</td>\n",
       "      <td>67.426343</td>\n",
       "      <td>70.757296</td>\n",
       "    </tr>\n",
       "  </tbody>\n",
       "</table>\n",
       "</div>"
      ],
      "text/plain": [
       "              0% Equities:100 % Bonds  5% Equities:95 % Bonds  \\\n",
       "2015                         0.218626                0.273435   \n",
       "2016                         2.587218                3.184265   \n",
       "2017                         3.691745                4.613491   \n",
       "2018                         0.399563                0.098906   \n",
       "2019                         8.615056                9.752188   \n",
       "2020                         0.357270                0.301886   \n",
       "Period Total                17.000328               19.566755   \n",
       "\n",
       "              10% Equities:90 % Bonds  15% Equities:85 % Bonds  \\\n",
       "2015                         0.328244                 0.383053   \n",
       "2016                         3.786813                 4.348741   \n",
       "2017                         5.444126                 6.325657   \n",
       "2018                        -0.073633                -0.341283   \n",
       "2019                        10.650205                11.685000   \n",
       "2020                         0.240486                 0.194103   \n",
       "Period Total                21.955314                24.430453   \n",
       "\n",
       "              20% Equities:80 % Bonds  25% Equities:75 % Bonds  \\\n",
       "2015                         0.437862                 0.492671   \n",
       "2016                         4.929391                 5.520848   \n",
       "2017                         7.175629                 8.036254   \n",
       "2018                        -0.458312                -0.708085   \n",
       "2019                        12.552129                13.576834   \n",
       "2020                         0.135325                 0.080188   \n",
       "Period Total                26.896683                29.435010   \n",
       "\n",
       "              30% Equities:70 % Bonds  35% Equities:65 % Bonds  \\\n",
       "2015                         0.584348                 0.636731   \n",
       "2016                         6.043585                 6.629010   \n",
       "2017                         8.918145                 9.803572   \n",
       "2018                        -1.070154                -1.279104   \n",
       "2019                        14.758023                15.754691   \n",
       "2020                         0.028791                -0.033622   \n",
       "Period Total                32.037200                34.667888   \n",
       "\n",
       "              40% Equities:60 % Bonds  45% Equities:55 % Bonds  \\\n",
       "2015                         0.689152                 0.741940   \n",
       "2016                         7.222337                 7.818013   \n",
       "2017                        10.686046                11.585973   \n",
       "2018                        -1.622218                -1.895153   \n",
       "2019                        16.930999                18.034645   \n",
       "2020                        -0.082840                -0.137380   \n",
       "Period Total                37.361456                40.117462   \n",
       "\n",
       "              50% Equities:50 % Bonds  55% Equities:45 % Bonds  \\\n",
       "2015                         0.797053                 0.851559   \n",
       "2016                         8.428890                 9.014540   \n",
       "2017                        12.471108                13.397852   \n",
       "2018                        -2.030043                -2.454619   \n",
       "2019                        18.976087                20.287908   \n",
       "2020                        -0.194023                -0.246149   \n",
       "Period Total                42.913662                45.777220   \n",
       "\n",
       "              60% Equities:40 % Bonds  65% Equities:35 % Bonds  \\\n",
       "2015                         0.908389                 0.965585   \n",
       "2016                         9.615362                10.227456   \n",
       "2017                        14.309808                15.235800   \n",
       "2018                        -2.741172                -3.049134   \n",
       "2019                        21.438156                22.636861   \n",
       "2020                        -0.300378                -0.354503   \n",
       "Period Total                48.682505                51.676951   \n",
       "\n",
       "              70% Equities:30 % Bonds  75% Equities:25 % Bonds  \\\n",
       "2015                         1.028476                 1.040762   \n",
       "2016                        10.822423                11.506959   \n",
       "2017                        16.168599                17.096929   \n",
       "2018                        -3.278649                -3.636598   \n",
       "2019                        23.738357                25.025217   \n",
       "2020                        -0.404179                -0.460475   \n",
       "Period Total                54.714501                57.797106   \n",
       "\n",
       "              80% Equities:20 % Bonds  85% Equities:15 % Bonds  \\\n",
       "2015                         1.095572                 1.150381   \n",
       "2016                        12.112548                12.729853   \n",
       "2017                        18.065387                19.012808   \n",
       "2018                        -3.938433                -4.232325   \n",
       "2019                        26.239241                27.467102   \n",
       "2020                        -0.512957                -0.576525   \n",
       "Period Total                60.967322                64.155941   \n",
       "\n",
       "              90% Equities:10 % Bonds  95% Equities:5 % Bonds  \n",
       "2015                         1.205190                1.259999  \n",
       "2016                        13.371337               13.959125  \n",
       "2017                        19.950952               20.963172  \n",
       "2018                        -4.502496               -4.926519  \n",
       "2019                        28.669020               30.088455  \n",
       "2020                        -0.626441               -0.684159  \n",
       "Period Total                67.426343               70.757296  "
      ]
     },
     "execution_count": 72,
     "metadata": {},
     "output_type": "execute_result"
    }
   ],
   "source": [
    "allocation_roi_df"
   ]
  },
  {
   "cell_type": "code",
   "execution_count": null,
   "metadata": {},
   "outputs": [],
   "source": [
    "## 3. Analyse Volatility"
   ]
  },
  {
   "cell_type": "code",
   "execution_count": 104,
   "metadata": {},
   "outputs": [
    {
     "data": {
      "text/html": [
       "<div>\n",
       "<style scoped>\n",
       "    .dataframe tbody tr th:only-of-type {\n",
       "        vertical-align: middle;\n",
       "    }\n",
       "\n",
       "    .dataframe tbody tr th {\n",
       "        vertical-align: top;\n",
       "    }\n",
       "\n",
       "    .dataframe thead th {\n",
       "        text-align: right;\n",
       "    }\n",
       "</style>\n",
       "<table border=\"1\" class=\"dataframe\">\n",
       "  <thead>\n",
       "    <tr style=\"text-align: right;\">\n",
       "      <th></th>\n",
       "      <th>0% Equities:100 % Bonds</th>\n",
       "      <th>5% Equities:95 % Bonds</th>\n",
       "      <th>10% Equities:90 % Bonds</th>\n",
       "      <th>15% Equities:85 % Bonds</th>\n",
       "      <th>20% Equities:80 % Bonds</th>\n",
       "      <th>25% Equities:75 % Bonds</th>\n",
       "      <th>30% Equities:70 % Bonds</th>\n",
       "      <th>35% Equities:65 % Bonds</th>\n",
       "      <th>40% Equities:60 % Bonds</th>\n",
       "      <th>45% Equities:55 % Bonds</th>\n",
       "      <th>50% Equities:50 % Bonds</th>\n",
       "      <th>55% Equities:45 % Bonds</th>\n",
       "      <th>60% Equities:40 % Bonds</th>\n",
       "      <th>65% Equities:35 % Bonds</th>\n",
       "      <th>70% Equities:30 % Bonds</th>\n",
       "      <th>75% Equities:25 % Bonds</th>\n",
       "      <th>80% Equities:20 % Bonds</th>\n",
       "      <th>85% Equities:15 % Bonds</th>\n",
       "      <th>90% Equities:10 % Bonds</th>\n",
       "      <th>95% Equities:5 % Bonds</th>\n",
       "    </tr>\n",
       "  </thead>\n",
       "  <tbody>\n",
       "    <tr>\n",
       "      <th>2015</th>\n",
       "      <td>3.277656</td>\n",
       "      <td>3.029254</td>\n",
       "      <td>2.935912</td>\n",
       "      <td>3.012081</td>\n",
       "      <td>3.245849</td>\n",
       "      <td>3.606701</td>\n",
       "      <td>3.945337</td>\n",
       "      <td>4.461794</td>\n",
       "      <td>5.027949</td>\n",
       "      <td>5.627026</td>\n",
       "      <td>6.246685</td>\n",
       "      <td>6.886082</td>\n",
       "      <td>7.535661</td>\n",
       "      <td>8.193720</td>\n",
       "      <td>8.853427</td>\n",
       "      <td>9.658039</td>\n",
       "      <td>10.337256</td>\n",
       "      <td>11.020428</td>\n",
       "      <td>11.706864</td>\n",
       "      <td>12.396022</td>\n",
       "    </tr>\n",
       "    <tr>\n",
       "      <th>2016</th>\n",
       "      <td>8.836834</td>\n",
       "      <td>9.224692</td>\n",
       "      <td>9.761782</td>\n",
       "      <td>10.424354</td>\n",
       "      <td>11.185307</td>\n",
       "      <td>12.027358</td>\n",
       "      <td>12.773275</td>\n",
       "      <td>13.727919</td>\n",
       "      <td>14.731020</td>\n",
       "      <td>15.773024</td>\n",
       "      <td>16.843694</td>\n",
       "      <td>17.941436</td>\n",
       "      <td>19.058647</td>\n",
       "      <td>20.198488</td>\n",
       "      <td>21.339182</td>\n",
       "      <td>22.704892</td>\n",
       "      <td>23.887967</td>\n",
       "      <td>25.082713</td>\n",
       "      <td>26.293271</td>\n",
       "      <td>27.487891</td>\n",
       "    </tr>\n",
       "    <tr>\n",
       "      <th>2017</th>\n",
       "      <td>7.242286</td>\n",
       "      <td>8.216836</td>\n",
       "      <td>9.146438</td>\n",
       "      <td>10.144082</td>\n",
       "      <td>11.188730</td>\n",
       "      <td>12.254838</td>\n",
       "      <td>13.387686</td>\n",
       "      <td>14.546961</td>\n",
       "      <td>15.723672</td>\n",
       "      <td>16.940761</td>\n",
       "      <td>18.162211</td>\n",
       "      <td>19.451127</td>\n",
       "      <td>20.742818</td>\n",
       "      <td>22.068244</td>\n",
       "      <td>23.421983</td>\n",
       "      <td>24.777168</td>\n",
       "      <td>26.208308</td>\n",
       "      <td>27.625426</td>\n",
       "      <td>29.090577</td>\n",
       "      <td>30.629422</td>\n",
       "    </tr>\n",
       "    <tr>\n",
       "      <th>2018</th>\n",
       "      <td>3.449771</td>\n",
       "      <td>3.498633</td>\n",
       "      <td>3.786160</td>\n",
       "      <td>4.362841</td>\n",
       "      <td>5.096592</td>\n",
       "      <td>5.961163</td>\n",
       "      <td>7.068197</td>\n",
       "      <td>8.080240</td>\n",
       "      <td>9.321912</td>\n",
       "      <td>10.542703</td>\n",
       "      <td>11.619484</td>\n",
       "      <td>13.149161</td>\n",
       "      <td>14.529898</td>\n",
       "      <td>15.894757</td>\n",
       "      <td>17.400765</td>\n",
       "      <td>18.922247</td>\n",
       "      <td>20.515432</td>\n",
       "      <td>22.160688</td>\n",
       "      <td>23.924619</td>\n",
       "      <td>25.725789</td>\n",
       "    </tr>\n",
       "    <tr>\n",
       "      <th>2019</th>\n",
       "      <td>16.989370</td>\n",
       "      <td>17.881960</td>\n",
       "      <td>18.681932</td>\n",
       "      <td>19.616551</td>\n",
       "      <td>20.506505</td>\n",
       "      <td>21.540432</td>\n",
       "      <td>22.732844</td>\n",
       "      <td>23.854939</td>\n",
       "      <td>25.162040</td>\n",
       "      <td>26.466448</td>\n",
       "      <td>27.688554</td>\n",
       "      <td>29.257302</td>\n",
       "      <td>30.743357</td>\n",
       "      <td>32.325010</td>\n",
       "      <td>33.859343</td>\n",
       "      <td>35.609153</td>\n",
       "      <td>37.344505</td>\n",
       "      <td>39.140003</td>\n",
       "      <td>40.961947</td>\n",
       "      <td>43.021149</td>\n",
       "    </tr>\n",
       "    <tr>\n",
       "      <th>2020</th>\n",
       "      <td>1.140686</td>\n",
       "      <td>0.985540</td>\n",
       "      <td>0.801269</td>\n",
       "      <td>0.660157</td>\n",
       "      <td>0.469649</td>\n",
       "      <td>0.284018</td>\n",
       "      <td>0.104077</td>\n",
       "      <td>0.124042</td>\n",
       "      <td>0.311886</td>\n",
       "      <td>0.527892</td>\n",
       "      <td>0.760854</td>\n",
       "      <td>0.985119</td>\n",
       "      <td>1.226775</td>\n",
       "      <td>1.477790</td>\n",
       "      <td>1.719467</td>\n",
       "      <td>1.999124</td>\n",
       "      <td>2.272914</td>\n",
       "      <td>2.606854</td>\n",
       "      <td>2.890439</td>\n",
       "      <td>3.221429</td>\n",
       "    </tr>\n",
       "    <tr>\n",
       "      <th>Period Total</th>\n",
       "      <td>22.304900</td>\n",
       "      <td>25.639281</td>\n",
       "      <td>29.041663</td>\n",
       "      <td>32.619629</td>\n",
       "      <td>36.434073</td>\n",
       "      <td>40.313220</td>\n",
       "      <td>44.167499</td>\n",
       "      <td>48.317584</td>\n",
       "      <td>52.479124</td>\n",
       "      <td>56.812991</td>\n",
       "      <td>61.329961</td>\n",
       "      <td>65.729855</td>\n",
       "      <td>70.306972</td>\n",
       "      <td>75.027201</td>\n",
       "      <td>79.804327</td>\n",
       "      <td>84.725386</td>\n",
       "      <td>89.695822</td>\n",
       "      <td>94.737085</td>\n",
       "      <td>99.878432</td>\n",
       "      <td>105.001148</td>\n",
       "    </tr>\n",
       "  </tbody>\n",
       "</table>\n",
       "</div>"
      ],
      "text/plain": [
       "              0% Equities:100 % Bonds  5% Equities:95 % Bonds  \\\n",
       "2015                         3.277656                3.029254   \n",
       "2016                         8.836834                9.224692   \n",
       "2017                         7.242286                8.216836   \n",
       "2018                         3.449771                3.498633   \n",
       "2019                        16.989370               17.881960   \n",
       "2020                         1.140686                0.985540   \n",
       "Period Total                22.304900               25.639281   \n",
       "\n",
       "              10% Equities:90 % Bonds  15% Equities:85 % Bonds  \\\n",
       "2015                         2.935912                 3.012081   \n",
       "2016                         9.761782                10.424354   \n",
       "2017                         9.146438                10.144082   \n",
       "2018                         3.786160                 4.362841   \n",
       "2019                        18.681932                19.616551   \n",
       "2020                         0.801269                 0.660157   \n",
       "Period Total                29.041663                32.619629   \n",
       "\n",
       "              20% Equities:80 % Bonds  25% Equities:75 % Bonds  \\\n",
       "2015                         3.245849                 3.606701   \n",
       "2016                        11.185307                12.027358   \n",
       "2017                        11.188730                12.254838   \n",
       "2018                         5.096592                 5.961163   \n",
       "2019                        20.506505                21.540432   \n",
       "2020                         0.469649                 0.284018   \n",
       "Period Total                36.434073                40.313220   \n",
       "\n",
       "              30% Equities:70 % Bonds  35% Equities:65 % Bonds  \\\n",
       "2015                         3.945337                 4.461794   \n",
       "2016                        12.773275                13.727919   \n",
       "2017                        13.387686                14.546961   \n",
       "2018                         7.068197                 8.080240   \n",
       "2019                        22.732844                23.854939   \n",
       "2020                         0.104077                 0.124042   \n",
       "Period Total                44.167499                48.317584   \n",
       "\n",
       "              40% Equities:60 % Bonds  45% Equities:55 % Bonds  \\\n",
       "2015                         5.027949                 5.627026   \n",
       "2016                        14.731020                15.773024   \n",
       "2017                        15.723672                16.940761   \n",
       "2018                         9.321912                10.542703   \n",
       "2019                        25.162040                26.466448   \n",
       "2020                         0.311886                 0.527892   \n",
       "Period Total                52.479124                56.812991   \n",
       "\n",
       "              50% Equities:50 % Bonds  55% Equities:45 % Bonds  \\\n",
       "2015                         6.246685                 6.886082   \n",
       "2016                        16.843694                17.941436   \n",
       "2017                        18.162211                19.451127   \n",
       "2018                        11.619484                13.149161   \n",
       "2019                        27.688554                29.257302   \n",
       "2020                         0.760854                 0.985119   \n",
       "Period Total                61.329961                65.729855   \n",
       "\n",
       "              60% Equities:40 % Bonds  65% Equities:35 % Bonds  \\\n",
       "2015                         7.535661                 8.193720   \n",
       "2016                        19.058647                20.198488   \n",
       "2017                        20.742818                22.068244   \n",
       "2018                        14.529898                15.894757   \n",
       "2019                        30.743357                32.325010   \n",
       "2020                         1.226775                 1.477790   \n",
       "Period Total                70.306972                75.027201   \n",
       "\n",
       "              70% Equities:30 % Bonds  75% Equities:25 % Bonds  \\\n",
       "2015                         8.853427                 9.658039   \n",
       "2016                        21.339182                22.704892   \n",
       "2017                        23.421983                24.777168   \n",
       "2018                        17.400765                18.922247   \n",
       "2019                        33.859343                35.609153   \n",
       "2020                         1.719467                 1.999124   \n",
       "Period Total                79.804327                84.725386   \n",
       "\n",
       "              80% Equities:20 % Bonds  85% Equities:15 % Bonds  \\\n",
       "2015                        10.337256                11.020428   \n",
       "2016                        23.887967                25.082713   \n",
       "2017                        26.208308                27.625426   \n",
       "2018                        20.515432                22.160688   \n",
       "2019                        37.344505                39.140003   \n",
       "2020                         2.272914                 2.606854   \n",
       "Period Total                89.695822                94.737085   \n",
       "\n",
       "              90% Equities:10 % Bonds  95% Equities:5 % Bonds  \n",
       "2015                        11.706864               12.396022  \n",
       "2016                        26.293271               27.487891  \n",
       "2017                        29.090577               30.629422  \n",
       "2018                        23.924619               25.725789  \n",
       "2019                        40.961947               43.021149  \n",
       "2020                         2.890439                3.221429  \n",
       "Period Total                99.878432              105.001148  "
      ]
     },
     "execution_count": 104,
     "metadata": {},
     "output_type": "execute_result"
    }
   ],
   "source": [
    "std_df"
   ]
  },
  {
   "cell_type": "code",
   "execution_count": null,
   "metadata": {},
   "outputs": [],
   "source": []
  },
  {
   "cell_type": "code",
   "execution_count": null,
   "metadata": {},
   "outputs": [],
   "source": [
    "# https://www.investopedia.com/terms/p/portfolio-variance.asp"
   ]
  },
  {
   "cell_type": "code",
   "execution_count": null,
   "metadata": {},
   "outputs": [],
   "source": [
    "# Look for biggest monthly/weekly decrease in portfolio value"
   ]
  },
  {
   "cell_type": "code",
   "execution_count": null,
   "metadata": {},
   "outputs": [],
   "source": [
    "# Get the value a few days later\n",
    "\n",
    "portfolio.get_value('2018-05-01')"
   ]
  },
  {
   "cell_type": "code",
   "execution_count": null,
   "metadata": {},
   "outputs": [],
   "source": [
    "portfolio.get_asset_values('2018-05-01')"
   ]
  },
  {
   "cell_type": "code",
   "execution_count": null,
   "metadata": {},
   "outputs": [],
   "source": [
    "portfolio.asset_values"
   ]
  },
  {
   "cell_type": "code",
   "execution_count": null,
   "metadata": {},
   "outputs": [],
   "source": [
    "for share in portfolio.shares:\n",
    "    print(share.div.index)"
   ]
  },
  {
   "cell_type": "code",
   "execution_count": null,
   "metadata": {},
   "outputs": [],
   "source": [
    "portfolio.reinvest_divs('2018-05-01')"
   ]
  },
  {
   "cell_type": "code",
   "execution_count": null,
   "metadata": {},
   "outputs": [],
   "source": [
    "# import sys\n",
    "# !{sys.executable} -m pip install pandas_datareader"
   ]
  },
  {
   "cell_type": "code",
   "execution_count": null,
   "metadata": {},
   "outputs": [],
   "source": [
    "## This is useful:\n",
    "#https://jakevdp.github.io/PythonDataScienceHandbook/03.11-working-with-time-series.html"
   ]
  },
  {
   "cell_type": "code",
   "execution_count": null,
   "metadata": {},
   "outputs": [],
   "source": [
    "bnd = web.DataReader('BND', 'yahoo', start='2015-10-30', end='2020-10-30')"
   ]
  },
  {
   "cell_type": "code",
   "execution_count": null,
   "metadata": {},
   "outputs": [],
   "source": [
    "sp = web.DataReader('VOO', 'yahoo', start='2015-10-30', end='2020-10-30')"
   ]
  },
  {
   "cell_type": "code",
   "execution_count": null,
   "metadata": {},
   "outputs": [],
   "source": [
    "sp.head(3)"
   ]
  },
  {
   "cell_type": "code",
   "execution_count": null,
   "metadata": {},
   "outputs": [],
   "source": [
    "bnd.head(3)"
   ]
  },
  {
   "cell_type": "code",
   "execution_count": null,
   "metadata": {},
   "outputs": [],
   "source": [
    "bnd.loc['2017-07-07']['High']"
   ]
  },
  {
   "cell_type": "code",
   "execution_count": null,
   "metadata": {},
   "outputs": [],
   "source": [
    "# Import dividend records\n",
    "bnd_div = web.DataReader('BND', 'yahoo-dividends', start='2015-10-30', end='2020-10-30')\n",
    "sp_div = web.DataReader('VOO', 'yahoo-dividends', start='2015-10-30', end='2020-10-30')"
   ]
  },
  {
   "cell_type": "code",
   "execution_count": null,
   "metadata": {},
   "outputs": [],
   "source": [
    "bnd_div.head(3)"
   ]
  },
  {
   "cell_type": "code",
   "execution_count": null,
   "metadata": {},
   "outputs": [],
   "source": [
    "sp_div.head(3)"
   ]
  },
  {
   "cell_type": "code",
   "execution_count": null,
   "metadata": {},
   "outputs": [],
   "source": [
    "sp_div.value.loc['2020-09-29']"
   ]
  },
  {
   "cell_type": "code",
   "execution_count": null,
   "metadata": {},
   "outputs": [],
   "source": [
    "sp_div[sp_div.index < pd.to_datetime('2016-01-01')]"
   ]
  },
  {
   "cell_type": "code",
   "execution_count": null,
   "metadata": {},
   "outputs": [],
   "source": [
    "sp_div.index"
   ]
  },
  {
   "cell_type": "code",
   "execution_count": null,
   "metadata": {},
   "outputs": [],
   "source": [
    "str('sp')+str('_div')"
   ]
  },
  {
   "cell_type": "code",
   "execution_count": null,
   "metadata": {},
   "outputs": [],
   "source": [
    "Assets = {}\n",
    "Assets['Bonds'] = bnd\n",
    "Assets['Equities'] = sp"
   ]
  },
  {
   "cell_type": "code",
   "execution_count": null,
   "metadata": {},
   "outputs": [],
   "source": [
    "Dividends"
   ]
  },
  {
   "cell_type": "code",
   "execution_count": null,
   "metadata": {},
   "outputs": [],
   "source": [
    "# Maybe it is worth merging the dividend and share price files together for easier reference?\n",
    "# Or build a dictionary to allow easy mapping?"
   ]
  },
  {
   "cell_type": "code",
   "execution_count": null,
   "metadata": {},
   "outputs": [],
   "source": []
  },
  {
   "cell_type": "markdown",
   "metadata": {},
   "source": [
    "## 1. Calculate Value Given a Start and End Date"
   ]
  },
  {
   "cell_type": "code",
   "execution_count": null,
   "metadata": {},
   "outputs": [],
   "source": [
    "start_date = '2015-11-20'\n",
    "end_date = "
   ]
  },
  {
   "cell_type": "code",
   "execution_count": null,
   "metadata": {},
   "outputs": [],
   "source": [
    "def calc_value(share, divs, start, end, initial_value):\n",
    "    # Take the average of the day's high and low for starting share price\n",
    "    num_shares = initial_value/np.mean([share.loc[start]['Low'],share.loc[start]['High']])\n",
    "    divs = divs[(divs.index <= pd.to_datetime(end)) & (divs.index >= pd.to_datetime(start))]\n",
    "    for date in divs.index:\n",
    "        price = np.mean([share.High.loc[date], share.Low.loc[date]])\n",
    "        div_value = divs.value.loc[date]\n",
    "        num_shares += div_value/price\n",
    "    output = {}\n",
    "    output['Value'] = num_shares*np.mean([share.loc[end]['Low'],share.loc[end]['High']])\n",
    "    output['ROI'] = output['Value']-initial_value\n",
    "    return(output)\n",
    "    \n",
    "    # Will need to factor in other actions later, but this will work for now\n",
    "    \n",
    "    \n"
   ]
  },
  {
   "cell_type": "code",
   "execution_count": null,
   "metadata": {},
   "outputs": [],
   "source": [
    "calc_value(sp,sp_div, '2015-11-20', '2017-11-20',100)"
   ]
  },
  {
   "cell_type": "code",
   "execution_count": null,
   "metadata": {},
   "outputs": [],
   "source": [
    "calc_value(bnd,bnd_div, '2015-11-20', '2017-11-20',100)"
   ]
  },
  {
   "cell_type": "code",
   "execution_count": null,
   "metadata": {},
   "outputs": [],
   "source": [
    "sp.Close.plot()"
   ]
  },
  {
   "cell_type": "code",
   "execution_count": null,
   "metadata": {},
   "outputs": [],
   "source": [
    "bnd.Close.plot()"
   ]
  },
  {
   "cell_type": "code",
   "execution_count": null,
   "metadata": {},
   "outputs": [],
   "source": [
    "# Identify the ROI with different asset distributions"
   ]
  },
  {
   "cell_type": "code",
   "execution_count": null,
   "metadata": {},
   "outputs": [],
   "source": [
    "class Share:\n",
    "\n",
    "    def __init__(self, name, asset_type):\n",
    "        \"\"\"Initialize attributes.\"\"\"\n",
    "        self.name = name\n",
    "        self.type = asset_type\n",
    "        #self.amount = amount\n",
    "        \n",
    "    def get_value(self, date):\n",
    "        df = web.DataReader(self.name, 'yahoo', start=date, end=date)\n",
    "        return round(df.loc[date,'Close'],2)\n",
    "    "
   ]
  },
  {
   "cell_type": "code",
   "execution_count": null,
   "metadata": {},
   "outputs": [],
   "source": []
  },
  {
   "cell_type": "code",
   "execution_count": null,
   "metadata": {},
   "outputs": [],
   "source": [
    "bnd = Share('BND','Bond')"
   ]
  },
  {
   "cell_type": "code",
   "execution_count": null,
   "metadata": {},
   "outputs": [],
   "source": [
    "sp = Share('VOO','Equity')"
   ]
  },
  {
   "cell_type": "code",
   "execution_count": null,
   "metadata": {},
   "outputs": [],
   "source": [
    "class Strategy:\n",
    "    \n",
    "    def __init__(self,equity_distribution, bond_distribution, cash_distribution, threshold):\n",
    "        self.equity_distribution = equity_distribution\n",
    "        self.bond_distribution = bond_distribution\n",
    "        self.cash_distribution = 100-(equity_distribution+bond_distribution)\n",
    "        self.threshold = threshold\n",
    "    "
   ]
  },
  {
   "cell_type": "code",
   "execution_count": null,
   "metadata": {},
   "outputs": [],
   "source": [
    "class Portfolio:\n",
    "    \n",
    "    def __init__(self):\n",
    "        self.shares = {}\n",
    "        self.log = {}\n",
    "        self.cash_bal = 0\n",
    "        self.asset_split = {'Equities': None,'Bonds': None,'Cash': None}\n",
    "        self.asset_values = {'Equities': None,'Bonds': None,'Cash': None}\n",
    "        \n",
    "    def buy(self, share, amount, date):\n",
    "        purchase_price = share.get_value(date)\n",
    "        shares = amount/purchase_price\n",
    "        # Record the transaction\n",
    "        self.log[len(self.log)] = ['Buy',share,amount,purchase_price,shares,date]\n",
    "        # Add the number of shares\n",
    "        if share in self.shares:\n",
    "            self.shares[share] += shares\n",
    "        elif share not in self.shares:\n",
    "            self.shares[share] = shares\n",
    "            \n",
    "    def sell(self, share, amount, date):\n",
    "        sell_price = share.get_value(date)\n",
    "        shares = amount/sell_price\n",
    "        # Record the transaction\n",
    "        self.log[len(self.log)] = ['Sell',share,amount,sell_price,shares,date]\n",
    "        # Add the number of shares\n",
    "        if share in self.shares:\n",
    "            self.shares[share] -= shares\n",
    "        elif share not in self.shares:\n",
    "            self.shares[share] = shares\n",
    "        cash_bal += amount\n",
    "        \n",
    "            \n",
    "    def get_value(self,date):\n",
    "        value = self.cash_bal\n",
    "        # Iterate through the 'shares' attribute and get the current value for each 'Share' object\n",
    "        for share in self.shares:\n",
    "            value += share.get_value(date)*self.shares[share]\n",
    "        return(value)\n",
    "    \n",
    "    def get_asset_values(self,date):\n",
    "        bond_val = 0\n",
    "        eq_val = 0\n",
    "        for share in self.shares:\n",
    "            if share.type == 'Bond':\n",
    "                bond_val += share.get_value(date)*self.shares[share]\n",
    "            elif share.type == 'Equity':\n",
    "                eq_val += share.get_value(date)*self.shares[share]\n",
    "        total = bond_val+eq_val+self.cash_bal\n",
    "        self.asset_values = {'Equities': eq_val,'Bonds': bond_val,'Cash': self.cash_bal}\n",
    "        self.asset_split = {'Equities': (eq_val/total)*100,'Bonds': (bond_val/total)*100,'Cash': (self.cash_bal/total)*100}\n",
    "            \n",
    "        \n",
    "    "
   ]
  },
  {
   "cell_type": "code",
   "execution_count": null,
   "metadata": {},
   "outputs": [],
   "source": [
    "portfolio = Portfolio()"
   ]
  },
  {
   "cell_type": "code",
   "execution_count": null,
   "metadata": {},
   "outputs": [],
   "source": [
    "portfolio.get_value)"
   ]
  },
  {
   "cell_type": "code",
   "execution_count": null,
   "metadata": {},
   "outputs": [],
   "source": [
    "# Calculate portfolio value\n",
    "\n",
    "start_date = '2015-11-20'\n",
    "end_date = '2020-11-20'\n",
    "\n",
    "portfolio.buy(sp,750,start_date)\n",
    "portfolio.buy(bnd,250,start_date)\n",
    "\n",
    "portfolio.get_value(end_date)"
   ]
  },
  {
   "cell_type": "code",
   "execution_count": null,
   "metadata": {},
   "outputs": [],
   "source": [
    "bond = web.DataReader('BND', 'yahoo', start='2015-10-30', end='2020-10-30')"
   ]
  },
  {
   "cell_type": "code",
   "execution_count": null,
   "metadata": {},
   "outputs": [],
   "source": [
    "dates = list(bond.index)"
   ]
  },
  {
   "cell_type": "code",
   "execution_count": null,
   "metadata": {},
   "outputs": [],
   "source": [
    "dates = [x.strftime('%Y-%m-%d') for x in dates]"
   ]
  },
  {
   "cell_type": "code",
   "execution_count": null,
   "metadata": {},
   "outputs": [],
   "source": [
    "# Deploy balancing strategy\n",
    "\n",
    "strategy = Strategy(75,25,0,1)\n",
    "\n",
    "# Initial Purchase (manually allocated proportions)\n",
    "portfolio = Portfolio() \n",
    "portfolio.buy(sp,750,start_date)\n",
    "portfolio.buy(bnd,250,start_date)\n",
    "\n",
    "for date in dates:\n",
    "    portfolio.get_asset_values(date)\n",
    "    if portfolio.asset_split['Equities'] > strategy.equity_distribution+strategy.threshold:\n",
    "        amount_to_sell = (portfolio.asset_split['Equities']-strategy.equity_distribution)*portfolio.asset_values['Equities']\n",
    "        portfolio.sell(sp,amount_to_sell,date)\n",
    "        portfolio.buy(bnd,amount_to_sell,date)\n",
    "        \n",
    "\n",
    "    "
   ]
  },
  {
   "cell_type": "code",
   "execution_count": null,
   "metadata": {},
   "outputs": [],
   "source": [
    "portfolio.get_asset_values('2019-10-29')"
   ]
  },
  {
   "cell_type": "code",
   "execution_count": null,
   "metadata": {},
   "outputs": [],
   "source": [
    "portfolio.asset_split['Equities']"
   ]
  },
  {
   "cell_type": "code",
   "execution_count": null,
   "metadata": {},
   "outputs": [],
   "source": []
  }
 ],
 "metadata": {
  "kernelspec": {
   "display_name": "Python 3",
   "language": "python",
   "name": "python3"
  },
  "language_info": {
   "codemirror_mode": {
    "name": "ipython",
    "version": 3
   },
   "file_extension": ".py",
   "mimetype": "text/x-python",
   "name": "python",
   "nbconvert_exporter": "python",
   "pygments_lexer": "ipython3",
   "version": "3.6.9"
  }
 },
 "nbformat": 4,
 "nbformat_minor": 4
}

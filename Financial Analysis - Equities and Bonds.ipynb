{
 "cells": [
  {
   "cell_type": "markdown",
   "metadata": {},
   "source": [
    "## 0. Import Modules and Data"
   ]
  },
  {
   "cell_type": "code",
   "execution_count": 1,
   "metadata": {},
   "outputs": [],
   "source": [
    "import pandas as pd\n",
    "import numpy as np\n",
    "from pandas_datareader import data\n",
    "import pandas_datareader.data as web\n",
    "import datetime as dt"
   ]
  },
  {
   "cell_type": "code",
   "execution_count": 2,
   "metadata": {},
   "outputs": [],
   "source": [
    "import Portfolio as port # This is from the Portfolio.py file with the different classes defined"
   ]
  },
  {
   "cell_type": "markdown",
   "metadata": {},
   "source": [
    "## 1. Set-up Portfolio Strategy"
   ]
  },
  {
   "cell_type": "code",
   "execution_count": 3,
   "metadata": {},
   "outputs": [],
   "source": [
    "# Define start date and end date\n",
    "\n",
    "start_date = '2018-01-01'\n",
    "\n",
    "end_date = '2020-01-01'"
   ]
  },
  {
   "cell_type": "code",
   "execution_count": 4,
   "metadata": {},
   "outputs": [],
   "source": [
    "# Define Shares\n",
    "\n",
    "# Provide the name of the ticker and type (Equity or Bond)\n",
    "\n",
    "voo = port.Share('VOO', 'Equity')\n",
    "bnd = port.Share('BND', 'Bond')"
   ]
  },
  {
   "cell_type": "code",
   "execution_count": 5,
   "metadata": {},
   "outputs": [
    {
     "data": {
      "text/plain": [
       "247.09"
      ]
     },
     "execution_count": 5,
     "metadata": {},
     "output_type": "execute_result"
    }
   ],
   "source": [
    "voo.get_value(start_date)"
   ]
  },
  {
   "cell_type": "code",
   "execution_count": 6,
   "metadata": {},
   "outputs": [
    {
     "data": {
      "text/plain": [
       "278.55"
      ]
     },
     "execution_count": 6,
     "metadata": {},
     "output_type": "execute_result"
    }
   ],
   "source": [
    "voo.get_value('2019-10-31')"
   ]
  },
  {
   "cell_type": "code",
   "execution_count": 12,
   "metadata": {},
   "outputs": [
    {
     "data": {
      "text/html": [
       "<div>\n",
       "<style scoped>\n",
       "    .dataframe tbody tr th:only-of-type {\n",
       "        vertical-align: middle;\n",
       "    }\n",
       "\n",
       "    .dataframe tbody tr th {\n",
       "        vertical-align: top;\n",
       "    }\n",
       "\n",
       "    .dataframe thead th {\n",
       "        text-align: right;\n",
       "    }\n",
       "</style>\n",
       "<table border=\"1\" class=\"dataframe\">\n",
       "  <thead>\n",
       "    <tr style=\"text-align: right;\">\n",
       "      <th></th>\n",
       "      <th>action</th>\n",
       "      <th>value</th>\n",
       "    </tr>\n",
       "  </thead>\n",
       "  <tbody>\n",
       "    <tr>\n",
       "      <th>2019-12-23</th>\n",
       "      <td>DIVIDEND</td>\n",
       "      <td>1.429</td>\n",
       "    </tr>\n",
       "    <tr>\n",
       "      <th>2019-09-26</th>\n",
       "      <td>DIVIDEND</td>\n",
       "      <td>1.301</td>\n",
       "    </tr>\n",
       "    <tr>\n",
       "      <th>2019-06-27</th>\n",
       "      <td>DIVIDEND</td>\n",
       "      <td>1.386</td>\n",
       "    </tr>\n",
       "    <tr>\n",
       "      <th>2019-03-21</th>\n",
       "      <td>DIVIDEND</td>\n",
       "      <td>1.455</td>\n",
       "    </tr>\n",
       "    <tr>\n",
       "      <th>2018-12-17</th>\n",
       "      <td>DIVIDEND</td>\n",
       "      <td>1.289</td>\n",
       "    </tr>\n",
       "    <tr>\n",
       "      <th>2018-09-26</th>\n",
       "      <td>DIVIDEND</td>\n",
       "      <td>1.207</td>\n",
       "    </tr>\n",
       "    <tr>\n",
       "      <th>2018-06-28</th>\n",
       "      <td>DIVIDEND</td>\n",
       "      <td>1.157</td>\n",
       "    </tr>\n",
       "    <tr>\n",
       "      <th>2018-03-26</th>\n",
       "      <td>DIVIDEND</td>\n",
       "      <td>1.084</td>\n",
       "    </tr>\n",
       "    <tr>\n",
       "      <th>2017-12-26</th>\n",
       "      <td>DIVIDEND</td>\n",
       "      <td>1.184</td>\n",
       "    </tr>\n",
       "    <tr>\n",
       "      <th>2017-09-20</th>\n",
       "      <td>DIVIDEND</td>\n",
       "      <td>1.176</td>\n",
       "    </tr>\n",
       "    <tr>\n",
       "      <th>2017-06-23</th>\n",
       "      <td>DIVIDEND</td>\n",
       "      <td>1.010</td>\n",
       "    </tr>\n",
       "    <tr>\n",
       "      <th>2017-03-22</th>\n",
       "      <td>DIVIDEND</td>\n",
       "      <td>0.998</td>\n",
       "    </tr>\n",
       "    <tr>\n",
       "      <th>2016-12-22</th>\n",
       "      <td>DIVIDEND</td>\n",
       "      <td>1.296</td>\n",
       "    </tr>\n",
       "    <tr>\n",
       "      <th>2016-09-13</th>\n",
       "      <td>DIVIDEND</td>\n",
       "      <td>0.883</td>\n",
       "    </tr>\n",
       "    <tr>\n",
       "      <th>2016-06-21</th>\n",
       "      <td>DIVIDEND</td>\n",
       "      <td>0.953</td>\n",
       "    </tr>\n",
       "    <tr>\n",
       "      <th>2016-03-21</th>\n",
       "      <td>DIVIDEND</td>\n",
       "      <td>1.006</td>\n",
       "    </tr>\n",
       "    <tr>\n",
       "      <th>2015-12-21</th>\n",
       "      <td>DIVIDEND</td>\n",
       "      <td>1.092</td>\n",
       "    </tr>\n",
       "    <tr>\n",
       "      <th>2015-09-21</th>\n",
       "      <td>DIVIDEND</td>\n",
       "      <td>0.953</td>\n",
       "    </tr>\n",
       "    <tr>\n",
       "      <th>2015-06-22</th>\n",
       "      <td>DIVIDEND</td>\n",
       "      <td>0.902</td>\n",
       "    </tr>\n",
       "    <tr>\n",
       "      <th>2015-03-23</th>\n",
       "      <td>DIVIDEND</td>\n",
       "      <td>0.984</td>\n",
       "    </tr>\n",
       "    <tr>\n",
       "      <th>2014-09-22</th>\n",
       "      <td>DIVIDEND</td>\n",
       "      <td>0.876</td>\n",
       "    </tr>\n",
       "    <tr>\n",
       "      <th>2014-06-23</th>\n",
       "      <td>DIVIDEND</td>\n",
       "      <td>0.809</td>\n",
       "    </tr>\n",
       "    <tr>\n",
       "      <th>2014-03-24</th>\n",
       "      <td>DIVIDEND</td>\n",
       "      <td>0.779</td>\n",
       "    </tr>\n",
       "    <tr>\n",
       "      <th>2013-12-24</th>\n",
       "      <td>DIVIDEND</td>\n",
       "      <td>0.914</td>\n",
       "    </tr>\n",
       "    <tr>\n",
       "      <th>2013-09-23</th>\n",
       "      <td>DIVIDEND</td>\n",
       "      <td>0.786</td>\n",
       "    </tr>\n",
       "    <tr>\n",
       "      <th>2013-06-24</th>\n",
       "      <td>DIVIDEND</td>\n",
       "      <td>0.738</td>\n",
       "    </tr>\n",
       "    <tr>\n",
       "      <th>2013-03-22</th>\n",
       "      <td>DIVIDEND</td>\n",
       "      <td>0.670</td>\n",
       "    </tr>\n",
       "    <tr>\n",
       "      <th>2012-12-24</th>\n",
       "      <td>DIVIDEND</td>\n",
       "      <td>0.940</td>\n",
       "    </tr>\n",
       "    <tr>\n",
       "      <th>2012-09-24</th>\n",
       "      <td>DIVIDEND</td>\n",
       "      <td>0.686</td>\n",
       "    </tr>\n",
       "    <tr>\n",
       "      <th>2012-06-25</th>\n",
       "      <td>DIVIDEND</td>\n",
       "      <td>0.640</td>\n",
       "    </tr>\n",
       "    <tr>\n",
       "      <th>2012-03-26</th>\n",
       "      <td>DIVIDEND</td>\n",
       "      <td>0.570</td>\n",
       "    </tr>\n",
       "    <tr>\n",
       "      <th>2011-12-23</th>\n",
       "      <td>DIVIDEND</td>\n",
       "      <td>0.686</td>\n",
       "    </tr>\n",
       "    <tr>\n",
       "      <th>2011-09-23</th>\n",
       "      <td>DIVIDEND</td>\n",
       "      <td>0.580</td>\n",
       "    </tr>\n",
       "    <tr>\n",
       "      <th>2011-06-24</th>\n",
       "      <td>DIVIDEND</td>\n",
       "      <td>0.570</td>\n",
       "    </tr>\n",
       "    <tr>\n",
       "      <th>2011-03-25</th>\n",
       "      <td>DIVIDEND</td>\n",
       "      <td>0.536</td>\n",
       "    </tr>\n",
       "    <tr>\n",
       "      <th>2010-12-27</th>\n",
       "      <td>DIVIDEND</td>\n",
       "      <td>0.526</td>\n",
       "    </tr>\n",
       "    <tr>\n",
       "      <th>2010-09-24</th>\n",
       "      <td>DIVIDEND</td>\n",
       "      <td>0.558</td>\n",
       "    </tr>\n",
       "  </tbody>\n",
       "</table>\n",
       "</div>"
      ],
      "text/plain": [
       "              action  value\n",
       "2019-12-23  DIVIDEND  1.429\n",
       "2019-09-26  DIVIDEND  1.301\n",
       "2019-06-27  DIVIDEND  1.386\n",
       "2019-03-21  DIVIDEND  1.455\n",
       "2018-12-17  DIVIDEND  1.289\n",
       "2018-09-26  DIVIDEND  1.207\n",
       "2018-06-28  DIVIDEND  1.157\n",
       "2018-03-26  DIVIDEND  1.084\n",
       "2017-12-26  DIVIDEND  1.184\n",
       "2017-09-20  DIVIDEND  1.176\n",
       "2017-06-23  DIVIDEND  1.010\n",
       "2017-03-22  DIVIDEND  0.998\n",
       "2016-12-22  DIVIDEND  1.296\n",
       "2016-09-13  DIVIDEND  0.883\n",
       "2016-06-21  DIVIDEND  0.953\n",
       "2016-03-21  DIVIDEND  1.006\n",
       "2015-12-21  DIVIDEND  1.092\n",
       "2015-09-21  DIVIDEND  0.953\n",
       "2015-06-22  DIVIDEND  0.902\n",
       "2015-03-23  DIVIDEND  0.984\n",
       "2014-09-22  DIVIDEND  0.876\n",
       "2014-06-23  DIVIDEND  0.809\n",
       "2014-03-24  DIVIDEND  0.779\n",
       "2013-12-24  DIVIDEND  0.914\n",
       "2013-09-23  DIVIDEND  0.786\n",
       "2013-06-24  DIVIDEND  0.738\n",
       "2013-03-22  DIVIDEND  0.670\n",
       "2012-12-24  DIVIDEND  0.940\n",
       "2012-09-24  DIVIDEND  0.686\n",
       "2012-06-25  DIVIDEND  0.640\n",
       "2012-03-26  DIVIDEND  0.570\n",
       "2011-12-23  DIVIDEND  0.686\n",
       "2011-09-23  DIVIDEND  0.580\n",
       "2011-06-24  DIVIDEND  0.570\n",
       "2011-03-25  DIVIDEND  0.536\n",
       "2010-12-27  DIVIDEND  0.526\n",
       "2010-09-24  DIVIDEND  0.558"
      ]
     },
     "execution_count": 12,
     "metadata": {},
     "output_type": "execute_result"
    }
   ],
   "source": [
    "voo.div"
   ]
  },
  {
   "cell_type": "code",
   "execution_count": 7,
   "metadata": {},
   "outputs": [],
   "source": [
    "# Need a way to group the different shares together\n",
    "\n",
    "shares_list = [voo, bnd]\n",
    "\n",
    "shares_dict = {}\n",
    "\n",
    "for share in shares_list:\n",
    "    shares_dict[share] = share.type\n"
   ]
  },
  {
   "cell_type": "code",
   "execution_count": 8,
   "metadata": {},
   "outputs": [
    {
     "data": {
      "text/plain": [
       "{<Portfolio.Share at 0x7f68c8a81a58>: 'Equity',\n",
       " <Portfolio.Share at 0x7f68c8a817b8>: 'Bond'}"
      ]
     },
     "execution_count": 8,
     "metadata": {},
     "output_type": "execute_result"
    }
   ],
   "source": [
    "shares_dict"
   ]
  },
  {
   "cell_type": "code",
   "execution_count": 9,
   "metadata": {},
   "outputs": [],
   "source": [
    "# Define Strategy\n",
    "\n",
    "# Provide the equity distribution, the bond distriubtion, cash distribution, and the threshold\n",
    "strat = port.Strategy(50,50,0,5)"
   ]
  },
  {
   "cell_type": "code",
   "execution_count": 10,
   "metadata": {},
   "outputs": [],
   "source": [
    "# Run portfolio with set start and end dates\n",
    "\n",
    "portfolio = port.Portfolio(shares_dict)\n",
    "\n",
    "portfolio.initial_buy(500, strat, start_date)"
   ]
  },
  {
   "cell_type": "code",
   "execution_count": 13,
   "metadata": {},
   "outputs": [
    {
     "name": "stdout",
     "output_type": "stream",
     "text": [
      "{'Equities': 250.0, 'Bonds': 250.17960553892215, 'Cash': 0}\n",
      "{'Equities': 250.0, 'Bonds': 250.17960553892215, 'Cash': 0}\n",
      "{'Equities': 251.48731231535066, 'Bonds': 250.39490640427405, 'Cash': 0}\n",
      "{'Equities': 252.59014933829778, 'Bonds': 250.27187733835868, 'Cash': 0}\n",
      "{'Equities': 254.2089926747339, 'Bonds': 249.9335474070914, 'Cash': 0}\n",
      "{'Equities': 254.73511675907565, 'Bonds': 249.9643046735702, 'Cash': 0}\n",
      "{'Equities': 254.73511675907565, 'Bonds': 249.9643046735702, 'Cash': 0}\n",
      "{'Equities': 254.73511675907565, 'Bonds': 249.9643046735702, 'Cash': 0}\n",
      "{'Equities': 255.2713586142701, 'Bonds': 249.22613027807796, 'Cash': 0}\n",
      "{'Equities': 254.8362944676029, 'Bonds': 249.25688754455683, 'Cash': 0}\n",
      "{'Equities': 256.71819984620987, 'Bonds': 249.25688754455683, 'Cash': 0}\n",
      "{'Equities': 258.4179853494678, 'Bonds': 249.22613027807796, 'Cash': 0}\n",
      "{'Equities': 257.4770326601643, 'Bonds': 249.41067387695105, 'Cash': 0}\n",
      "{'Equities': 257.4770326601643, 'Bonds': 249.41067387695105, 'Cash': 0}\n",
      "{'Equities': 257.4770326601643, 'Bonds': 249.41067387695105, 'Cash': 0}\n",
      "{'Equities': 257.4770326601643, 'Bonds': 249.41067387695105, 'Cash': 0}\n",
      "{'Equities': 259.9660042899348, 'Bonds': 249.13385847864143, 'Cash': 0}\n",
      "{'Equities': 259.6118823100894, 'Bonds': 248.64174221497993, 'Cash': 0}\n",
      "{'Equities': 260.71471933303656, 'Bonds': 248.11886868483955, 'Cash': 0}\n",
      "{'Equities': 262.80909789955075, 'Bonds': 247.9343250859665, 'Cash': 0}\n",
      "{'Equities': 262.80909789955075, 'Bonds': 247.9343250859665, 'Cash': 0}\n",
      "{'Equities': 262.80909789955075, 'Bonds': 247.9343250859665, 'Cash': 0}\n",
      "{'Equities': 263.40604637986155, 'Bonds': 248.5802276820222, 'Cash': 0}\n",
      "{'Equities': 263.2745153587761, 'Bonds': 248.30341228371265, 'Cash': 0}\n",
      "{'Equities': 263.3959286090088, 'Bonds': 248.9800721462472, 'Cash': 0}\n",
      "{'Equities': 266.4616131773848, 'Bonds': 248.51871314906452, 'Cash': 0}\n",
      "{'Equities': 264.62017888218867, 'Bonds': 248.18038321779724, 'Cash': 0}\n",
      "{'Equities': 264.62017888218867, 'Bonds': 248.18038321779724, 'Cash': 0}\n",
      "{'Equities': 264.62017888218867, 'Bonds': 248.18038321779724, 'Cash': 0}\n",
      "{'Equities': 261.7973208142782, 'Bonds': 247.71902422061459, 'Cash': 0}\n",
      "{'Equities': 262.0401473147436, 'Bonds': 247.78053875357227, 'Cash': 0}\n",
      "{'Equities': 261.7770852725728, 'Bonds': 246.72724809441846, 'Cash': 0}\n",
      "{'Equities': 256.17184022016266, 'Bonds': 245.98854375880646, 'Cash': 0}\n",
      "{'Equities': 245.64935853332793, 'Bonds': 247.0658209149073, 'Cash': 0}\n",
      "{'Equities': 245.64935853332793, 'Bonds': 247.0658209149073, 'Cash': 0}\n",
      "{'Equities': 245.64935853332793, 'Bonds': 247.0658209149073, 'Cash': 0}\n",
      "{'Equities': 250.1922376462018, 'Bonds': 246.26555788466098, 'Cash': 0}\n",
      "{'Equities': 248.8263385810838, 'Bonds': 245.71152963295194, 'Cash': 0}\n",
      "{'Equities': 239.57869602169248, 'Bonds': 245.52685354904892, 'Cash': 0}\n",
      "{'Equities': 243.27168238293737, 'Bonds': 244.91126660270555, 'Cash': 0}\n",
      "{'Equities': 246.61054676433687, 'Bonds': 244.9728252973399, 'Cash': 0}\n",
      "{'Equities': 246.61054676433687, 'Bonds': 244.9728252973399, 'Cash': 0}\n",
      "{'Equities': 246.61054676433687, 'Bonds': 244.9728252973399, 'Cash': 0}\n",
      "{'Equities': 247.44020397426038, 'Bonds': 245.18828072856007, 'Cash': 0}\n",
      "{'Equities': 250.6778906471326, 'Bonds': 244.38801769831372, 'Cash': 0}\n",
      "{'Equities': 253.92569509085757, 'Bonds': 244.63425247685106, 'Cash': 0}\n",
      "{'Equities': 253.89534177829938, 'Bonds': 245.15750138124292, 'Cash': 0}\n",
      "{'Equities': 252.35744060868507, 'Bonds': 244.91126660270555, 'Cash': 0}\n",
      "{'Equities': 252.35744060868507, 'Bonds': 244.91126660270555, 'Cash': 0}\n",
      "{'Equities': 252.35744060868507, 'Bonds': 244.91126660270555, 'Cash': 0}\n",
      "{'Equities': 252.35744060868507, 'Bonds': 244.91126660270555, 'Cash': 0}\n",
      "{'Equities': 251.03201262697803, 'Bonds': 243.9878861831905, 'Cash': 0}\n",
      "{'Equities': 251.3355457525598, 'Bonds': 244.2956796563622, 'Cash': 0}\n",
      "{'Equities': 255.4635962604719, 'Bonds': 244.94204595002273, 'Cash': 0}\n",
      "{'Equities': 258.4078675786151, 'Bonds': 245.06516333929142, 'Cash': 0}\n",
      "{'Equities': 258.4078675786151, 'Bonds': 245.06516333929142, 'Cash': 0}\n",
      "{'Equities': 258.4078675786151, 'Bonds': 245.06516333929142, 'Cash': 0}\n",
      "{'Equities': 255.10947428062647, 'Bonds': 244.54191443489955, 'Cash': 0}\n",
      "{'Equities': 252.27649844186328, 'Bonds': 244.84970790807122, 'Cash': 0}\n",
      "{'Equities': 248.94775183131654, 'Bonds': 244.92236986611974, 'Cash': 0}\n",
      "{'Equities': 250.2731798130236, 'Bonds': 244.4603684139075, 'Cash': 0}\n",
      "{'Equities': 253.14662673519769, 'Bonds': 244.3063679298367, 'Cash': 0}\n",
      "{'Equities': 253.14662673519769, 'Bonds': 244.3063679298367, 'Cash': 0}\n",
      "{'Equities': 253.14662673519769, 'Bonds': 244.3063679298367, 'Cash': 0}\n",
      "{'Equities': 253.78404629891944, 'Bonds': 244.39876822027918, 'Cash': 0}\n",
      "{'Equities': 253.67275081953943, 'Bonds': 244.3371680266509, 'Cash': 0}\n",
      "{'Equities': 254.85653000930833, 'Bonds': 244.61436889797824, 'Cash': 0}\n",
      "{'Equities': 259.26787810109676, 'Bonds': 244.3063679298367, 'Cash': 0}\n",
      "{'Equities': 259.0149338297786, 'Bonds': 244.55276870434994, 'Cash': 0}\n",
      "{'Equities': 259.0149338297786, 'Bonds': 244.55276870434994, 'Cash': 0}\n",
      "{'Equities': 259.0149338297786, 'Bonds': 244.55276870434994, 'Cash': 0}\n",
      "{'Equities': 257.30503055566794, 'Bonds': 244.61436889797824, 'Cash': 0}\n",
      "{'Equities': 255.9492492614027, 'Bonds': 245.1379705438188, 'Cash': 0}\n",
      "{'Equities': 255.7064227609373, 'Bonds': 245.1687706406329, 'Cash': 0}\n",
      "{'Equities': 255.96948480310817, 'Bonds': 244.95316996293388, 'Cash': 0}\n",
      "{'Equities': 252.54967825488689, 'Bonds': 244.76836938204897, 'Cash': 0}\n",
      "{'Equities': 252.54967825488689, 'Bonds': 244.76836938204897, 'Cash': 0}\n",
      "{'Equities': 252.54967825488689, 'Bonds': 244.76836938204897, 'Cash': 0}\n",
      "{'Equities': 252.99486017240682, 'Bonds': 244.4603684139075, 'Cash': 0}\n",
      "{'Equities': 252.40802946294872, 'Bonds': 244.4603684139075, 'Cash': 0}\n",
      "{'Equities': 246.13501153425878, 'Bonds': 244.86076967249144, 'Cash': 0}\n",
      "{'Equities': 240.89400623254684, 'Bonds': 244.92236986611974, 'Cash': 0}\n",
      "{'Equities': 246.39807357642962, 'Bonds': 244.76836938204897, 'Cash': 0}\n",
      "{'Equities': 246.39807357642962, 'Bonds': 244.76836938204897, 'Cash': 0}\n",
      "{'Equities': 247.48207357642966, 'Bonds': 244.76836938204897, 'Cash': 0}\n",
      "{'Equities': 243.19359022533314, 'Bonds': 245.59997199603103, 'Cash': 0}\n",
      "{'Equities': 242.5127172762254, 'Bonds': 245.5691718992169, 'Cash': 0}\n",
      "{'Equities': 246.00854256716664, 'Bonds': 246.1851738354999, 'Cash': 0}\n",
      "{'Equities': 240.31766418656463, 'Bonds': 245.53837180240274, 'Cash': 0}\n",
      "{'Equities': 240.31766418656463, 'Bonds': 245.53837180240274, 'Cash': 0}\n",
      "{'Equities': 240.31766418656463, 'Bonds': 245.53837180240274, 'Cash': 0}\n"
     ]
    }
   ],
   "source": [
    "# Run the portfolio over a series of months\n",
    "\n",
    "time_period = pd.date_range(pd.to_datetime('2018-01-01'),pd.to_datetime('2018-04-01'))\n",
    "\n",
    "for day in time_period:\n",
    "    portfolio.reinvest_divs(day)\n",
    "    portfolio.get_asset_values(day)\n",
    "    "
   ]
  },
  {
   "cell_type": "code",
   "execution_count": 14,
   "metadata": {},
   "outputs": [
    {
     "data": {
      "text/plain": [
       "{0: ['Buy',\n",
       "  <Portfolio.Share at 0x7f68c8a81a58>,\n",
       "  250.0,\n",
       "  247.09,\n",
       "  1.0117770852725727,\n",
       "  '2018-01-01'],\n",
       " 1: ['Buy',\n",
       "  <Portfolio.Share at 0x7f68c8a817b8>,\n",
       "  250.0,\n",
       "  81.34,\n",
       "  3.0735185640521268,\n",
       "  '2018-01-01'],\n",
       " 2: ['Buy',\n",
       "  <Portfolio.Share at 0x7f68c8a817b8>,\n",
       "  0.177,\n",
       "  80.16,\n",
       "  0.002208083832335329,\n",
       "  Timestamp('2018-02-01 00:00:00', freq='D')],\n",
       " 3: ['Buy',\n",
       "  <Portfolio.Share at 0x7f68c8a817b8>,\n",
       "  0.177,\n",
       "  80.16,\n",
       "  0.002208083832335329,\n",
       "  Timestamp('2018-02-01 00:00:00', freq='D')],\n",
       " 4: ['Buy',\n",
       "  <Portfolio.Share at 0x7f68c8a817b8>,\n",
       "  0.165,\n",
       "  79.52,\n",
       "  0.002074949698189135,\n",
       "  Timestamp('2018-03-01 00:00:00', freq='D')],\n",
       " 5: ['Buy',\n",
       "  <Portfolio.Share at 0x7f68c8a81a58>,\n",
       "  1.084,\n",
       "  243.53,\n",
       "  0.004451196977785078,\n",
       "  Timestamp('2018-03-26 00:00:00', freq='D')]}"
      ]
     },
     "execution_count": 14,
     "metadata": {},
     "output_type": "execute_result"
    }
   ],
   "source": [
    "portfolio.log"
   ]
  },
  {
   "cell_type": "code",
   "execution_count": null,
   "metadata": {},
   "outputs": [],
   "source": [
    "time_period"
   ]
  },
  {
   "cell_type": "code",
   "execution_count": null,
   "metadata": {},
   "outputs": [],
   "source": [
    "start_date"
   ]
  },
  {
   "cell_type": "code",
   "execution_count": null,
   "metadata": {},
   "outputs": [],
   "source": [
    "# Get the value a few days later\n",
    "\n",
    "portfolio.get_value('2018-05-01')"
   ]
  },
  {
   "cell_type": "code",
   "execution_count": null,
   "metadata": {},
   "outputs": [],
   "source": [
    "portfolio.get_asset_values('2018-05-01')"
   ]
  },
  {
   "cell_type": "code",
   "execution_count": null,
   "metadata": {},
   "outputs": [],
   "source": [
    "portfolio.asset_values"
   ]
  },
  {
   "cell_type": "code",
   "execution_count": null,
   "metadata": {},
   "outputs": [],
   "source": [
    "for share in portfolio.shares:\n",
    "    print(share.div.index)"
   ]
  },
  {
   "cell_type": "code",
   "execution_count": null,
   "metadata": {},
   "outputs": [],
   "source": [
    "portfolio.reinvest_divs('2018-05-01')"
   ]
  },
  {
   "cell_type": "code",
   "execution_count": null,
   "metadata": {},
   "outputs": [],
   "source": [
    "# import sys\n",
    "# !{sys.executable} -m pip install pandas_datareader"
   ]
  },
  {
   "cell_type": "code",
   "execution_count": null,
   "metadata": {},
   "outputs": [],
   "source": [
    "## This is useful:\n",
    "#https://jakevdp.github.io/PythonDataScienceHandbook/03.11-working-with-time-series.html"
   ]
  },
  {
   "cell_type": "code",
   "execution_count": null,
   "metadata": {},
   "outputs": [],
   "source": [
    "bnd = web.DataReader('BND', 'yahoo', start='2015-10-30', end='2020-10-30')"
   ]
  },
  {
   "cell_type": "code",
   "execution_count": null,
   "metadata": {},
   "outputs": [],
   "source": [
    "sp = web.DataReader('VOO', 'yahoo', start='2015-10-30', end='2020-10-30')"
   ]
  },
  {
   "cell_type": "code",
   "execution_count": null,
   "metadata": {},
   "outputs": [],
   "source": [
    "sp.head(3)"
   ]
  },
  {
   "cell_type": "code",
   "execution_count": null,
   "metadata": {},
   "outputs": [],
   "source": [
    "bnd.head(3)"
   ]
  },
  {
   "cell_type": "code",
   "execution_count": null,
   "metadata": {},
   "outputs": [],
   "source": [
    "bnd.loc['2017-07-07']['High']"
   ]
  },
  {
   "cell_type": "code",
   "execution_count": null,
   "metadata": {},
   "outputs": [],
   "source": [
    "# Import dividend records\n",
    "bnd_div = web.DataReader('BND', 'yahoo-dividends', start='2015-10-30', end='2020-10-30')\n",
    "sp_div = web.DataReader('VOO', 'yahoo-dividends', start='2015-10-30', end='2020-10-30')"
   ]
  },
  {
   "cell_type": "code",
   "execution_count": null,
   "metadata": {},
   "outputs": [],
   "source": [
    "bnd_div.head(3)"
   ]
  },
  {
   "cell_type": "code",
   "execution_count": null,
   "metadata": {},
   "outputs": [],
   "source": [
    "sp_div.head(3)"
   ]
  },
  {
   "cell_type": "code",
   "execution_count": null,
   "metadata": {},
   "outputs": [],
   "source": [
    "sp_div.value.loc['2020-09-29']"
   ]
  },
  {
   "cell_type": "code",
   "execution_count": null,
   "metadata": {},
   "outputs": [],
   "source": [
    "sp_div[sp_div.index < pd.to_datetime('2016-01-01')]"
   ]
  },
  {
   "cell_type": "code",
   "execution_count": null,
   "metadata": {},
   "outputs": [],
   "source": [
    "sp_div.index"
   ]
  },
  {
   "cell_type": "code",
   "execution_count": null,
   "metadata": {},
   "outputs": [],
   "source": [
    "str('sp')+str('_div')"
   ]
  },
  {
   "cell_type": "code",
   "execution_count": null,
   "metadata": {},
   "outputs": [],
   "source": [
    "Assets = {}\n",
    "Assets['Bonds'] = bnd\n",
    "Assets['Equities'] = sp"
   ]
  },
  {
   "cell_type": "code",
   "execution_count": null,
   "metadata": {},
   "outputs": [],
   "source": [
    "Dividends"
   ]
  },
  {
   "cell_type": "code",
   "execution_count": null,
   "metadata": {},
   "outputs": [],
   "source": [
    "# Maybe it is worth merging the dividend and share price files together for easier reference?\n",
    "# Or build a dictionary to allow easy mapping?"
   ]
  },
  {
   "cell_type": "code",
   "execution_count": null,
   "metadata": {},
   "outputs": [],
   "source": []
  },
  {
   "cell_type": "markdown",
   "metadata": {},
   "source": [
    "## 1. Calculate Value Given a Start and End Date"
   ]
  },
  {
   "cell_type": "code",
   "execution_count": null,
   "metadata": {},
   "outputs": [],
   "source": [
    "start_date = '2015-11-20'\n",
    "end_date = "
   ]
  },
  {
   "cell_type": "code",
   "execution_count": null,
   "metadata": {},
   "outputs": [],
   "source": [
    "def calc_value(share, divs, start, end, initial_value):\n",
    "    # Take the average of the day's high and low for starting share price\n",
    "    num_shares = initial_value/np.mean([share.loc[start]['Low'],share.loc[start]['High']])\n",
    "    divs = divs[(divs.index <= pd.to_datetime(end)) & (divs.index >= pd.to_datetime(start))]\n",
    "    for date in divs.index:\n",
    "        price = np.mean([share.High.loc[date], share.Low.loc[date]])\n",
    "        div_value = divs.value.loc[date]\n",
    "        num_shares += div_value/price\n",
    "    output = {}\n",
    "    output['Value'] = num_shares*np.mean([share.loc[end]['Low'],share.loc[end]['High']])\n",
    "    output['ROI'] = output['Value']-initial_value\n",
    "    return(output)\n",
    "    \n",
    "    # Will need to factor in other actions later, but this will work for now\n",
    "    \n",
    "    \n"
   ]
  },
  {
   "cell_type": "code",
   "execution_count": null,
   "metadata": {},
   "outputs": [],
   "source": [
    "calc_value(sp,sp_div, '2015-11-20', '2017-11-20',100)"
   ]
  },
  {
   "cell_type": "code",
   "execution_count": null,
   "metadata": {},
   "outputs": [],
   "source": [
    "calc_value(bnd,bnd_div, '2015-11-20', '2017-11-20',100)"
   ]
  },
  {
   "cell_type": "code",
   "execution_count": null,
   "metadata": {},
   "outputs": [],
   "source": [
    "sp.Close.plot()"
   ]
  },
  {
   "cell_type": "code",
   "execution_count": null,
   "metadata": {},
   "outputs": [],
   "source": [
    "bnd.Close.plot()"
   ]
  },
  {
   "cell_type": "code",
   "execution_count": null,
   "metadata": {},
   "outputs": [],
   "source": [
    "# Identify the ROI with different asset distributions"
   ]
  },
  {
   "cell_type": "code",
   "execution_count": null,
   "metadata": {},
   "outputs": [],
   "source": [
    "class Share:\n",
    "\n",
    "    def __init__(self, name, asset_type):\n",
    "        \"\"\"Initialize attributes.\"\"\"\n",
    "        self.name = name\n",
    "        self.type = asset_type\n",
    "        #self.amount = amount\n",
    "        \n",
    "    def get_value(self, date):\n",
    "        df = web.DataReader(self.name, 'yahoo', start=date, end=date)\n",
    "        return round(df.loc[date,'Close'],2)\n",
    "    "
   ]
  },
  {
   "cell_type": "code",
   "execution_count": null,
   "metadata": {},
   "outputs": [],
   "source": []
  },
  {
   "cell_type": "code",
   "execution_count": null,
   "metadata": {},
   "outputs": [],
   "source": [
    "bnd = Share('BND','Bond')"
   ]
  },
  {
   "cell_type": "code",
   "execution_count": null,
   "metadata": {},
   "outputs": [],
   "source": [
    "sp = Share('VOO','Equity')"
   ]
  },
  {
   "cell_type": "code",
   "execution_count": null,
   "metadata": {},
   "outputs": [],
   "source": [
    "class Strategy:\n",
    "    \n",
    "    def __init__(self,equity_distribution, bond_distribution, cash_distribution, threshold):\n",
    "        self.equity_distribution = equity_distribution\n",
    "        self.bond_distribution = bond_distribution\n",
    "        self.cash_distribution = 100-(equity_distribution+bond_distribution)\n",
    "        self.threshold = threshold\n",
    "    "
   ]
  },
  {
   "cell_type": "code",
   "execution_count": null,
   "metadata": {},
   "outputs": [],
   "source": [
    "class Portfolio:\n",
    "    \n",
    "    def __init__(self):\n",
    "        self.shares = {}\n",
    "        self.log = {}\n",
    "        self.cash_bal = 0\n",
    "        self.asset_split = {'Equities': None,'Bonds': None,'Cash': None}\n",
    "        self.asset_values = {'Equities': None,'Bonds': None,'Cash': None}\n",
    "        \n",
    "    def buy(self, share, amount, date):\n",
    "        purchase_price = share.get_value(date)\n",
    "        shares = amount/purchase_price\n",
    "        # Record the transaction\n",
    "        self.log[len(self.log)] = ['Buy',share,amount,purchase_price,shares,date]\n",
    "        # Add the number of shares\n",
    "        if share in self.shares:\n",
    "            self.shares[share] += shares\n",
    "        elif share not in self.shares:\n",
    "            self.shares[share] = shares\n",
    "            \n",
    "    def sell(self, share, amount, date):\n",
    "        sell_price = share.get_value(date)\n",
    "        shares = amount/sell_price\n",
    "        # Record the transaction\n",
    "        self.log[len(self.log)] = ['Sell',share,amount,sell_price,shares,date]\n",
    "        # Add the number of shares\n",
    "        if share in self.shares:\n",
    "            self.shares[share] -= shares\n",
    "        elif share not in self.shares:\n",
    "            self.shares[share] = shares\n",
    "        cash_bal += amount\n",
    "        \n",
    "            \n",
    "    def get_value(self,date):\n",
    "        value = self.cash_bal\n",
    "        # Iterate through the 'shares' attribute and get the current value for each 'Share' object\n",
    "        for share in self.shares:\n",
    "            value += share.get_value(date)*self.shares[share]\n",
    "        return(value)\n",
    "    \n",
    "    def get_asset_values(self,date):\n",
    "        bond_val = 0\n",
    "        eq_val = 0\n",
    "        for share in self.shares:\n",
    "            if share.type == 'Bond':\n",
    "                bond_val += share.get_value(date)*self.shares[share]\n",
    "            elif share.type == 'Equity':\n",
    "                eq_val += share.get_value(date)*self.shares[share]\n",
    "        total = bond_val+eq_val+self.cash_bal\n",
    "        self.asset_values = {'Equities': eq_val,'Bonds': bond_val,'Cash': self.cash_bal}\n",
    "        self.asset_split = {'Equities': (eq_val/total)*100,'Bonds': (bond_val/total)*100,'Cash': (self.cash_bal/total)*100}\n",
    "            \n",
    "        \n",
    "    "
   ]
  },
  {
   "cell_type": "code",
   "execution_count": null,
   "metadata": {},
   "outputs": [],
   "source": [
    "portfolio = Portfolio()"
   ]
  },
  {
   "cell_type": "code",
   "execution_count": null,
   "metadata": {},
   "outputs": [],
   "source": [
    "portfolio.get_value)"
   ]
  },
  {
   "cell_type": "code",
   "execution_count": null,
   "metadata": {},
   "outputs": [],
   "source": [
    "# Calculate portfolio value\n",
    "\n",
    "start_date = '2015-11-20'\n",
    "end_date = '2020-11-20'\n",
    "\n",
    "portfolio.buy(sp,750,start_date)\n",
    "portfolio.buy(bnd,250,start_date)\n",
    "\n",
    "portfolio.get_value(end_date)"
   ]
  },
  {
   "cell_type": "code",
   "execution_count": null,
   "metadata": {},
   "outputs": [],
   "source": [
    "bond = web.DataReader('BND', 'yahoo', start='2015-10-30', end='2020-10-30')"
   ]
  },
  {
   "cell_type": "code",
   "execution_count": null,
   "metadata": {},
   "outputs": [],
   "source": [
    "dates = list(bond.index)"
   ]
  },
  {
   "cell_type": "code",
   "execution_count": null,
   "metadata": {},
   "outputs": [],
   "source": [
    "dates = [x.strftime('%Y-%m-%d') for x in dates]"
   ]
  },
  {
   "cell_type": "code",
   "execution_count": null,
   "metadata": {},
   "outputs": [],
   "source": [
    "# Deploy balancing strategy\n",
    "\n",
    "strategy = Strategy(75,25,0,1)\n",
    "\n",
    "# Initial Purchase (manually allocated proportions)\n",
    "portfolio = Portfolio() \n",
    "portfolio.buy(sp,750,start_date)\n",
    "portfolio.buy(bnd,250,start_date)\n",
    "\n",
    "for date in dates:\n",
    "    portfolio.get_asset_values(date)\n",
    "    if portfolio.asset_split['Equities'] > strategy.equity_distribution+strategy.threshold:\n",
    "        amount_to_sell = (portfolio.asset_split['Equities']-strategy.equity_distribution)*portfolio.asset_values['Equities']\n",
    "        portfolio.sell(sp,amount_to_sell,date)\n",
    "        portfolio.buy(bnd,amount_to_sell,date)\n",
    "        \n",
    "\n",
    "    "
   ]
  },
  {
   "cell_type": "code",
   "execution_count": null,
   "metadata": {},
   "outputs": [],
   "source": [
    "portfolio.get_asset_values('2019-10-29')"
   ]
  },
  {
   "cell_type": "code",
   "execution_count": null,
   "metadata": {},
   "outputs": [],
   "source": [
    "portfolio.asset_split['Equities']"
   ]
  },
  {
   "cell_type": "code",
   "execution_count": null,
   "metadata": {},
   "outputs": [],
   "source": []
  }
 ],
 "metadata": {
  "kernelspec": {
   "display_name": "Python 3",
   "language": "python",
   "name": "python3"
  },
  "language_info": {
   "codemirror_mode": {
    "name": "ipython",
    "version": 3
   },
   "file_extension": ".py",
   "mimetype": "text/x-python",
   "name": "python",
   "nbconvert_exporter": "python",
   "pygments_lexer": "ipython3",
   "version": "3.6.9"
  }
 },
 "nbformat": 4,
 "nbformat_minor": 4
}

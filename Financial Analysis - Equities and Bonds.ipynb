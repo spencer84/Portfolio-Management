{
 "cells": [
  {
   "cell_type": "markdown",
   "metadata": {},
   "source": [
    "## 0. Import Modules and Data"
   ]
  },
  {
   "cell_type": "code",
   "execution_count": 1,
   "metadata": {},
   "outputs": [],
   "source": [
    "import pandas as pd\n",
    "import numpy as np\n",
    "from pandas_datareader import data\n",
    "import pandas_datareader.data as web\n",
    "import datetime as dt"
   ]
  },
  {
   "cell_type": "code",
   "execution_count": 2,
   "metadata": {},
   "outputs": [],
   "source": [
    "import Portfolio as port # This is from the Portfolio.py file with the different classes defined"
   ]
  },
  {
   "cell_type": "markdown",
   "metadata": {},
   "source": [
    "## 1. Set-up Portfolio Strategy"
   ]
  },
  {
   "cell_type": "code",
   "execution_count": 3,
   "metadata": {},
   "outputs": [],
   "source": [
    "# Define start date and end date\n",
    "\n",
    "start_date = '2015-01-01'\n",
    "\n",
    "end_date = '2020-01-05'"
   ]
  },
  {
   "cell_type": "code",
   "execution_count": 4,
   "metadata": {},
   "outputs": [],
   "source": [
    "# Define Shares\n",
    "\n",
    "# Provide the name of the ticker and type (Equity or Bond)\n",
    "\n",
    "voo = port.Share('VOO', 'Equity', start_date,end_date)\n",
    "bnd = port.Share('BND', 'Bond', start_date, end_date)"
   ]
  },
  {
   "cell_type": "code",
   "execution_count": 5,
   "metadata": {},
   "outputs": [
    {
     "data": {
      "text/plain": [
       "229.99"
      ]
     },
     "execution_count": 5,
     "metadata": {},
     "output_type": "execute_result"
    }
   ],
   "source": [
    "voo.get_value('2019-01-01')"
   ]
  },
  {
   "cell_type": "code",
   "execution_count": 6,
   "metadata": {},
   "outputs": [
    {
     "data": {
      "text/plain": [
       "278.55"
      ]
     },
     "execution_count": 6,
     "metadata": {},
     "output_type": "execute_result"
    }
   ],
   "source": [
    "voo.get_value('2019-10-31')"
   ]
  },
  {
   "cell_type": "code",
   "execution_count": 7,
   "metadata": {},
   "outputs": [],
   "source": [
    "# Need a way to group the different shares together\n",
    "\n",
    "shares_list = [voo, bnd]\n",
    "\n",
    "shares_dict = {}\n",
    "\n",
    "for share in shares_list:\n",
    "    shares_dict[share] = share.type\n"
   ]
  },
  {
   "cell_type": "code",
   "execution_count": 8,
   "metadata": {},
   "outputs": [
    {
     "data": {
      "text/plain": [
       "{<Portfolio.Share at 0x7ffb30adf7b8>: 'Equity',\n",
       " <Portfolio.Share at 0x7ffb30adf8d0>: 'Bond'}"
      ]
     },
     "execution_count": 8,
     "metadata": {},
     "output_type": "execute_result"
    }
   ],
   "source": [
    "shares_dict"
   ]
  },
  {
   "cell_type": "code",
   "execution_count": 9,
   "metadata": {},
   "outputs": [],
   "source": [
    "# Define Strategy\n",
    "\n",
    "# Provide the equity distribution, the bond distriubtion, cash distribution, and the threshold\n",
    "strat = port.Strategy(50,50,0,5)"
   ]
  },
  {
   "cell_type": "code",
   "execution_count": 10,
   "metadata": {},
   "outputs": [],
   "source": [
    "# Run portfolio with set start and end dates\n",
    "\n",
    "portfolio = port.Portfolio(shares_dict)\n",
    "\n",
    "portfolio.initial_buy(500, strat, start_date)"
   ]
  },
  {
   "cell_type": "code",
   "execution_count": 11,
   "metadata": {},
   "outputs": [
    {
     "ename": "TypeError",
     "evalue": "Can only append a dict if ignore_index=True",
     "output_type": "error",
     "traceback": [
      "\u001b[0;31m---------------------------------------------------------------------------\u001b[0m",
      "\u001b[0;31mTypeError\u001b[0m                                 Traceback (most recent call last)",
      "\u001b[0;32m<ipython-input-11-a18b459b8bf4>\u001b[0m in \u001b[0;36m<module>\u001b[0;34m\u001b[0m\n\u001b[0;32m----> 1\u001b[0;31m \u001b[0mportfolio\u001b[0m\u001b[0;34m.\u001b[0m\u001b[0mlog\u001b[0m\u001b[0;34m.\u001b[0m\u001b[0mappend\u001b[0m\u001b[0;34m(\u001b[0m\u001b[0mdict\u001b[0m\u001b[0;34m(\u001b[0m\u001b[0mzip\u001b[0m\u001b[0;34m(\u001b[0m\u001b[0mportfolio\u001b[0m\u001b[0;34m.\u001b[0m\u001b[0mlog\u001b[0m\u001b[0;34m.\u001b[0m\u001b[0mcolumns\u001b[0m\u001b[0;34m,\u001b[0m\u001b[0;34m[\u001b[0m\u001b[0;34m'VOO'\u001b[0m\u001b[0;34m,\u001b[0m\u001b[0;34m'Buy'\u001b[0m\u001b[0;34m,\u001b[0m\u001b[0;34m'2015-01-01'\u001b[0m\u001b[0;34m,\u001b[0m\u001b[0;36m500\u001b[0m\u001b[0;34m]\u001b[0m\u001b[0;34m)\u001b[0m\u001b[0;34m)\u001b[0m\u001b[0;34m)\u001b[0m\u001b[0;34m\u001b[0m\u001b[0;34m\u001b[0m\u001b[0m\n\u001b[0m",
      "\u001b[0;32m/usr/local/lib/python3.6/dist-packages/pandas/core/frame.py\u001b[0m in \u001b[0;36mappend\u001b[0;34m(self, other, ignore_index, verify_integrity, sort)\u001b[0m\n\u001b[1;32m   7698\u001b[0m             \u001b[0;32mif\u001b[0m \u001b[0misinstance\u001b[0m\u001b[0;34m(\u001b[0m\u001b[0mother\u001b[0m\u001b[0;34m,\u001b[0m \u001b[0mdict\u001b[0m\u001b[0;34m)\u001b[0m\u001b[0;34m:\u001b[0m\u001b[0;34m\u001b[0m\u001b[0;34m\u001b[0m\u001b[0m\n\u001b[1;32m   7699\u001b[0m                 \u001b[0;32mif\u001b[0m \u001b[0;32mnot\u001b[0m \u001b[0mignore_index\u001b[0m\u001b[0;34m:\u001b[0m\u001b[0;34m\u001b[0m\u001b[0;34m\u001b[0m\u001b[0m\n\u001b[0;32m-> 7700\u001b[0;31m                     \u001b[0;32mraise\u001b[0m \u001b[0mTypeError\u001b[0m\u001b[0;34m(\u001b[0m\u001b[0;34m\"Can only append a dict if ignore_index=True\"\u001b[0m\u001b[0;34m)\u001b[0m\u001b[0;34m\u001b[0m\u001b[0;34m\u001b[0m\u001b[0m\n\u001b[0m\u001b[1;32m   7701\u001b[0m                 \u001b[0mother\u001b[0m \u001b[0;34m=\u001b[0m \u001b[0mSeries\u001b[0m\u001b[0;34m(\u001b[0m\u001b[0mother\u001b[0m\u001b[0;34m)\u001b[0m\u001b[0;34m\u001b[0m\u001b[0;34m\u001b[0m\u001b[0m\n\u001b[1;32m   7702\u001b[0m             \u001b[0;32mif\u001b[0m \u001b[0mother\u001b[0m\u001b[0;34m.\u001b[0m\u001b[0mname\u001b[0m \u001b[0;32mis\u001b[0m \u001b[0;32mNone\u001b[0m \u001b[0;32mand\u001b[0m \u001b[0;32mnot\u001b[0m \u001b[0mignore_index\u001b[0m\u001b[0;34m:\u001b[0m\u001b[0;34m\u001b[0m\u001b[0;34m\u001b[0m\u001b[0m\n",
      "\u001b[0;31mTypeError\u001b[0m: Can only append a dict if ignore_index=True"
     ]
    }
   ],
   "source": [
    "portfolio.log.append(dict(zip(portfolio.log.columns,['VOO','Buy','2015-01-01',500])))"
   ]
  },
  {
   "cell_type": "code",
   "execution_count": null,
   "metadata": {},
   "outputs": [],
   "source": [
    "portfolio.get_asset_values(start_date)"
   ]
  },
  {
   "cell_type": "code",
   "execution_count": null,
   "metadata": {},
   "outputs": [],
   "source": [
    "portfolio.asset_split"
   ]
  },
  {
   "cell_type": "code",
   "execution_count": null,
   "metadata": {},
   "outputs": [],
   "source": [
    "# Run the portfolio over a series of months\n",
    "\n",
    "time_period = pd.date_range(pd.to_datetime(start_date),pd.to_datetime(end_date))\n",
    "\n",
    "for day in time_period:\n",
    "    print(day)\n",
    "    portfolio.reinvest_divs(day)\n",
    "    portfolio.get_asset_values(day)\n",
    "    print(portfolio.asset_split)\n",
    "    if portfolio.asset_split['Equities'] > strat.equity_distribution+strat.threshold:\n",
    "        sell_amt = (portfolio.asset_values['Equities']+portfolio.asset_values['Bonds'])*((portfolio.asset_split['Equities']-strat.equity_distribution)/100)\n",
    "        sell_amt_per = sell_amt/len(portfolio.equities)\n",
    "        for share in portfolio.equities: # sell equities and buy more bonds\n",
    "            portfolio.sell(share, sell_amt_per, day)\n",
    "        for share in portfolio.bonds:\n",
    "            portfolio.buy(share, sell_amt_per, day)\n",
    "               \n",
    "    if portfolio.asset_split['Bonds'] > strat.bond_distribution+strat.threshold:\n",
    "        sell_amt = (portfolio.asset_values['Equities']+portfolio.asset_values['Bonds'])*(portfolio.asset_split['Bonds']-strat.bond_distribution)\n",
    "        sell_amt_per = sell_amt/len(portfolio.bonds)\n",
    "        for share in portfolio.bonds: # sell bonds and buy more equities\n",
    "            portfolio.sell(share, sell_amt_per, day)\n",
    "        for share in portfolio.bonds:\n",
    "            portfolio.buy(share, sell_amt_per, day)\n",
    "        \n",
    "    "
   ]
  },
  {
   "cell_type": "code",
   "execution_count": null,
   "metadata": {},
   "outputs": [],
   "source": [
    "portfolio.cash_bal"
   ]
  },
  {
   "cell_type": "code",
   "execution_count": null,
   "metadata": {},
   "outputs": [],
   "source": [
    "portfolio.log"
   ]
  },
  {
   "cell_type": "code",
   "execution_count": null,
   "metadata": {},
   "outputs": [],
   "source": [
    "sell_amt"
   ]
  },
  {
   "cell_type": "code",
   "execution_count": null,
   "metadata": {},
   "outputs": [],
   "source": [
    "portfolio.shares"
   ]
  },
  {
   "cell_type": "code",
   "execution_count": null,
   "metadata": {},
   "outputs": [],
   "source": [
    "portfolio.log"
   ]
  },
  {
   "cell_type": "code",
   "execution_count": null,
   "metadata": {},
   "outputs": [],
   "source": [
    "portfolio.asset_split['Bonds']-strat.bond_distribution"
   ]
  },
  {
   "cell_type": "code",
   "execution_count": null,
   "metadata": {},
   "outputs": [],
   "source": [
    "portfolio.asset_split['Bonds']"
   ]
  },
  {
   "cell_type": "code",
   "execution_count": null,
   "metadata": {},
   "outputs": [],
   "source": [
    "246.38667/.502971399"
   ]
  },
  {
   "cell_type": "code",
   "execution_count": null,
   "metadata": {},
   "outputs": [],
   "source": [
    "(246.38667+243.47552)*.002971399"
   ]
  },
  {
   "cell_type": "code",
   "execution_count": null,
   "metadata": {},
   "outputs": [],
   "source": [
    "489.86218/2"
   ]
  },
  {
   "cell_type": "code",
   "execution_count": null,
   "metadata": {},
   "outputs": [],
   "source": [
    "246.38667*.002971399"
   ]
  },
  {
   "cell_type": "code",
   "execution_count": null,
   "metadata": {},
   "outputs": [],
   "source": []
  },
  {
   "cell_type": "code",
   "execution_count": null,
   "metadata": {},
   "outputs": [],
   "source": [
    "output"
   ]
  },
  {
   "cell_type": "code",
   "execution_count": null,
   "metadata": {},
   "outputs": [],
   "source": [
    "portfolio.log"
   ]
  },
  {
   "cell_type": "code",
   "execution_count": null,
   "metadata": {},
   "outputs": [],
   "source": [
    "time_period"
   ]
  },
  {
   "cell_type": "code",
   "execution_count": null,
   "metadata": {},
   "outputs": [],
   "source": [
    "start_date"
   ]
  },
  {
   "cell_type": "code",
   "execution_count": null,
   "metadata": {},
   "outputs": [],
   "source": [
    "# Get the value a few days later\n",
    "\n",
    "portfolio.get_value('2018-05-01')"
   ]
  },
  {
   "cell_type": "code",
   "execution_count": null,
   "metadata": {},
   "outputs": [],
   "source": [
    "portfolio.get_asset_values('2018-05-01')"
   ]
  },
  {
   "cell_type": "code",
   "execution_count": null,
   "metadata": {},
   "outputs": [],
   "source": [
    "portfolio.asset_values"
   ]
  },
  {
   "cell_type": "code",
   "execution_count": null,
   "metadata": {},
   "outputs": [],
   "source": [
    "for share in portfolio.shares:\n",
    "    print(share.div.index)"
   ]
  },
  {
   "cell_type": "code",
   "execution_count": null,
   "metadata": {},
   "outputs": [],
   "source": [
    "portfolio.reinvest_divs('2018-05-01')"
   ]
  },
  {
   "cell_type": "code",
   "execution_count": null,
   "metadata": {},
   "outputs": [],
   "source": [
    "# import sys\n",
    "# !{sys.executable} -m pip install pandas_datareader"
   ]
  },
  {
   "cell_type": "code",
   "execution_count": null,
   "metadata": {},
   "outputs": [],
   "source": [
    "## This is useful:\n",
    "#https://jakevdp.github.io/PythonDataScienceHandbook/03.11-working-with-time-series.html"
   ]
  },
  {
   "cell_type": "code",
   "execution_count": null,
   "metadata": {},
   "outputs": [],
   "source": [
    "bnd = web.DataReader('BND', 'yahoo', start='2015-10-30', end='2020-10-30')"
   ]
  },
  {
   "cell_type": "code",
   "execution_count": null,
   "metadata": {},
   "outputs": [],
   "source": [
    "sp = web.DataReader('VOO', 'yahoo', start='2015-10-30', end='2020-10-30')"
   ]
  },
  {
   "cell_type": "code",
   "execution_count": null,
   "metadata": {},
   "outputs": [],
   "source": [
    "sp.head(3)"
   ]
  },
  {
   "cell_type": "code",
   "execution_count": null,
   "metadata": {},
   "outputs": [],
   "source": [
    "bnd.head(3)"
   ]
  },
  {
   "cell_type": "code",
   "execution_count": null,
   "metadata": {},
   "outputs": [],
   "source": [
    "bnd.loc['2017-07-07']['High']"
   ]
  },
  {
   "cell_type": "code",
   "execution_count": null,
   "metadata": {},
   "outputs": [],
   "source": [
    "# Import dividend records\n",
    "bnd_div = web.DataReader('BND', 'yahoo-dividends', start='2015-10-30', end='2020-10-30')\n",
    "sp_div = web.DataReader('VOO', 'yahoo-dividends', start='2015-10-30', end='2020-10-30')"
   ]
  },
  {
   "cell_type": "code",
   "execution_count": null,
   "metadata": {},
   "outputs": [],
   "source": [
    "bnd_div.head(3)"
   ]
  },
  {
   "cell_type": "code",
   "execution_count": null,
   "metadata": {},
   "outputs": [],
   "source": [
    "sp_div.head(3)"
   ]
  },
  {
   "cell_type": "code",
   "execution_count": null,
   "metadata": {},
   "outputs": [],
   "source": [
    "sp_div.value.loc['2020-09-29']"
   ]
  },
  {
   "cell_type": "code",
   "execution_count": null,
   "metadata": {},
   "outputs": [],
   "source": [
    "sp_div[sp_div.index < pd.to_datetime('2016-01-01')]"
   ]
  },
  {
   "cell_type": "code",
   "execution_count": null,
   "metadata": {},
   "outputs": [],
   "source": [
    "sp_div.index"
   ]
  },
  {
   "cell_type": "code",
   "execution_count": null,
   "metadata": {},
   "outputs": [],
   "source": [
    "str('sp')+str('_div')"
   ]
  },
  {
   "cell_type": "code",
   "execution_count": null,
   "metadata": {},
   "outputs": [],
   "source": [
    "Assets = {}\n",
    "Assets['Bonds'] = bnd\n",
    "Assets['Equities'] = sp"
   ]
  },
  {
   "cell_type": "code",
   "execution_count": null,
   "metadata": {},
   "outputs": [],
   "source": [
    "Dividends"
   ]
  },
  {
   "cell_type": "code",
   "execution_count": null,
   "metadata": {},
   "outputs": [],
   "source": [
    "# Maybe it is worth merging the dividend and share price files together for easier reference?\n",
    "# Or build a dictionary to allow easy mapping?"
   ]
  },
  {
   "cell_type": "code",
   "execution_count": null,
   "metadata": {},
   "outputs": [],
   "source": []
  },
  {
   "cell_type": "markdown",
   "metadata": {},
   "source": [
    "## 1. Calculate Value Given a Start and End Date"
   ]
  },
  {
   "cell_type": "code",
   "execution_count": null,
   "metadata": {},
   "outputs": [],
   "source": [
    "start_date = '2015-11-20'\n",
    "end_date = "
   ]
  },
  {
   "cell_type": "code",
   "execution_count": null,
   "metadata": {},
   "outputs": [],
   "source": [
    "def calc_value(share, divs, start, end, initial_value):\n",
    "    # Take the average of the day's high and low for starting share price\n",
    "    num_shares = initial_value/np.mean([share.loc[start]['Low'],share.loc[start]['High']])\n",
    "    divs = divs[(divs.index <= pd.to_datetime(end)) & (divs.index >= pd.to_datetime(start))]\n",
    "    for date in divs.index:\n",
    "        price = np.mean([share.High.loc[date], share.Low.loc[date]])\n",
    "        div_value = divs.value.loc[date]\n",
    "        num_shares += div_value/price\n",
    "    output = {}\n",
    "    output['Value'] = num_shares*np.mean([share.loc[end]['Low'],share.loc[end]['High']])\n",
    "    output['ROI'] = output['Value']-initial_value\n",
    "    return(output)\n",
    "    \n",
    "    # Will need to factor in other actions later, but this will work for now\n",
    "    \n",
    "    \n"
   ]
  },
  {
   "cell_type": "code",
   "execution_count": null,
   "metadata": {},
   "outputs": [],
   "source": [
    "calc_value(sp,sp_div, '2015-11-20', '2017-11-20',100)"
   ]
  },
  {
   "cell_type": "code",
   "execution_count": null,
   "metadata": {},
   "outputs": [],
   "source": [
    "calc_value(bnd,bnd_div, '2015-11-20', '2017-11-20',100)"
   ]
  },
  {
   "cell_type": "code",
   "execution_count": null,
   "metadata": {},
   "outputs": [],
   "source": [
    "sp.Close.plot()"
   ]
  },
  {
   "cell_type": "code",
   "execution_count": null,
   "metadata": {},
   "outputs": [],
   "source": [
    "bnd.Close.plot()"
   ]
  },
  {
   "cell_type": "code",
   "execution_count": null,
   "metadata": {},
   "outputs": [],
   "source": [
    "# Identify the ROI with different asset distributions"
   ]
  },
  {
   "cell_type": "code",
   "execution_count": null,
   "metadata": {},
   "outputs": [],
   "source": [
    "class Share:\n",
    "\n",
    "    def __init__(self, name, asset_type):\n",
    "        \"\"\"Initialize attributes.\"\"\"\n",
    "        self.name = name\n",
    "        self.type = asset_type\n",
    "        #self.amount = amount\n",
    "        \n",
    "    def get_value(self, date):\n",
    "        df = web.DataReader(self.name, 'yahoo', start=date, end=date)\n",
    "        return round(df.loc[date,'Close'],2)\n",
    "    "
   ]
  },
  {
   "cell_type": "code",
   "execution_count": null,
   "metadata": {},
   "outputs": [],
   "source": []
  },
  {
   "cell_type": "code",
   "execution_count": null,
   "metadata": {},
   "outputs": [],
   "source": [
    "bnd = Share('BND','Bond')"
   ]
  },
  {
   "cell_type": "code",
   "execution_count": null,
   "metadata": {},
   "outputs": [],
   "source": [
    "sp = Share('VOO','Equity')"
   ]
  },
  {
   "cell_type": "code",
   "execution_count": null,
   "metadata": {},
   "outputs": [],
   "source": [
    "class Strategy:\n",
    "    \n",
    "    def __init__(self,equity_distribution, bond_distribution, cash_distribution, threshold):\n",
    "        self.equity_distribution = equity_distribution\n",
    "        self.bond_distribution = bond_distribution\n",
    "        self.cash_distribution = 100-(equity_distribution+bond_distribution)\n",
    "        self.threshold = threshold\n",
    "    "
   ]
  },
  {
   "cell_type": "code",
   "execution_count": null,
   "metadata": {},
   "outputs": [],
   "source": [
    "class Portfolio:\n",
    "    \n",
    "    def __init__(self):\n",
    "        self.shares = {}\n",
    "        self.log = {}\n",
    "        self.cash_bal = 0\n",
    "        self.asset_split = {'Equities': None,'Bonds': None,'Cash': None}\n",
    "        self.asset_values = {'Equities': None,'Bonds': None,'Cash': None}\n",
    "        \n",
    "    def buy(self, share, amount, date):\n",
    "        purchase_price = share.get_value(date)\n",
    "        shares = amount/purchase_price\n",
    "        # Record the transaction\n",
    "        self.log[len(self.log)] = ['Buy',share,amount,purchase_price,shares,date]\n",
    "        # Add the number of shares\n",
    "        if share in self.shares:\n",
    "            self.shares[share] += shares\n",
    "        elif share not in self.shares:\n",
    "            self.shares[share] = shares\n",
    "            \n",
    "    def sell(self, share, amount, date):\n",
    "        sell_price = share.get_value(date)\n",
    "        shares = amount/sell_price\n",
    "        # Record the transaction\n",
    "        self.log[len(self.log)] = ['Sell',share,amount,sell_price,shares,date]\n",
    "        # Add the number of shares\n",
    "        if share in self.shares:\n",
    "            self.shares[share] -= shares\n",
    "        elif share not in self.shares:\n",
    "            self.shares[share] = shares\n",
    "        cash_bal += amount\n",
    "        \n",
    "            \n",
    "    def get_value(self,date):\n",
    "        value = self.cash_bal\n",
    "        # Iterate through the 'shares' attribute and get the current value for each 'Share' object\n",
    "        for share in self.shares:\n",
    "            value += share.get_value(date)*self.shares[share]\n",
    "        return(value)\n",
    "    \n",
    "    def get_asset_values(self,date):\n",
    "        bond_val = 0\n",
    "        eq_val = 0\n",
    "        for share in self.shares:\n",
    "            if share.type == 'Bond':\n",
    "                bond_val += share.get_value(date)*self.shares[share]\n",
    "            elif share.type == 'Equity':\n",
    "                eq_val += share.get_value(date)*self.shares[share]\n",
    "        total = bond_val+eq_val+self.cash_bal\n",
    "        self.asset_values = {'Equities': eq_val,'Bonds': bond_val,'Cash': self.cash_bal}\n",
    "        self.asset_split = {'Equities': (eq_val/total)*100,'Bonds': (bond_val/total)*100,'Cash': (self.cash_bal/total)*100}\n",
    "            \n",
    "        \n",
    "    "
   ]
  },
  {
   "cell_type": "code",
   "execution_count": null,
   "metadata": {},
   "outputs": [],
   "source": [
    "portfolio = Portfolio()"
   ]
  },
  {
   "cell_type": "code",
   "execution_count": null,
   "metadata": {},
   "outputs": [],
   "source": [
    "portfolio.get_value)"
   ]
  },
  {
   "cell_type": "code",
   "execution_count": null,
   "metadata": {},
   "outputs": [],
   "source": [
    "# Calculate portfolio value\n",
    "\n",
    "start_date = '2015-11-20'\n",
    "end_date = '2020-11-20'\n",
    "\n",
    "portfolio.buy(sp,750,start_date)\n",
    "portfolio.buy(bnd,250,start_date)\n",
    "\n",
    "portfolio.get_value(end_date)"
   ]
  },
  {
   "cell_type": "code",
   "execution_count": null,
   "metadata": {},
   "outputs": [],
   "source": [
    "bond = web.DataReader('BND', 'yahoo', start='2015-10-30', end='2020-10-30')"
   ]
  },
  {
   "cell_type": "code",
   "execution_count": null,
   "metadata": {},
   "outputs": [],
   "source": [
    "dates = list(bond.index)"
   ]
  },
  {
   "cell_type": "code",
   "execution_count": null,
   "metadata": {},
   "outputs": [],
   "source": [
    "dates = [x.strftime('%Y-%m-%d') for x in dates]"
   ]
  },
  {
   "cell_type": "code",
   "execution_count": null,
   "metadata": {},
   "outputs": [],
   "source": [
    "# Deploy balancing strategy\n",
    "\n",
    "strategy = Strategy(75,25,0,1)\n",
    "\n",
    "# Initial Purchase (manually allocated proportions)\n",
    "portfolio = Portfolio() \n",
    "portfolio.buy(sp,750,start_date)\n",
    "portfolio.buy(bnd,250,start_date)\n",
    "\n",
    "for date in dates:\n",
    "    portfolio.get_asset_values(date)\n",
    "    if portfolio.asset_split['Equities'] > strategy.equity_distribution+strategy.threshold:\n",
    "        amount_to_sell = (portfolio.asset_split['Equities']-strategy.equity_distribution)*portfolio.asset_values['Equities']\n",
    "        portfolio.sell(sp,amount_to_sell,date)\n",
    "        portfolio.buy(bnd,amount_to_sell,date)\n",
    "        \n",
    "\n",
    "    "
   ]
  },
  {
   "cell_type": "code",
   "execution_count": null,
   "metadata": {},
   "outputs": [],
   "source": [
    "portfolio.get_asset_values('2019-10-29')"
   ]
  },
  {
   "cell_type": "code",
   "execution_count": null,
   "metadata": {},
   "outputs": [],
   "source": [
    "portfolio.asset_split['Equities']"
   ]
  },
  {
   "cell_type": "code",
   "execution_count": null,
   "metadata": {},
   "outputs": [],
   "source": []
  }
 ],
 "metadata": {
  "kernelspec": {
   "display_name": "Python 3",
   "language": "python",
   "name": "python3"
  },
  "language_info": {
   "codemirror_mode": {
    "name": "ipython",
    "version": 3
   },
   "file_extension": ".py",
   "mimetype": "text/x-python",
   "name": "python",
   "nbconvert_exporter": "python",
   "pygments_lexer": "ipython3",
   "version": "3.6.9"
  }
 },
 "nbformat": 4,
 "nbformat_minor": 4
}

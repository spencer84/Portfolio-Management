{
 "cells": [
  {
   "cell_type": "markdown",
   "metadata": {},
   "source": [
    "## 0. Import Modules and Data"
   ]
  },
  {
   "cell_type": "code",
   "execution_count": 1,
   "metadata": {},
   "outputs": [],
   "source": [
    "import pandas as pd\n",
    "import numpy as np\n",
    "from pandas_datareader import data\n",
    "import pandas_datareader.data as web\n",
    "import datetime as dt"
   ]
  },
  {
   "cell_type": "code",
   "execution_count": 2,
   "metadata": {},
   "outputs": [],
   "source": [
    "import Portfolio as port # This is from the Portfolio.py file with the different classes defined"
   ]
  },
  {
   "cell_type": "markdown",
   "metadata": {},
   "source": [
    "## 1. Set-up Portfolio Strategy"
   ]
  },
  {
   "cell_type": "code",
   "execution_count": 3,
   "metadata": {},
   "outputs": [],
   "source": [
    "# Define start date and end date\n",
    "\n",
    "start_date = '2018-01-01'\n",
    "\n",
    "end_date = '2020-01-01'"
   ]
  },
  {
   "cell_type": "code",
   "execution_count": 4,
   "metadata": {},
   "outputs": [],
   "source": [
    "# Define Shares\n",
    "\n",
    "# Provide the name of the ticker and type (Equity or Bond)\n",
    "\n",
    "voo = port.Share('VOO', 'Equity')\n",
    "bnd = port.Share('BND', 'Bond')"
   ]
  },
  {
   "cell_type": "code",
   "execution_count": 5,
   "metadata": {},
   "outputs": [
    {
     "data": {
      "text/plain": [
       "247.09"
      ]
     },
     "execution_count": 5,
     "metadata": {},
     "output_type": "execute_result"
    }
   ],
   "source": [
    "voo.get_value(start_date)"
   ]
  },
  {
   "cell_type": "code",
   "execution_count": 6,
   "metadata": {},
   "outputs": [
    {
     "data": {
      "text/plain": [
       "278.55"
      ]
     },
     "execution_count": 6,
     "metadata": {},
     "output_type": "execute_result"
    }
   ],
   "source": [
    "voo.get_value('2019-10-31')"
   ]
  },
  {
   "cell_type": "code",
   "execution_count": 7,
   "metadata": {},
   "outputs": [],
   "source": [
    "# Need a way to group the different shares together\n",
    "\n",
    "shares_list = [voo, bnd]\n",
    "\n",
    "shares_dict = {}\n",
    "\n",
    "for share in shares_list:\n",
    "    shares_dict[share] = share.type\n"
   ]
  },
  {
   "cell_type": "code",
   "execution_count": 8,
   "metadata": {},
   "outputs": [
    {
     "data": {
      "text/plain": [
       "{<Portfolio.Share at 0x7f68c8a81a58>: 'Equity',\n",
       " <Portfolio.Share at 0x7f68c8a817b8>: 'Bond'}"
      ]
     },
     "execution_count": 8,
     "metadata": {},
     "output_type": "execute_result"
    }
   ],
   "source": [
    "shares_dict"
   ]
  },
  {
   "cell_type": "code",
   "execution_count": 9,
   "metadata": {},
   "outputs": [],
   "source": [
    "# Define Strategy\n",
    "\n",
    "# Provide the equity distribution, the bond distriubtion, cash distribution, and the threshold\n",
    "strat = port.Strategy(50,50,0,5)"
   ]
  },
  {
   "cell_type": "code",
   "execution_count": 17,
   "metadata": {},
   "outputs": [],
   "source": [
    "# Run portfolio with set start and end dates\n",
    "\n",
    "portfolio = port.Portfolio(shares_dict)\n",
    "\n",
    "portfolio.initial_buy(500, strat, start_date)"
   ]
  },
  {
   "cell_type": "code",
   "execution_count": 22,
   "metadata": {},
   "outputs": [
    {
     "name": "stdout",
     "output_type": "stream",
     "text": [
      "{'Equities': 253.29953878372282, 'Bonds': 251.04514584211861, 'Cash': 0}\n",
      "{'Equities': 50.22349724407989, 'Bonds': 49.77650275592013, 'Cash': 0.0}\n",
      "{'Equities': 253.29953878372282, 'Bonds': 251.04514584211861, 'Cash': 0}\n",
      "{'Equities': 50.22349724407989, 'Bonds': 49.77650275592013, 'Cash': 0.0}\n",
      "{'Equities': 254.8064808777455, 'Bonds': 251.26119157864366, 'Cash': 0}\n",
      "{'Equities': 50.35027818333994, 'Bonds': 49.64972181666006, 'Cash': 0.0}\n",
      "{'Equities': 255.92387331480998, 'Bonds': 251.13773687205793, 'Cash': 0}\n",
      "{'Equities': 50.471948215621, 'Bonds': 49.528051784379, 'Cash': 0.0}\n",
      "{'Equities': 257.5640823967395, 'Bonds': 250.79823642894712, 'Cash': 0}\n",
      "{'Equities': 50.665455101336136, 'Bonds': 49.334544898663864, 'Cash': 0.0}\n",
      "{'Equities': 258.09715034836654, 'Bonds': 250.82910010559354, 'Cash': 0}\n",
      "{'Equities': 50.71405731540571, 'Bonds': 49.28594268459429, 'Cash': 0.0}\n",
      "{'Equities': 258.09715034836654, 'Bonds': 250.82910010559354, 'Cash': 0}\n",
      "{'Equities': 50.71405731540571, 'Bonds': 49.28594268459429, 'Cash': 0.0}\n",
      "{'Equities': 258.09715034836654, 'Bonds': 250.82910010559354, 'Cash': 0}\n",
      "{'Equities': 50.71405731540571, 'Bonds': 49.28594268459429, 'Cash': 0.0}\n",
      "{'Equities': 258.6404696067557, 'Bonds': 250.08837186607906, 'Cash': 0}\n",
      "{'Equities': 50.8405359637088, 'Bonds': 49.1594640362912, 'Cash': 0.0}\n",
      "{'Equities': 258.1996634159872, 'Bonds': 250.1192355427255, 'Cash': 0}\n",
      "{'Equities': 50.794818753524055, 'Bonds': 49.205181246475945, 'Cash': 0.0}\n",
      "{'Equities': 260.10640647373015, 'Bonds': 250.1192355427255, 'Cash': 0}\n",
      "{'Equities': 50.97870139293023, 'Bonds': 49.02129860706976, 'Cash': 0.0}\n",
      "{'Equities': 261.82862600975614, 'Bonds': 250.08837186607906, 'Cash': 0}\n",
      "{'Equities': 51.14669508849994, 'Bonds': 48.85330491150006, 'Cash': 0.0}\n",
      "{'Equities': 260.8752544808846, 'Bonds': 250.27355392595769, 'Cash': 0}\n",
      "{'Equities': 51.03704639241657, 'Bonds': 48.96295360758343, 'Cash': 0.0}\n",
      "{'Equities': 260.8752544808846, 'Bonds': 250.27355392595769, 'Cash': 0}\n",
      "{'Equities': 51.03704639241657, 'Bonds': 48.96295360758343, 'Cash': 0.0}\n",
      "{'Equities': 260.8752544808846, 'Bonds': 250.27355392595769, 'Cash': 0}\n",
      "{'Equities': 51.03704639241657, 'Bonds': 48.96295360758343, 'Cash': 0.0}\n",
      "{'Equities': 260.8752544808846, 'Bonds': 250.27355392595769, 'Cash': 0}\n",
      "{'Equities': 51.03704639241657, 'Bonds': 48.96295360758343, 'Cash': 0.0}\n",
      "{'Equities': 263.3970759443512, 'Bonds': 249.99578083613974, 'Cash': 0}\n",
      "{'Equities': 51.30516961146008, 'Bonds': 48.69483038853993, 'Cash': 0.0}\n",
      "{'Equities': 263.0382802076791, 'Bonds': 249.50196200979676, 'Cash': 0}\n",
      "{'Equities': 51.320512721041986, 'Bonds': 48.679487278958014, 'Cash': 0.0}\n",
      "{'Equities': 264.1556726447436, 'Bonds': 248.97727950680732, 'Cash': 0}\n",
      "{'Equities': 51.47899224502088, 'Bonds': 48.52100775497912, 'Cash': 0.0}\n",
      "{'Equities': 266.2776931444899, 'Bonds': 248.7920974469287, 'Cash': 0}\n",
      "{'Equities': 51.69740062579516, 'Bonds': 48.30259937420483, 'Cash': 0.0}\n",
      "{'Equities': 266.2776931444899, 'Bonds': 248.7920974469287, 'Cash': 0}\n",
      "{'Equities': 51.69740062579516, 'Bonds': 48.30259937420483, 'Cash': 0.0}\n",
      "{'Equities': 266.2776931444899, 'Bonds': 248.7920974469287, 'Cash': 0}\n",
      "{'Equities': 51.69740062579516, 'Bonds': 48.30259937420483, 'Cash': 0.0}\n",
      "{'Equities': 266.8825202434513, 'Bonds': 249.44023465650386, 'Cash': 0}\n",
      "{'Equities': 51.68908743817878, 'Bonds': 48.310912561821226, 'Cash': 0.0}\n",
      "{'Equities': 266.74925325554455, 'Bonds': 249.16246156668595, 'Cash': 0}\n",
      "{'Equities': 51.70443810283689, 'Bonds': 48.29556189716311, 'Cash': 0.0}\n",
      "{'Equities': 266.8722689366893, 'Bonds': 249.84146245290756, 'Cash': 0}\n",
      "{'Equities': 51.64799244235109, 'Bonds': 48.35200755764891, 'Cash': 0.0}\n",
      "{'Equities': 269.9784148855933, 'Bonds': 249.378507303211, 'Cash': 0}\n",
      "{'Equities': 51.98321296032458, 'Bonds': 48.01678703967544, 'Cash': 0.0}\n",
      "{'Equities': 268.1126770548985, 'Bonds': 249.0390068601002, 'Cash': 0}\n",
      "{'Equities': 51.84410790760698, 'Bonds': 48.155892092393024, 'Cash': 0.0}\n",
      "{'Equities': 268.1126770548985, 'Bonds': 249.0390068601002, 'Cash': 0}\n",
      "{'Equities': 51.84410790760698, 'Bonds': 48.155892092393024, 'Cash': 0.0}\n",
      "{'Equities': 268.1126770548985, 'Bonds': 249.0390068601002, 'Cash': 0}\n",
      "{'Equities': 51.84410790760698, 'Bonds': 48.155892092393024, 'Cash': 0.0}\n",
      "{'Equities': 265.25256246828394, 'Bonds': 248.57605171040368, 'Cash': 0}\n",
      "{'Equities': 51.62276976191139, 'Bonds': 48.3772302380886, 'Cash': 0.0}\n",
      "{'Equities': 265.4985938305734, 'Bonds': 248.63777906369654, 'Cash': 0}\n",
      "{'Equities': 51.639722032498966, 'Bonds': 48.36027796750103, 'Cash': 0.0}\n",
      "{'Equities': 265.2320598547598, 'Bonds': 247.58023199783904, 'Cash': 0}\n",
      "{'Equities': 51.72108080650245, 'Bonds': 48.27891919349756, 'Cash': 0.0}\n",
      "{'Equities': 259.55283590857897, 'Bonds': 246.8389738182048, 'Cash': 0}\n",
      "{'Equities': 51.255338440133315, 'Bonds': 48.74466155986668, 'Cash': 0.0}\n",
      "{'Equities': 248.8914768760373, 'Bonds': 247.91997533017138, 'Cash': 0}\n",
      "{'Equities': 50.097773666604475, 'Bonds': 49.902226333395525, 'Cash': 0.0}\n",
      "{'Equities': 248.8914768760373, 'Bonds': 247.91997533017138, 'Cash': 0}\n",
      "{'Equities': 50.097773666604475, 'Bonds': 49.902226333395525, 'Cash': 0.0}\n",
      "{'Equities': 248.8914768760373, 'Bonds': 247.91997533017138, 'Cash': 0}\n",
      "{'Equities': 50.097773666604475, 'Bonds': 49.902226333395525, 'Cash': 0.0}\n",
      "{'Equities': 253.49431361220195, 'Bonds': 247.11694563556765, 'Cash': 0}\n",
      "{'Equities': 50.63695810459967, 'Bonds': 49.36304189540033, 'Cash': 0.0}\n",
      "{'Equities': 252.11038719932395, 'Bonds': 246.56100200084194, 'Cash': 0}\n",
      "{'Equities': 50.55641704323391, 'Bonds': 49.44358295676609, 'Cash': 0.0}\n",
      "{'Equities': 242.74069281880173, 'Bonds': 246.37568745593336, 'Cash': 0}\n",
      "{'Equities': 49.62841209334577, 'Bonds': 50.37158790665423, 'Cash': 0.0}\n",
      "{'Equities': 246.4824197869534, 'Bonds': 245.75797230623814, 'Cash': 0}\n",
      "{'Equities': 50.07358675683182, 'Bonds': 49.92641324316818, 'Cash': 0.0}\n",
      "{'Equities': 249.86535101843296, 'Bonds': 245.8197438212077, 'Cash': 0}\n",
      "{'Equities': 50.40808239337255, 'Bonds': 49.59191760662745, 'Cash': 0.0}\n",
      "{'Equities': 249.86535101843296, 'Bonds': 245.8197438212077, 'Cash': 0}\n",
      "{'Equities': 50.40808239337255, 'Bonds': 49.59191760662745, 'Cash': 0.0}\n",
      "{'Equities': 249.86535101843296, 'Bonds': 245.8197438212077, 'Cash': 0}\n",
      "{'Equities': 50.40808239337255, 'Bonds': 49.59191760662745, 'Cash': 0.0}\n",
      "{'Equities': 250.7059581729218, 'Bonds': 246.035944123601, 'Cash': 0}\n",
      "{'Equities': 50.47006443665518, 'Bonds': 49.529935563344814, 'Cash': 0.0}\n",
      "{'Equities': 253.98637633678078, 'Bonds': 245.23291442899728, 'Cash': 0}\n",
      "{'Equities': 50.87671510994258, 'Bonds': 49.12328489005742, 'Cash': 0.0}\n",
      "{'Equities': 257.2770458074018, 'Bonds': 245.48000048887533, 'Cash': 0}\n",
      "{'Equities': 51.17323520430327, 'Bonds': 48.82676479569672, 'Cash': 0.0}\n",
      "{'Equities': 257.2462918871156, 'Bonds': 246.0050583661163, 'Cash': 0}\n",
      "{'Equities': 51.116860741192525, 'Bonds': 48.883139258807475, 'Cash': 0.0}\n",
      "{'Equities': 255.6880932592826, 'Bonds': 245.75797230623814, 'Cash': 0}\n",
      "{'Equities': 50.99014845613012, 'Bonds': 49.009851543869885, 'Cash': 0.0}\n",
      "{'Equities': 255.6880932592826, 'Bonds': 245.75797230623814, 'Cash': 0}\n",
      "{'Equities': 50.99014845613012, 'Bonds': 49.009851543869885, 'Cash': 0.0}\n",
      "{'Equities': 255.6880932592826, 'Bonds': 245.75797230623814, 'Cash': 0}\n",
      "{'Equities': 50.99014845613012, 'Bonds': 49.009851543869885, 'Cash': 0.0}\n",
      "{'Equities': 255.6880932592826, 'Bonds': 245.75797230623814, 'Cash': 0}\n",
      "{'Equities': 50.99014845613012, 'Bonds': 49.009851543869885, 'Cash': 0.0}\n",
      "{'Equities': 254.34517207345286, 'Bonds': 244.83139958169536, 'Cash': 0}\n",
      "{'Equities': 50.95294661568472, 'Bonds': 49.047053384315284, 'Cash': 0.0}\n",
      "{'Equities': 254.65271127631462, 'Bonds': 245.140257156543, 'Cash': 0}\n",
      "{'Equities': 50.951639450790864, 'Bonds': 49.048360549209136, 'Cash': 0.0}\n",
      "{'Equities': 258.8352444352348, 'Bonds': 245.78885806372293, 'Cash': 0}\n",
      "{'Equities': 51.292683633907366, 'Bonds': 48.707316366092634, 'Cash': 0.0}\n",
      "{'Equities': 261.8183747029941, 'Bonds': 245.912401093662, 'Cash': 0}\n",
      "{'Equities': 51.566378715607186, 'Bonds': 48.43362128439282, 'Cash': 0.0}\n",
      "{'Equities': 261.8183747029941, 'Bonds': 245.912401093662, 'Cash': 0}\n",
      "{'Equities': 51.566378715607186, 'Bonds': 48.43362128439282, 'Cash': 0.0}\n",
      "{'Equities': 261.8183747029941, 'Bonds': 245.912401093662, 'Cash': 0}\n",
      "{'Equities': 51.566378715607186, 'Bonds': 48.43362128439282, 'Cash': 0.0}\n",
      "{'Equities': 258.4764486985627, 'Bonds': 245.38734321642107, 'Cash': 0}\n",
      "{'Equities': 51.298873395168485, 'Bonds': 48.701126604831515, 'Cash': 0.0}\n",
      "{'Equities': 255.60608280518616, 'Bonds': 245.69620079126864, 'Cash': 0}\n",
      "{'Equities': 50.988413811206065, 'Bonds': 49.011586188793935, 'Cash': 0.0}\n",
      "{'Equities': 252.23340288046865, 'Bonds': 245.76854351881437, 'Cash': 0}\n",
      "{'Equities': 50.64907972834216, 'Bonds': 49.35092027165784, 'Cash': 0.0}\n",
      "{'Equities': 253.5763240662984, 'Bonds': 245.30494591408828, 'Cash': 0}\n",
      "{'Equities': 50.82899265315526, 'Bonds': 49.17100734684474, 'Cash': 0.0}\n",
      "{'Equities': 256.4876951867232, 'Bonds': 245.15041337917953, 'Cash': 0}\n",
      "{'Equities': 51.13002597031105, 'Bonds': 48.86997402968895, 'Cash': 0.0}\n",
      "{'Equities': 256.4876951867232, 'Bonds': 245.15041337917953, 'Cash': 0}\n",
      "{'Equities': 51.13002597031105, 'Bonds': 48.86997402968895, 'Cash': 0.0}\n",
      "{'Equities': 256.4876951867232, 'Bonds': 245.15041337917953, 'Cash': 0}\n",
      "{'Equities': 51.13002597031105, 'Bonds': 48.86997402968895, 'Cash': 0.0}\n",
      "{'Equities': 257.133527512733, 'Bonds': 245.24313290012475, 'Cash': 0}\n",
      "{'Equities': 51.18341431335969, 'Bonds': 48.816585686640316, 'Cash': 0.0}\n",
      "{'Equities': 257.02076313835033, 'Bonds': 245.18131988616128, 'Cash': 0}\n",
      "{'Equities': 51.17875290170901, 'Bonds': 48.821247098290996, 'Cash': 0.0}\n",
      "{'Equities': 258.22016602951123, 'Bonds': 245.45947844899698, 'Cash': 0}\n",
      "{'Equities': 51.266746405220154, 'Bonds': 48.73325359477985, 'Cash': 0.0}\n",
      "{'Equities': 262.6897357777691, 'Bonds': 245.15041337917953, 'Cash': 0}\n",
      "{'Equities': 51.7268546438979, 'Bonds': 48.2731453561021, 'Cash': 0.0}\n",
      "{'Equities': 262.43345310871763, 'Bonds': 245.3976654350335, 'Cash': 0}\n",
      "{'Equities': 51.67730836607017, 'Bonds': 48.32269163392983, 'Cash': 0.0}\n",
      "{'Equities': 262.43345310871763, 'Bonds': 245.3976654350335, 'Cash': 0}\n",
      "{'Equities': 51.67730836607017, 'Bonds': 48.32269163392983, 'Cash': 0.0}\n",
      "{'Equities': 262.43345310871763, 'Bonds': 245.3976654350335, 'Cash': 0}\n",
      "{'Equities': 51.67730836607017, 'Bonds': 48.32269163392983, 'Cash': 0.0}\n",
      "{'Equities': 260.7009822659296, 'Bonds': 245.45947844899698, 'Cash': 0}\n",
      "{'Equities': 51.50560000235941, 'Bonds': 48.4943999976406, 'Cash': 0.0}\n",
      "{'Equities': 259.32730715981364, 'Bonds': 245.9848890676866, 'Cash': 0}\n",
      "{'Equities': 51.320215323490835, 'Bonds': 48.67978467650917, 'Cash': 0.0}\n",
      "{'Equities': 259.08127579752426, 'Bonds': 246.01579557466832, 'Cash': 0}\n",
      "{'Equities': 51.29336329226392, 'Bonds': 48.706636707736095, 'Cash': 0.0}\n",
      "{'Equities': 259.3478097733378, 'Bonds': 245.79945002579615, 'Cash': 0}\n",
      "{'Equities': 51.34103070785032, 'Bonds': 48.65896929214968, 'Cash': 0.0}\n",
      "{'Equities': 255.88286808776175, 'Bonds': 245.61401098390567, 'Cash': 0}\n",
      "{'Equities': 51.02382063901025, 'Bonds': 48.97617936098974, 'Cash': 0.0}\n",
      "{'Equities': 255.88286808776175, 'Bonds': 245.61401098390567, 'Cash': 0}\n",
      "{'Equities': 51.02382063901025, 'Bonds': 48.97617936098974, 'Cash': 0.0}\n",
      "{'Equities': 255.88286808776175, 'Bonds': 245.61401098390567, 'Cash': 0}\n",
      "{'Equities': 51.02382063901025, 'Bonds': 48.97617936098974, 'Cash': 0.0}\n",
      "{'Equities': 256.3339255852924, 'Bonds': 245.30494591408828, 'Cash': 0}\n",
      "{'Equities': 51.099294761412615, 'Bonds': 48.900705238587385, 'Cash': 0.0}\n",
      "{'Equities': 255.7393497930929, 'Bonds': 245.30494591408828, 'Cash': 0}\n",
      "{'Equities': 51.04126560948842, 'Bonds': 48.95873439051159, 'Cash': 0.0}\n",
      "{'Equities': 249.38353960061616, 'Bonds': 245.7067305048509, 'Cash': 0}\n",
      "{'Equities': 50.37132714151118, 'Bonds': 49.62867285848881, 'Cash': 0.0}\n",
      "{'Equities': 244.07336269786947, 'Bonds': 245.76854351881437, 'Cash': 0}\n",
      "{'Equities': 49.82696653762868, 'Bonds': 50.17303346237133, 'Cash': 0.0}\n",
      "{'Equities': 249.65007357642972, 'Bonds': 245.61401098390567, 'Cash': 0}\n",
      "{'Equities': 50.40746570550406, 'Bonds': 49.592534294495934, 'Cash': 0.0}\n",
      "{'Equities': 249.65007357642972, 'Bonds': 245.61401098390567, 'Cash': 0}\n",
      "{'Equities': 50.40746570550406, 'Bonds': 49.592534294495934, 'Cash': 0.0}\n",
      "{'Equities': 250.73407357642972, 'Bonds': 245.61401098390567, 'Cash': 0}\n",
      "{'Equities': 50.51577338079781, 'Bonds': 49.48422661920219, 'Cash': 0.0}\n",
      "{'Equities': 246.38923807159446, 'Bonds': 246.4484866724127, 'Cash': 0}\n",
      "{'Equities': 49.99398903555435, 'Bonds': 50.00601096444566, 'Cash': 0.0}\n"
     ]
    },
    {
     "name": "stdout",
     "output_type": "stream",
     "text": [
      "{'Equities': 245.69941821656136, 'Bonds': 246.417580165431, 'Cash': 0}\n",
      "{'Equities': 49.927033413676945, 'Bonds': 50.072966586323055, 'Cash': 0.0}\n",
      "{'Equities': 249.24117986031337, 'Bonds': 247.03571030506583, 'Cash': 0}\n",
      "{'Equities': 50.22220151682991, 'Bonds': 49.777798483170095, 'Cash': 0.0}\n",
      "{'Equities': 243.47552137048453, 'Bonds': 246.38667365844924, 'Cash': 0}\n",
      "{'Equities': 49.70286007804779, 'Bonds': 50.29713992195221, 'Cash': 0.0}\n",
      "{'Equities': 243.47552137048453, 'Bonds': 246.38667365844924, 'Cash': 0}\n",
      "{'Equities': 49.70286007804779, 'Bonds': 50.29713992195221, 'Cash': 0.0}\n",
      "{'Equities': 243.47552137048453, 'Bonds': 246.38667365844924, 'Cash': 0}\n",
      "{'Equities': 49.70286007804779, 'Bonds': 50.29713992195221, 'Cash': 0.0}\n"
     ]
    }
   ],
   "source": [
    "# Run the portfolio over a series of months\n",
    "\n",
    "time_period = pd.date_range(pd.to_datetime('2018-01-01'),pd.to_datetime('2018-04-01'))\n",
    "\n",
    "for day in time_period:\n",
    "    portfolio.reinvest_divs(day)\n",
    "    portfolio.get_asset_values(day)\n",
    "    #print(portfolio.asset_split)\n",
    "    if portfolio.asset_split['Equities'] > strat.equity_distribution+strat.threshold:\n",
    "        sell_amt = \n",
    "        portfolio.sell\n",
    "        # sell equities and buy more bonds\n",
    "        \n",
    "    if portfolio.asset_split['Bonds'] > strat.bond_distribution+strat.threshold:\n",
    "        #sell bonds and buy more equities\n",
    "    "
   ]
  },
  {
   "cell_type": "code",
   "execution_count": 25,
   "metadata": {},
   "outputs": [
    {
     "data": {
      "text/plain": [
       "0.2971399219522084"
      ]
     },
     "execution_count": 25,
     "metadata": {},
     "output_type": "execute_result"
    }
   ],
   "source": [
    "portfolio.asset_split['Bonds']-strat.bond_distribution"
   ]
  },
  {
   "cell_type": "code",
   "execution_count": 33,
   "metadata": {},
   "outputs": [
    {
     "data": {
      "text/plain": [
       "50.29713992195221"
      ]
     },
     "execution_count": 33,
     "metadata": {},
     "output_type": "execute_result"
    }
   ],
   "source": [
    "portfolio.asset_split['Bonds']"
   ]
  },
  {
   "cell_type": "code",
   "execution_count": 36,
   "metadata": {},
   "outputs": [
    {
     "data": {
      "text/plain": [
       "489.8621879690619"
      ]
     },
     "execution_count": 36,
     "metadata": {},
     "output_type": "execute_result"
    }
   ],
   "source": [
    "246.38667/.502971399"
   ]
  },
  {
   "cell_type": "code",
   "execution_count": 40,
   "metadata": {},
   "outputs": [
    {
     "data": {
      "text/plain": [
       "489.86219"
      ]
     },
     "execution_count": 40,
     "metadata": {},
     "output_type": "execute_result"
    }
   ],
   "source": [
    "(246.38667+243.47552)*.002971399"
   ]
  },
  {
   "cell_type": "code",
   "execution_count": 37,
   "metadata": {},
   "outputs": [
    {
     "data": {
      "text/plain": [
       "244.93109"
      ]
     },
     "execution_count": 37,
     "metadata": {},
     "output_type": "execute_result"
    }
   ],
   "source": [
    "489.86218/2"
   ]
  },
  {
   "cell_type": "code",
   "execution_count": 39,
   "metadata": {},
   "outputs": [
    {
     "data": {
      "text/plain": [
       "0.7321131048513301"
      ]
     },
     "execution_count": 39,
     "metadata": {},
     "output_type": "execute_result"
    }
   ],
   "source": [
    "246.38667*.002971399"
   ]
  },
  {
   "cell_type": "code",
   "execution_count": 31,
   "metadata": {},
   "outputs": [
    {
     "name": "stdout",
     "output_type": "stream",
     "text": [
      "{'Equities': 243.47552137048453, 'Bonds': 246.38667365844924, 'Cash': 0}\n"
     ]
    }
   ],
   "source": [
    "output = portfolio.get_asset_values(day)"
   ]
  },
  {
   "cell_type": "code",
   "execution_count": 34,
   "metadata": {},
   "outputs": [],
   "source": [
    "output"
   ]
  },
  {
   "cell_type": "code",
   "execution_count": 19,
   "metadata": {},
   "outputs": [
    {
     "data": {
      "text/plain": [
       "{0: ['Buy',\n",
       "  <Portfolio.Share at 0x7f68c8a81a58>,\n",
       "  250.0,\n",
       "  247.09,\n",
       "  1.0117770852725727,\n",
       "  '2018-01-01'],\n",
       " 1: ['Buy',\n",
       "  <Portfolio.Share at 0x7f68c8a817b8>,\n",
       "  250.0,\n",
       "  81.34,\n",
       "  3.0735185640521268,\n",
       "  '2018-01-01'],\n",
       " 2: ['Buy',\n",
       "  <Portfolio.Share at 0x7f68c8a817b8>,\n",
       "  0.177,\n",
       "  80.16,\n",
       "  0.002208083832335329,\n",
       "  Timestamp('2018-02-01 00:00:00', freq='D')],\n",
       " 3: ['Buy',\n",
       "  <Portfolio.Share at 0x7f68c8a817b8>,\n",
       "  0.165,\n",
       "  79.52,\n",
       "  0.002074949698189135,\n",
       "  Timestamp('2018-03-01 00:00:00', freq='D')],\n",
       " 4: ['Buy',\n",
       "  <Portfolio.Share at 0x7f68c8a81a58>,\n",
       "  1.084,\n",
       "  243.53,\n",
       "  0.004451196977785078,\n",
       "  Timestamp('2018-03-26 00:00:00', freq='D')]}"
      ]
     },
     "execution_count": 19,
     "metadata": {},
     "output_type": "execute_result"
    }
   ],
   "source": [
    "portfolio.log"
   ]
  },
  {
   "cell_type": "code",
   "execution_count": null,
   "metadata": {},
   "outputs": [],
   "source": [
    "time_period"
   ]
  },
  {
   "cell_type": "code",
   "execution_count": null,
   "metadata": {},
   "outputs": [],
   "source": [
    "start_date"
   ]
  },
  {
   "cell_type": "code",
   "execution_count": null,
   "metadata": {},
   "outputs": [],
   "source": [
    "# Get the value a few days later\n",
    "\n",
    "portfolio.get_value('2018-05-01')"
   ]
  },
  {
   "cell_type": "code",
   "execution_count": null,
   "metadata": {},
   "outputs": [],
   "source": [
    "portfolio.get_asset_values('2018-05-01')"
   ]
  },
  {
   "cell_type": "code",
   "execution_count": null,
   "metadata": {},
   "outputs": [],
   "source": [
    "portfolio.asset_values"
   ]
  },
  {
   "cell_type": "code",
   "execution_count": null,
   "metadata": {},
   "outputs": [],
   "source": [
    "for share in portfolio.shares:\n",
    "    print(share.div.index)"
   ]
  },
  {
   "cell_type": "code",
   "execution_count": null,
   "metadata": {},
   "outputs": [],
   "source": [
    "portfolio.reinvest_divs('2018-05-01')"
   ]
  },
  {
   "cell_type": "code",
   "execution_count": null,
   "metadata": {},
   "outputs": [],
   "source": [
    "# import sys\n",
    "# !{sys.executable} -m pip install pandas_datareader"
   ]
  },
  {
   "cell_type": "code",
   "execution_count": null,
   "metadata": {},
   "outputs": [],
   "source": [
    "## This is useful:\n",
    "#https://jakevdp.github.io/PythonDataScienceHandbook/03.11-working-with-time-series.html"
   ]
  },
  {
   "cell_type": "code",
   "execution_count": null,
   "metadata": {},
   "outputs": [],
   "source": [
    "bnd = web.DataReader('BND', 'yahoo', start='2015-10-30', end='2020-10-30')"
   ]
  },
  {
   "cell_type": "code",
   "execution_count": null,
   "metadata": {},
   "outputs": [],
   "source": [
    "sp = web.DataReader('VOO', 'yahoo', start='2015-10-30', end='2020-10-30')"
   ]
  },
  {
   "cell_type": "code",
   "execution_count": null,
   "metadata": {},
   "outputs": [],
   "source": [
    "sp.head(3)"
   ]
  },
  {
   "cell_type": "code",
   "execution_count": null,
   "metadata": {},
   "outputs": [],
   "source": [
    "bnd.head(3)"
   ]
  },
  {
   "cell_type": "code",
   "execution_count": null,
   "metadata": {},
   "outputs": [],
   "source": [
    "bnd.loc['2017-07-07']['High']"
   ]
  },
  {
   "cell_type": "code",
   "execution_count": null,
   "metadata": {},
   "outputs": [],
   "source": [
    "# Import dividend records\n",
    "bnd_div = web.DataReader('BND', 'yahoo-dividends', start='2015-10-30', end='2020-10-30')\n",
    "sp_div = web.DataReader('VOO', 'yahoo-dividends', start='2015-10-30', end='2020-10-30')"
   ]
  },
  {
   "cell_type": "code",
   "execution_count": null,
   "metadata": {},
   "outputs": [],
   "source": [
    "bnd_div.head(3)"
   ]
  },
  {
   "cell_type": "code",
   "execution_count": null,
   "metadata": {},
   "outputs": [],
   "source": [
    "sp_div.head(3)"
   ]
  },
  {
   "cell_type": "code",
   "execution_count": null,
   "metadata": {},
   "outputs": [],
   "source": [
    "sp_div.value.loc['2020-09-29']"
   ]
  },
  {
   "cell_type": "code",
   "execution_count": null,
   "metadata": {},
   "outputs": [],
   "source": [
    "sp_div[sp_div.index < pd.to_datetime('2016-01-01')]"
   ]
  },
  {
   "cell_type": "code",
   "execution_count": null,
   "metadata": {},
   "outputs": [],
   "source": [
    "sp_div.index"
   ]
  },
  {
   "cell_type": "code",
   "execution_count": null,
   "metadata": {},
   "outputs": [],
   "source": [
    "str('sp')+str('_div')"
   ]
  },
  {
   "cell_type": "code",
   "execution_count": null,
   "metadata": {},
   "outputs": [],
   "source": [
    "Assets = {}\n",
    "Assets['Bonds'] = bnd\n",
    "Assets['Equities'] = sp"
   ]
  },
  {
   "cell_type": "code",
   "execution_count": null,
   "metadata": {},
   "outputs": [],
   "source": [
    "Dividends"
   ]
  },
  {
   "cell_type": "code",
   "execution_count": null,
   "metadata": {},
   "outputs": [],
   "source": [
    "# Maybe it is worth merging the dividend and share price files together for easier reference?\n",
    "# Or build a dictionary to allow easy mapping?"
   ]
  },
  {
   "cell_type": "code",
   "execution_count": null,
   "metadata": {},
   "outputs": [],
   "source": []
  },
  {
   "cell_type": "markdown",
   "metadata": {},
   "source": [
    "## 1. Calculate Value Given a Start and End Date"
   ]
  },
  {
   "cell_type": "code",
   "execution_count": null,
   "metadata": {},
   "outputs": [],
   "source": [
    "start_date = '2015-11-20'\n",
    "end_date = "
   ]
  },
  {
   "cell_type": "code",
   "execution_count": null,
   "metadata": {},
   "outputs": [],
   "source": [
    "def calc_value(share, divs, start, end, initial_value):\n",
    "    # Take the average of the day's high and low for starting share price\n",
    "    num_shares = initial_value/np.mean([share.loc[start]['Low'],share.loc[start]['High']])\n",
    "    divs = divs[(divs.index <= pd.to_datetime(end)) & (divs.index >= pd.to_datetime(start))]\n",
    "    for date in divs.index:\n",
    "        price = np.mean([share.High.loc[date], share.Low.loc[date]])\n",
    "        div_value = divs.value.loc[date]\n",
    "        num_shares += div_value/price\n",
    "    output = {}\n",
    "    output['Value'] = num_shares*np.mean([share.loc[end]['Low'],share.loc[end]['High']])\n",
    "    output['ROI'] = output['Value']-initial_value\n",
    "    return(output)\n",
    "    \n",
    "    # Will need to factor in other actions later, but this will work for now\n",
    "    \n",
    "    \n"
   ]
  },
  {
   "cell_type": "code",
   "execution_count": null,
   "metadata": {},
   "outputs": [],
   "source": [
    "calc_value(sp,sp_div, '2015-11-20', '2017-11-20',100)"
   ]
  },
  {
   "cell_type": "code",
   "execution_count": null,
   "metadata": {},
   "outputs": [],
   "source": [
    "calc_value(bnd,bnd_div, '2015-11-20', '2017-11-20',100)"
   ]
  },
  {
   "cell_type": "code",
   "execution_count": null,
   "metadata": {},
   "outputs": [],
   "source": [
    "sp.Close.plot()"
   ]
  },
  {
   "cell_type": "code",
   "execution_count": null,
   "metadata": {},
   "outputs": [],
   "source": [
    "bnd.Close.plot()"
   ]
  },
  {
   "cell_type": "code",
   "execution_count": null,
   "metadata": {},
   "outputs": [],
   "source": [
    "# Identify the ROI with different asset distributions"
   ]
  },
  {
   "cell_type": "code",
   "execution_count": null,
   "metadata": {},
   "outputs": [],
   "source": [
    "class Share:\n",
    "\n",
    "    def __init__(self, name, asset_type):\n",
    "        \"\"\"Initialize attributes.\"\"\"\n",
    "        self.name = name\n",
    "        self.type = asset_type\n",
    "        #self.amount = amount\n",
    "        \n",
    "    def get_value(self, date):\n",
    "        df = web.DataReader(self.name, 'yahoo', start=date, end=date)\n",
    "        return round(df.loc[date,'Close'],2)\n",
    "    "
   ]
  },
  {
   "cell_type": "code",
   "execution_count": null,
   "metadata": {},
   "outputs": [],
   "source": []
  },
  {
   "cell_type": "code",
   "execution_count": null,
   "metadata": {},
   "outputs": [],
   "source": [
    "bnd = Share('BND','Bond')"
   ]
  },
  {
   "cell_type": "code",
   "execution_count": null,
   "metadata": {},
   "outputs": [],
   "source": [
    "sp = Share('VOO','Equity')"
   ]
  },
  {
   "cell_type": "code",
   "execution_count": null,
   "metadata": {},
   "outputs": [],
   "source": [
    "class Strategy:\n",
    "    \n",
    "    def __init__(self,equity_distribution, bond_distribution, cash_distribution, threshold):\n",
    "        self.equity_distribution = equity_distribution\n",
    "        self.bond_distribution = bond_distribution\n",
    "        self.cash_distribution = 100-(equity_distribution+bond_distribution)\n",
    "        self.threshold = threshold\n",
    "    "
   ]
  },
  {
   "cell_type": "code",
   "execution_count": null,
   "metadata": {},
   "outputs": [],
   "source": [
    "class Portfolio:\n",
    "    \n",
    "    def __init__(self):\n",
    "        self.shares = {}\n",
    "        self.log = {}\n",
    "        self.cash_bal = 0\n",
    "        self.asset_split = {'Equities': None,'Bonds': None,'Cash': None}\n",
    "        self.asset_values = {'Equities': None,'Bonds': None,'Cash': None}\n",
    "        \n",
    "    def buy(self, share, amount, date):\n",
    "        purchase_price = share.get_value(date)\n",
    "        shares = amount/purchase_price\n",
    "        # Record the transaction\n",
    "        self.log[len(self.log)] = ['Buy',share,amount,purchase_price,shares,date]\n",
    "        # Add the number of shares\n",
    "        if share in self.shares:\n",
    "            self.shares[share] += shares\n",
    "        elif share not in self.shares:\n",
    "            self.shares[share] = shares\n",
    "            \n",
    "    def sell(self, share, amount, date):\n",
    "        sell_price = share.get_value(date)\n",
    "        shares = amount/sell_price\n",
    "        # Record the transaction\n",
    "        self.log[len(self.log)] = ['Sell',share,amount,sell_price,shares,date]\n",
    "        # Add the number of shares\n",
    "        if share in self.shares:\n",
    "            self.shares[share] -= shares\n",
    "        elif share not in self.shares:\n",
    "            self.shares[share] = shares\n",
    "        cash_bal += amount\n",
    "        \n",
    "            \n",
    "    def get_value(self,date):\n",
    "        value = self.cash_bal\n",
    "        # Iterate through the 'shares' attribute and get the current value for each 'Share' object\n",
    "        for share in self.shares:\n",
    "            value += share.get_value(date)*self.shares[share]\n",
    "        return(value)\n",
    "    \n",
    "    def get_asset_values(self,date):\n",
    "        bond_val = 0\n",
    "        eq_val = 0\n",
    "        for share in self.shares:\n",
    "            if share.type == 'Bond':\n",
    "                bond_val += share.get_value(date)*self.shares[share]\n",
    "            elif share.type == 'Equity':\n",
    "                eq_val += share.get_value(date)*self.shares[share]\n",
    "        total = bond_val+eq_val+self.cash_bal\n",
    "        self.asset_values = {'Equities': eq_val,'Bonds': bond_val,'Cash': self.cash_bal}\n",
    "        self.asset_split = {'Equities': (eq_val/total)*100,'Bonds': (bond_val/total)*100,'Cash': (self.cash_bal/total)*100}\n",
    "            \n",
    "        \n",
    "    "
   ]
  },
  {
   "cell_type": "code",
   "execution_count": null,
   "metadata": {},
   "outputs": [],
   "source": [
    "portfolio = Portfolio()"
   ]
  },
  {
   "cell_type": "code",
   "execution_count": null,
   "metadata": {},
   "outputs": [],
   "source": [
    "portfolio.get_value)"
   ]
  },
  {
   "cell_type": "code",
   "execution_count": null,
   "metadata": {},
   "outputs": [],
   "source": [
    "# Calculate portfolio value\n",
    "\n",
    "start_date = '2015-11-20'\n",
    "end_date = '2020-11-20'\n",
    "\n",
    "portfolio.buy(sp,750,start_date)\n",
    "portfolio.buy(bnd,250,start_date)\n",
    "\n",
    "portfolio.get_value(end_date)"
   ]
  },
  {
   "cell_type": "code",
   "execution_count": null,
   "metadata": {},
   "outputs": [],
   "source": [
    "bond = web.DataReader('BND', 'yahoo', start='2015-10-30', end='2020-10-30')"
   ]
  },
  {
   "cell_type": "code",
   "execution_count": null,
   "metadata": {},
   "outputs": [],
   "source": [
    "dates = list(bond.index)"
   ]
  },
  {
   "cell_type": "code",
   "execution_count": null,
   "metadata": {},
   "outputs": [],
   "source": [
    "dates = [x.strftime('%Y-%m-%d') for x in dates]"
   ]
  },
  {
   "cell_type": "code",
   "execution_count": null,
   "metadata": {},
   "outputs": [],
   "source": [
    "# Deploy balancing strategy\n",
    "\n",
    "strategy = Strategy(75,25,0,1)\n",
    "\n",
    "# Initial Purchase (manually allocated proportions)\n",
    "portfolio = Portfolio() \n",
    "portfolio.buy(sp,750,start_date)\n",
    "portfolio.buy(bnd,250,start_date)\n",
    "\n",
    "for date in dates:\n",
    "    portfolio.get_asset_values(date)\n",
    "    if portfolio.asset_split['Equities'] > strategy.equity_distribution+strategy.threshold:\n",
    "        amount_to_sell = (portfolio.asset_split['Equities']-strategy.equity_distribution)*portfolio.asset_values['Equities']\n",
    "        portfolio.sell(sp,amount_to_sell,date)\n",
    "        portfolio.buy(bnd,amount_to_sell,date)\n",
    "        \n",
    "\n",
    "    "
   ]
  },
  {
   "cell_type": "code",
   "execution_count": null,
   "metadata": {},
   "outputs": [],
   "source": [
    "portfolio.get_asset_values('2019-10-29')"
   ]
  },
  {
   "cell_type": "code",
   "execution_count": null,
   "metadata": {},
   "outputs": [],
   "source": [
    "portfolio.asset_split['Equities']"
   ]
  },
  {
   "cell_type": "code",
   "execution_count": null,
   "metadata": {},
   "outputs": [],
   "source": []
  }
 ],
 "metadata": {
  "kernelspec": {
   "display_name": "Python 3",
   "language": "python",
   "name": "python3"
  },
  "language_info": {
   "codemirror_mode": {
    "name": "ipython",
    "version": 3
   },
   "file_extension": ".py",
   "mimetype": "text/x-python",
   "name": "python",
   "nbconvert_exporter": "python",
   "pygments_lexer": "ipython3",
   "version": "3.6.9"
  }
 },
 "nbformat": 4,
 "nbformat_minor": 4
}

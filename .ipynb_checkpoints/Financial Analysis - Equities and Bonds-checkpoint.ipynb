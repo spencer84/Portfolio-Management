{
 "cells": [
  {
   "cell_type": "markdown",
   "metadata": {},
   "source": [
    "## 0. Import Modules and Data"
   ]
  },
  {
   "cell_type": "code",
   "execution_count": 1,
   "metadata": {},
   "outputs": [],
   "source": [
    "import pandas as pd\n",
    "import numpy as np\n",
    "from pandas_datareader import data\n",
    "import pandas_datareader.data as web\n",
    "import datetime as dt"
   ]
  },
  {
   "cell_type": "code",
   "execution_count": 2,
   "metadata": {},
   "outputs": [],
   "source": [
    "import Portfolio as port # This is from the Portfolio.py file with the different classes defined"
   ]
  },
  {
   "cell_type": "markdown",
   "metadata": {},
   "source": [
    "## 1. Set-up Portfolio Strategy"
   ]
  },
  {
   "cell_type": "code",
   "execution_count": 3,
   "metadata": {},
   "outputs": [],
   "source": [
    "# Define start date and end date\n",
    "\n",
    "start_date = '2015-01-01'\n",
    "\n",
    "end_date = '2020-01-05'"
   ]
  },
  {
   "cell_type": "code",
   "execution_count": 4,
   "metadata": {},
   "outputs": [],
   "source": [
    "# Define Shares\n",
    "\n",
    "# Provide the name of the ticker and type (Equity or Bond)\n",
    "\n",
    "#VOO and BND are Vanguard ETFs which are proxies for individual stocks/bonds\n",
    "\n",
    "voo = port.Share('VOO', 'Equity', start_date,end_date)\n",
    "bnd = port.Share('BND', 'Bond', start_date, end_date)"
   ]
  },
  {
   "cell_type": "code",
   "execution_count": 5,
   "metadata": {},
   "outputs": [
    {
     "data": {
      "text/plain": [
       "229.99"
      ]
     },
     "execution_count": 5,
     "metadata": {},
     "output_type": "execute_result"
    }
   ],
   "source": [
    "voo.get_value('2019-01-01')"
   ]
  },
  {
   "cell_type": "code",
   "execution_count": 6,
   "metadata": {},
   "outputs": [
    {
     "data": {
      "text/plain": [
       "278.55"
      ]
     },
     "execution_count": 6,
     "metadata": {},
     "output_type": "execute_result"
    }
   ],
   "source": [
    "voo.get_value('2019-10-31')"
   ]
  },
  {
   "cell_type": "code",
   "execution_count": 7,
   "metadata": {},
   "outputs": [],
   "source": [
    "# Need a way to group the different shares together\n",
    "\n",
    "shares_list = [voo, bnd]\n",
    "\n",
    "shares_dict = {}\n",
    "\n",
    "for share in shares_list:\n",
    "    shares_dict[share] = share.type\n"
   ]
  },
  {
   "cell_type": "code",
   "execution_count": 8,
   "metadata": {},
   "outputs": [
    {
     "data": {
      "text/plain": [
       "{<Portfolio.Share at 0x7f59443cf048>: 'Equity',\n",
       " <Portfolio.Share at 0x7f59443cfbe0>: 'Bond'}"
      ]
     },
     "execution_count": 8,
     "metadata": {},
     "output_type": "execute_result"
    }
   ],
   "source": [
    "shares_dict"
   ]
  },
  {
   "cell_type": "code",
   "execution_count": 24,
   "metadata": {},
   "outputs": [],
   "source": [
    "# Define Strategy\n",
    "\n",
    "# Provide the equity distribution, the bond distriubtion, cash distribution, and the threshold\n",
    "strat = port.Strategy(50,50,0,1)"
   ]
  },
  {
   "cell_type": "code",
   "execution_count": 25,
   "metadata": {},
   "outputs": [],
   "source": [
    "# Run portfolio with set start and end dates\n",
    "\n",
    "portfolio = port.Portfolio(shares_dict)\n",
    "\n",
    "portfolio.initial_buy(500, strat, start_date)"
   ]
  },
  {
   "cell_type": "code",
   "execution_count": 26,
   "metadata": {},
   "outputs": [],
   "source": [
    "portfolio.get_asset_values(start_date)"
   ]
  },
  {
   "cell_type": "code",
   "execution_count": 27,
   "metadata": {},
   "outputs": [
    {
     "data": {
      "text/plain": [
       "{'Equities': 50.0, 'Bonds': 50.0, 'Cash': 0.0}"
      ]
     },
     "execution_count": 27,
     "metadata": {},
     "output_type": "execute_result"
    }
   ],
   "source": [
    "portfolio.asset_split"
   ]
  },
  {
   "cell_type": "code",
   "execution_count": 28,
   "metadata": {
    "scrolled": false
   },
   "outputs": [],
   "source": [
    "# Run the portfolio over a series of months\n",
    "\n",
    "time_period = pd.date_range(pd.to_datetime(start_date),pd.to_datetime(end_date))\n",
    "\n",
    "for day in time_period:\n",
    "    portfolio.reinvest_divs(day)\n",
    "    portfolio.get_asset_values(day)\n",
    "    if portfolio.asset_split['Equities'] > strat.equity_distribution+strat.threshold:\n",
    "        sell_amt = (portfolio.asset_values['Equities']+portfolio.asset_values['Bonds'])*((portfolio.asset_split['Equities']-strat.equity_distribution)/100)\n",
    "        sell_amt_per = sell_amt/len(portfolio.equities)\n",
    "        for share in portfolio.equities: # sell equities and buy more bonds\n",
    "            portfolio.sell(share, sell_amt_per, day)\n",
    "        for share in portfolio.bonds:\n",
    "            portfolio.buy(share, sell_amt_per, day)\n",
    "               \n",
    "    if portfolio.asset_split['Bonds'] > strat.bond_distribution+strat.threshold:\n",
    "        sell_amt = (portfolio.asset_values['Equities']+portfolio.asset_values['Bonds'])*(portfolio.asset_split['Bonds']-strat.bond_distribution)\n",
    "        sell_amt_per = sell_amt/len(portfolio.bonds)\n",
    "        for share in portfolio.bonds: # sell bonds and buy more equities\n",
    "            portfolio.sell(share, sell_amt_per, day)\n",
    "        for share in portfolio.bonds:\n",
    "            portfolio.buy(share, sell_amt_per, day)\n",
    "        \n",
    "    "
   ]
  },
  {
   "cell_type": "code",
   "execution_count": 29,
   "metadata": {},
   "outputs": [
    {
     "data": {
      "text/html": [
       "<div>\n",
       "<style scoped>\n",
       "    .dataframe tbody tr th:only-of-type {\n",
       "        vertical-align: middle;\n",
       "    }\n",
       "\n",
       "    .dataframe tbody tr th {\n",
       "        vertical-align: top;\n",
       "    }\n",
       "\n",
       "    .dataframe thead th {\n",
       "        text-align: right;\n",
       "    }\n",
       "</style>\n",
       "<table border=\"1\" class=\"dataframe\">\n",
       "  <thead>\n",
       "    <tr style=\"text-align: right;\">\n",
       "      <th></th>\n",
       "      <th>Total Value</th>\n",
       "      <th>Equities</th>\n",
       "      <th>Bonds</th>\n",
       "    </tr>\n",
       "    <tr>\n",
       "      <th>Date</th>\n",
       "      <th></th>\n",
       "      <th></th>\n",
       "      <th></th>\n",
       "    </tr>\n",
       "  </thead>\n",
       "  <tbody>\n",
       "    <tr>\n",
       "      <th>2020-01-01</th>\n",
       "      <td>715.957431</td>\n",
       "      <td>362.850082</td>\n",
       "      <td>353.107349</td>\n",
       "    </tr>\n",
       "    <tr>\n",
       "      <th>2020-01-02</th>\n",
       "      <td>715.957431</td>\n",
       "      <td>362.850082</td>\n",
       "      <td>353.107349</td>\n",
       "    </tr>\n",
       "    <tr>\n",
       "      <th>2020-01-03</th>\n",
       "      <td>714.568308</td>\n",
       "      <td>360.199411</td>\n",
       "      <td>354.368897</td>\n",
       "    </tr>\n",
       "    <tr>\n",
       "      <th>2020-01-04</th>\n",
       "      <td>714.568308</td>\n",
       "      <td>360.199411</td>\n",
       "      <td>354.368897</td>\n",
       "    </tr>\n",
       "    <tr>\n",
       "      <th>2020-01-05</th>\n",
       "      <td>714.568308</td>\n",
       "      <td>360.199411</td>\n",
       "      <td>354.368897</td>\n",
       "    </tr>\n",
       "  </tbody>\n",
       "</table>\n",
       "</div>"
      ],
      "text/plain": [
       "            Total Value    Equities       Bonds\n",
       "Date                                           \n",
       "2020-01-01   715.957431  362.850082  353.107349\n",
       "2020-01-02   715.957431  362.850082  353.107349\n",
       "2020-01-03   714.568308  360.199411  354.368897\n",
       "2020-01-04   714.568308  360.199411  354.368897\n",
       "2020-01-05   714.568308  360.199411  354.368897"
      ]
     },
     "execution_count": 29,
     "metadata": {},
     "output_type": "execute_result"
    }
   ],
   "source": [
    "# Create a dataframe with the historical data\n",
    "\n",
    "portfolio_history = portfolio.get_hist_df()\n",
    "portfolio_history['Date'] = pd.to_datetime(portfolio_history['Date']) # Convert date to datetime object\n",
    "portfolio_history.set_index('Date', inplace = True)\n",
    "portfolio_history.tail()"
   ]
  },
  {
   "cell_type": "code",
   "execution_count": 30,
   "metadata": {},
   "outputs": [
    {
     "data": {
      "text/plain": [
       "<AxesSubplot:xlabel='Date'>"
      ]
     },
     "execution_count": 30,
     "metadata": {},
     "output_type": "execute_result"
    },
    {
     "data": {
      "image/png": "[encoded data removed]",
      "text/plain": [
       "<Figure size 432x288 with 1 Axes>"
      ]
     },
     "metadata": {
      "needs_background": "light"
     },
     "output_type": "display_data"
    }
   ],
   "source": [
    "# Plot the Total value, value of equities, and value of bonds over the length of the timeframe\n",
    "\n",
    "# This represents the performance of a portfolio with a 50% Equity-50% Bond allocation\n",
    "\n",
    "portfolio_history[['Total Value', 'Equities','Bonds']].plot()"
   ]
  },
  {
   "cell_type": "markdown",
   "metadata": {},
   "source": [
    "## 2. Compare Different Allocation Rates"
   ]
  },
  {
   "cell_type": "code",
   "execution_count": 137,
   "metadata": {},
   "outputs": [],
   "source": [
    "# Create an empty DataFrame for different allocation rates\n",
    "\n",
    "allocation_df = pd.DataFrame()\n",
    "\n",
    "# Create an empty DataFrame for different allocation ROI\n",
    "\n",
    "allocation_roi_df = pd.DataFrame()"
   ]
  },
  {
   "cell_type": "code",
   "execution_count": 138,
   "metadata": {},
   "outputs": [],
   "source": [
    "# Create a loop for different strategies (different allocation proportions)\n",
    "\n",
    "# This is largely the same as above, however, the strat (strategy) will change in each iteration\n",
    "\n",
    "ini_amount = 500\n",
    " \n",
    "for i in range(0,100,5):\n",
    "    strat = port.Strategy(i,100-i,0,1) \n",
    "    \n",
    "    portfolio = port.Portfolio(shares_dict)\n",
    "\n",
    "    portfolio.initial_buy(ini_amount, strat, start_date)\n",
    "    \n",
    "    time_period = pd.date_range(pd.to_datetime(start_date),pd.to_datetime(end_date))\n",
    "\n",
    "    for day in time_period:\n",
    "        portfolio.reinvest_divs(day)\n",
    "        portfolio.get_asset_values(day)\n",
    "        if portfolio.asset_split['Equities'] > strat.equity_distribution+strat.threshold:\n",
    "            sell_amt = (portfolio.asset_values['Equities']+portfolio.asset_values['Bonds'])*((portfolio.asset_split['Equities']-strat.equity_distribution)/100)\n",
    "            sell_amt_per = sell_amt/len(portfolio.equities)\n",
    "            for share in portfolio.equities: # sell equities and buy more bonds\n",
    "                portfolio.sell(share, sell_amt_per, day)\n",
    "            for share in portfolio.bonds:\n",
    "                portfolio.buy(share, sell_amt_per, day)\n",
    "\n",
    "        if portfolio.asset_split['Bonds'] > strat.bond_distribution+strat.threshold:\n",
    "            sell_amt = (portfolio.asset_values['Equities']+portfolio.asset_values['Bonds'])*(portfolio.asset_split['Bonds']-strat.bond_distribution)\n",
    "            sell_amt_per = sell_amt/len(portfolio.bonds)\n",
    "            for share in portfolio.bonds: # sell bonds and buy more equities\n",
    "                portfolio.sell(share, sell_amt_per, day)\n",
    "            for share in portfolio.bonds:\n",
    "                portfolio.buy(share, sell_amt_per, day)\n",
    "    portfolio_history = portfolio.get_hist_df()\n",
    "    portfolio_history['Date'] = pd.to_datetime(portfolio_history['Date']) # Convert date to datetime object\n",
    "    portfolio_history.set_index('Date', inplace = True) \n",
    "    \n",
    "    # Create a new column of the allocation dataframe based on the total value of the most recent portfolio simulation\n",
    "    allocation_df[str(i)+'% Equities:'+str(100-i)+'% Bonds'] = portfolio_history['Total Value']\n",
    "    \n",
    "    # Loop through each year to calculate a ROI in each year \n",
    "    \n",
    "    portfolio_history['Year'] = portfolio_history.index.strftime('%Y')\n",
    "    \n",
    "    years = list(portfolio_history['Year'].unique())\n",
    "    \n",
    "    for year in years:\n",
    "        subset = portfolio_history[portfolio_history['Year']==year]\n",
    "        allocation_roi_df.at[year,str(i)+'% Equities:'+str(100-i)+' % Bonds'] = ((subset['Total Value'].iat[-1]/subset['Total Value'].iat[0])-1)*100\n",
    "    allocation_roi_df.at['Period Total',str(i)+'% Equities:'+str(100-i)+' % Bonds'] = ((portfolio_history['Total Value'].iat[-1]/portfolio_history['Total Value'].iat[0])-1)*100\n",
    "\n",
    "    \n",
    " "
   ]
  },
  {
   "cell_type": "code",
   "execution_count": 36,
   "metadata": {},
   "outputs": [
    {
     "data": {
      "text/plain": [
       "<AxesSubplot:xlabel='Date'>"
      ]
     },
     "execution_count": 36,
     "metadata": {},
     "output_type": "execute_result"
    },
    {
     "data": {
      "image/png": "[encoded data removed]",
      "text/plain": [
       "<Figure size 432x288 with 1 Axes>"
      ]
     },
     "metadata": {
      "needs_background": "light"
     },
     "output_type": "display_data"
    }
   ],
   "source": [
    "allocation_df[['20% Equities:80% Bonds','40% Equities:60% Bonds','60% Equities:40% Bonds','80% Equities:20% Bonds']].plot()"
   ]
  },
  {
   "cell_type": "code",
   "execution_count": 72,
   "metadata": {},
   "outputs": [
    {
     "data": {
      "text/html": [
       "<div>\n",
       "<style scoped>\n",
       "    .dataframe tbody tr th:only-of-type {\n",
       "        vertical-align: middle;\n",
       "    }\n",
       "\n",
       "    .dataframe tbody tr th {\n",
       "        vertical-align: top;\n",
       "    }\n",
       "\n",
       "    .dataframe thead th {\n",
       "        text-align: right;\n",
       "    }\n",
       "</style>\n",
       "<table border=\"1\" class=\"dataframe\">\n",
       "  <thead>\n",
       "    <tr style=\"text-align: right;\">\n",
       "      <th></th>\n",
       "      <th>0% Equities:100 % Bonds</th>\n",
       "      <th>5% Equities:95 % Bonds</th>\n",
       "      <th>10% Equities:90 % Bonds</th>\n",
       "      <th>15% Equities:85 % Bonds</th>\n",
       "      <th>20% Equities:80 % Bonds</th>\n",
       "      <th>25% Equities:75 % Bonds</th>\n",
       "      <th>30% Equities:70 % Bonds</th>\n",
       "      <th>35% Equities:65 % Bonds</th>\n",
       "      <th>40% Equities:60 % Bonds</th>\n",
       "      <th>45% Equities:55 % Bonds</th>\n",
       "      <th>50% Equities:50 % Bonds</th>\n",
       "      <th>55% Equities:45 % Bonds</th>\n",
       "      <th>60% Equities:40 % Bonds</th>\n",
       "      <th>65% Equities:35 % Bonds</th>\n",
       "      <th>70% Equities:30 % Bonds</th>\n",
       "      <th>75% Equities:25 % Bonds</th>\n",
       "      <th>80% Equities:20 % Bonds</th>\n",
       "      <th>85% Equities:15 % Bonds</th>\n",
       "      <th>90% Equities:10 % Bonds</th>\n",
       "      <th>95% Equities:5 % Bonds</th>\n",
       "    </tr>\n",
       "  </thead>\n",
       "  <tbody>\n",
       "    <tr>\n",
       "      <th>2015</th>\n",
       "      <td>0.218626</td>\n",
       "      <td>0.273435</td>\n",
       "      <td>0.328244</td>\n",
       "      <td>0.383053</td>\n",
       "      <td>0.437862</td>\n",
       "      <td>0.492671</td>\n",
       "      <td>0.584348</td>\n",
       "      <td>0.636731</td>\n",
       "      <td>0.689152</td>\n",
       "      <td>0.741940</td>\n",
       "      <td>0.797053</td>\n",
       "      <td>0.851559</td>\n",
       "      <td>0.908389</td>\n",
       "      <td>0.965585</td>\n",
       "      <td>1.028476</td>\n",
       "      <td>1.040762</td>\n",
       "      <td>1.095572</td>\n",
       "      <td>1.150381</td>\n",
       "      <td>1.205190</td>\n",
       "      <td>1.259999</td>\n",
       "    </tr>\n",
       "    <tr>\n",
       "      <th>2016</th>\n",
       "      <td>2.587218</td>\n",
       "      <td>3.184265</td>\n",
       "      <td>3.786813</td>\n",
       "      <td>4.348741</td>\n",
       "      <td>4.929391</td>\n",
       "      <td>5.520848</td>\n",
       "      <td>6.043585</td>\n",
       "      <td>6.629010</td>\n",
       "      <td>7.222337</td>\n",
       "      <td>7.818013</td>\n",
       "      <td>8.428890</td>\n",
       "      <td>9.014540</td>\n",
       "      <td>9.615362</td>\n",
       "      <td>10.227456</td>\n",
       "      <td>10.822423</td>\n",
       "      <td>11.506959</td>\n",
       "      <td>12.112548</td>\n",
       "      <td>12.729853</td>\n",
       "      <td>13.371337</td>\n",
       "      <td>13.959125</td>\n",
       "    </tr>\n",
       "    <tr>\n",
       "      <th>2017</th>\n",
       "      <td>3.691745</td>\n",
       "      <td>4.613491</td>\n",
       "      <td>5.444126</td>\n",
       "      <td>6.325657</td>\n",
       "      <td>7.175629</td>\n",
       "      <td>8.036254</td>\n",
       "      <td>8.918145</td>\n",
       "      <td>9.803572</td>\n",
       "      <td>10.686046</td>\n",
       "      <td>11.585973</td>\n",
       "      <td>12.471108</td>\n",
       "      <td>13.397852</td>\n",
       "      <td>14.309808</td>\n",
       "      <td>15.235800</td>\n",
       "      <td>16.168599</td>\n",
       "      <td>17.096929</td>\n",
       "      <td>18.065387</td>\n",
       "      <td>19.012808</td>\n",
       "      <td>19.950952</td>\n",
       "      <td>20.963172</td>\n",
       "    </tr>\n",
       "    <tr>\n",
       "      <th>2018</th>\n",
       "      <td>0.399563</td>\n",
       "      <td>0.098906</td>\n",
       "      <td>-0.073633</td>\n",
       "      <td>-0.341283</td>\n",
       "      <td>-0.458312</td>\n",
       "      <td>-0.708085</td>\n",
       "      <td>-1.070154</td>\n",
       "      <td>-1.279104</td>\n",
       "      <td>-1.622218</td>\n",
       "      <td>-1.895153</td>\n",
       "      <td>-2.030043</td>\n",
       "      <td>-2.454619</td>\n",
       "      <td>-2.741172</td>\n",
       "      <td>-3.049134</td>\n",
       "      <td>-3.278649</td>\n",
       "      <td>-3.636598</td>\n",
       "      <td>-3.938433</td>\n",
       "      <td>-4.232325</td>\n",
       "      <td>-4.502496</td>\n",
       "      <td>-4.926519</td>\n",
       "    </tr>\n",
       "    <tr>\n",
       "      <th>2019</th>\n",
       "      <td>8.615056</td>\n",
       "      <td>9.752188</td>\n",
       "      <td>10.650205</td>\n",
       "      <td>11.685000</td>\n",
       "      <td>12.552129</td>\n",
       "      <td>13.576834</td>\n",
       "      <td>14.758023</td>\n",
       "      <td>15.754691</td>\n",
       "      <td>16.930999</td>\n",
       "      <td>18.034645</td>\n",
       "      <td>18.976087</td>\n",
       "      <td>20.287908</td>\n",
       "      <td>21.438156</td>\n",
       "      <td>22.636861</td>\n",
       "      <td>23.738357</td>\n",
       "      <td>25.025217</td>\n",
       "      <td>26.239241</td>\n",
       "      <td>27.467102</td>\n",
       "      <td>28.669020</td>\n",
       "      <td>30.088455</td>\n",
       "    </tr>\n",
       "    <tr>\n",
       "      <th>2020</th>\n",
       "      <td>0.357270</td>\n",
       "      <td>0.301886</td>\n",
       "      <td>0.240486</td>\n",
       "      <td>0.194103</td>\n",
       "      <td>0.135325</td>\n",
       "      <td>0.080188</td>\n",
       "      <td>0.028791</td>\n",
       "      <td>-0.033622</td>\n",
       "      <td>-0.082840</td>\n",
       "      <td>-0.137380</td>\n",
       "      <td>-0.194023</td>\n",
       "      <td>-0.246149</td>\n",
       "      <td>-0.300378</td>\n",
       "      <td>-0.354503</td>\n",
       "      <td>-0.404179</td>\n",
       "      <td>-0.460475</td>\n",
       "      <td>-0.512957</td>\n",
       "      <td>-0.576525</td>\n",
       "      <td>-0.626441</td>\n",
       "      <td>-0.684159</td>\n",
       "    </tr>\n",
       "    <tr>\n",
       "      <th>Period Total</th>\n",
       "      <td>17.000328</td>\n",
       "      <td>19.566755</td>\n",
       "      <td>21.955314</td>\n",
       "      <td>24.430453</td>\n",
       "      <td>26.896683</td>\n",
       "      <td>29.435010</td>\n",
       "      <td>32.037200</td>\n",
       "      <td>34.667888</td>\n",
       "      <td>37.361456</td>\n",
       "      <td>40.117462</td>\n",
       "      <td>42.913662</td>\n",
       "      <td>45.777220</td>\n",
       "      <td>48.682505</td>\n",
       "      <td>51.676951</td>\n",
       "      <td>54.714501</td>\n",
       "      <td>57.797106</td>\n",
       "      <td>60.967322</td>\n",
       "      <td>64.155941</td>\n",
       "      <td>67.426343</td>\n",
       "      <td>70.757296</td>\n",
       "    </tr>\n",
       "  </tbody>\n",
       "</table>\n",
       "</div>"
      ],
      "text/plain": [
       "              0% Equities:100 % Bonds  5% Equities:95 % Bonds  \\\n",
       "2015                         0.218626                0.273435   \n",
       "2016                         2.587218                3.184265   \n",
       "2017                         3.691745                4.613491   \n",
       "2018                         0.399563                0.098906   \n",
       "2019                         8.615056                9.752188   \n",
       "2020                         0.357270                0.301886   \n",
       "Period Total                17.000328               19.566755   \n",
       "\n",
       "              10% Equities:90 % Bonds  15% Equities:85 % Bonds  \\\n",
       "2015                         0.328244                 0.383053   \n",
       "2016                         3.786813                 4.348741   \n",
       "2017                         5.444126                 6.325657   \n",
       "2018                        -0.073633                -0.341283   \n",
       "2019                        10.650205                11.685000   \n",
       "2020                         0.240486                 0.194103   \n",
       "Period Total                21.955314                24.430453   \n",
       "\n",
       "              20% Equities:80 % Bonds  25% Equities:75 % Bonds  \\\n",
       "2015                         0.437862                 0.492671   \n",
       "2016                         4.929391                 5.520848   \n",
       "2017                         7.175629                 8.036254   \n",
       "2018                        -0.458312                -0.708085   \n",
       "2019                        12.552129                13.576834   \n",
       "2020                         0.135325                 0.080188   \n",
       "Period Total                26.896683                29.435010   \n",
       "\n",
       "              30% Equities:70 % Bonds  35% Equities:65 % Bonds  \\\n",
       "2015                         0.584348                 0.636731   \n",
       "2016                         6.043585                 6.629010   \n",
       "2017                         8.918145                 9.803572   \n",
       "2018                        -1.070154                -1.279104   \n",
       "2019                        14.758023                15.754691   \n",
       "2020                         0.028791                -0.033622   \n",
       "Period Total                32.037200                34.667888   \n",
       "\n",
       "              40% Equities:60 % Bonds  45% Equities:55 % Bonds  \\\n",
       "2015                         0.689152                 0.741940   \n",
       "2016                         7.222337                 7.818013   \n",
       "2017                        10.686046                11.585973   \n",
       "2018                        -1.622218                -1.895153   \n",
       "2019                        16.930999                18.034645   \n",
       "2020                        -0.082840                -0.137380   \n",
       "Period Total                37.361456                40.117462   \n",
       "\n",
       "              50% Equities:50 % Bonds  55% Equities:45 % Bonds  \\\n",
       "2015                         0.797053                 0.851559   \n",
       "2016                         8.428890                 9.014540   \n",
       "2017                        12.471108                13.397852   \n",
       "2018                        -2.030043                -2.454619   \n",
       "2019                        18.976087                20.287908   \n",
       "2020                        -0.194023                -0.246149   \n",
       "Period Total                42.913662                45.777220   \n",
       "\n",
       "              60% Equities:40 % Bonds  65% Equities:35 % Bonds  \\\n",
       "2015                         0.908389                 0.965585   \n",
       "2016                         9.615362                10.227456   \n",
       "2017                        14.309808                15.235800   \n",
       "2018                        -2.741172                -3.049134   \n",
       "2019                        21.438156                22.636861   \n",
       "2020                        -0.300378                -0.354503   \n",
       "Period Total                48.682505                51.676951   \n",
       "\n",
       "              70% Equities:30 % Bonds  75% Equities:25 % Bonds  \\\n",
       "2015                         1.028476                 1.040762   \n",
       "2016                        10.822423                11.506959   \n",
       "2017                        16.168599                17.096929   \n",
       "2018                        -3.278649                -3.636598   \n",
       "2019                        23.738357                25.025217   \n",
       "2020                        -0.404179                -0.460475   \n",
       "Period Total                54.714501                57.797106   \n",
       "\n",
       "              80% Equities:20 % Bonds  85% Equities:15 % Bonds  \\\n",
       "2015                         1.095572                 1.150381   \n",
       "2016                        12.112548                12.729853   \n",
       "2017                        18.065387                19.012808   \n",
       "2018                        -3.938433                -4.232325   \n",
       "2019                        26.239241                27.467102   \n",
       "2020                        -0.512957                -0.576525   \n",
       "Period Total                60.967322                64.155941   \n",
       "\n",
       "              90% Equities:10 % Bonds  95% Equities:5 % Bonds  \n",
       "2015                         1.205190                1.259999  \n",
       "2016                        13.371337               13.959125  \n",
       "2017                        19.950952               20.963172  \n",
       "2018                        -4.502496               -4.926519  \n",
       "2019                        28.669020               30.088455  \n",
       "2020                        -0.626441               -0.684159  \n",
       "Period Total                67.426343               70.757296  "
      ]
     },
     "execution_count": 72,
     "metadata": {},
     "output_type": "execute_result"
    }
   ],
   "source": [
    "allocation_roi_df"
   ]
  },
  {
   "cell_type": "markdown",
   "metadata": {},
   "source": [
    "## 3. Analyse Volatility"
   ]
  },
  {
   "cell_type": "code",
   "execution_count": 145,
   "metadata": {},
   "outputs": [
    {
     "data": {
      "text/html": [
       "<div>\n",
       "<style scoped>\n",
       "    .dataframe tbody tr th:only-of-type {\n",
       "        vertical-align: middle;\n",
       "    }\n",
       "\n",
       "    .dataframe tbody tr th {\n",
       "        vertical-align: top;\n",
       "    }\n",
       "\n",
       "    .dataframe thead th {\n",
       "        text-align: right;\n",
       "    }\n",
       "</style>\n",
       "<table border=\"1\" class=\"dataframe\">\n",
       "  <thead>\n",
       "    <tr style=\"text-align: right;\">\n",
       "      <th></th>\n",
       "      <th>0% Equities:100% Bonds</th>\n",
       "      <th>5% Equities:95% Bonds</th>\n",
       "      <th>10% Equities:90% Bonds</th>\n",
       "      <th>15% Equities:85% Bonds</th>\n",
       "      <th>20% Equities:80% Bonds</th>\n",
       "      <th>25% Equities:75% Bonds</th>\n",
       "      <th>30% Equities:70% Bonds</th>\n",
       "      <th>35% Equities:65% Bonds</th>\n",
       "      <th>40% Equities:60% Bonds</th>\n",
       "      <th>45% Equities:55% Bonds</th>\n",
       "      <th>50% Equities:50% Bonds</th>\n",
       "      <th>55% Equities:45% Bonds</th>\n",
       "      <th>60% Equities:40% Bonds</th>\n",
       "      <th>65% Equities:35% Bonds</th>\n",
       "      <th>70% Equities:30% Bonds</th>\n",
       "      <th>75% Equities:25% Bonds</th>\n",
       "      <th>80% Equities:20% Bonds</th>\n",
       "      <th>85% Equities:15% Bonds</th>\n",
       "      <th>90% Equities:10% Bonds</th>\n",
       "      <th>95% Equities:5% Bonds</th>\n",
       "    </tr>\n",
       "    <tr>\n",
       "      <th>Date</th>\n",
       "      <th></th>\n",
       "      <th></th>\n",
       "      <th></th>\n",
       "      <th></th>\n",
       "      <th></th>\n",
       "      <th></th>\n",
       "      <th></th>\n",
       "      <th></th>\n",
       "      <th></th>\n",
       "      <th></th>\n",
       "      <th></th>\n",
       "      <th></th>\n",
       "      <th></th>\n",
       "      <th></th>\n",
       "      <th></th>\n",
       "      <th></th>\n",
       "      <th></th>\n",
       "      <th></th>\n",
       "      <th></th>\n",
       "      <th></th>\n",
       "    </tr>\n",
       "  </thead>\n",
       "  <tbody>\n",
       "    <tr>\n",
       "      <th>2015-01-01</th>\n",
       "      <td>500.000000</td>\n",
       "      <td>500.000000</td>\n",
       "      <td>500.000000</td>\n",
       "      <td>500.000000</td>\n",
       "      <td>500.000000</td>\n",
       "      <td>500.000000</td>\n",
       "      <td>500.000000</td>\n",
       "      <td>500.000000</td>\n",
       "      <td>500.000000</td>\n",
       "      <td>500.000000</td>\n",
       "      <td>500.000000</td>\n",
       "      <td>500.000000</td>\n",
       "      <td>500.000000</td>\n",
       "      <td>500.000000</td>\n",
       "      <td>500.000000</td>\n",
       "      <td>500.000000</td>\n",
       "      <td>500.000000</td>\n",
       "      <td>500.000000</td>\n",
       "      <td>500.000000</td>\n",
       "      <td>500.000000</td>\n",
       "    </tr>\n",
       "    <tr>\n",
       "      <th>2015-01-03</th>\n",
       "      <td>501.451906</td>\n",
       "      <td>500.940085</td>\n",
       "      <td>500.428265</td>\n",
       "      <td>499.916445</td>\n",
       "      <td>499.404624</td>\n",
       "      <td>498.892804</td>\n",
       "      <td>498.380984</td>\n",
       "      <td>497.869163</td>\n",
       "      <td>497.357343</td>\n",
       "      <td>496.845523</td>\n",
       "      <td>496.333702</td>\n",
       "      <td>495.821882</td>\n",
       "      <td>495.310062</td>\n",
       "      <td>494.798241</td>\n",
       "      <td>494.286421</td>\n",
       "      <td>493.774601</td>\n",
       "      <td>493.262780</td>\n",
       "      <td>492.750960</td>\n",
       "      <td>492.239140</td>\n",
       "      <td>491.727319</td>\n",
       "    </tr>\n",
       "    <tr>\n",
       "      <th>2015-01-06</th>\n",
       "      <td>502.903811</td>\n",
       "      <td>502.077888</td>\n",
       "      <td>501.251965</td>\n",
       "      <td>500.426042</td>\n",
       "      <td>499.600119</td>\n",
       "      <td>498.774196</td>\n",
       "      <td>497.948273</td>\n",
       "      <td>497.122350</td>\n",
       "      <td>496.296427</td>\n",
       "      <td>495.470504</td>\n",
       "      <td>494.644581</td>\n",
       "      <td>493.818658</td>\n",
       "      <td>492.992735</td>\n",
       "      <td>492.166812</td>\n",
       "      <td>491.340889</td>\n",
       "      <td>490.514966</td>\n",
       "      <td>489.689043</td>\n",
       "      <td>488.863119</td>\n",
       "      <td>488.037196</td>\n",
       "      <td>487.211273</td>\n",
       "    </tr>\n",
       "    <tr>\n",
       "      <th>2015-01-07</th>\n",
       "      <td>503.206292</td>\n",
       "      <td>502.669119</td>\n",
       "      <td>502.131947</td>\n",
       "      <td>501.594775</td>\n",
       "      <td>501.057602</td>\n",
       "      <td>500.520430</td>\n",
       "      <td>499.983258</td>\n",
       "      <td>499.446085</td>\n",
       "      <td>498.908913</td>\n",
       "      <td>498.371741</td>\n",
       "      <td>497.834568</td>\n",
       "      <td>497.297396</td>\n",
       "      <td>496.760224</td>\n",
       "      <td>496.223051</td>\n",
       "      <td>495.685879</td>\n",
       "      <td>495.148707</td>\n",
       "      <td>494.611534</td>\n",
       "      <td>494.074362</td>\n",
       "      <td>493.537190</td>\n",
       "      <td>493.000017</td>\n",
       "    </tr>\n",
       "    <tr>\n",
       "      <th>2015-01-08</th>\n",
       "      <td>502.419843</td>\n",
       "      <td>502.354583</td>\n",
       "      <td>502.289323</td>\n",
       "      <td>502.224064</td>\n",
       "      <td>502.158804</td>\n",
       "      <td>502.093544</td>\n",
       "      <td>502.028285</td>\n",
       "      <td>501.963025</td>\n",
       "      <td>501.897765</td>\n",
       "      <td>501.832506</td>\n",
       "      <td>501.767246</td>\n",
       "      <td>501.701987</td>\n",
       "      <td>501.636727</td>\n",
       "      <td>501.571467</td>\n",
       "      <td>501.506208</td>\n",
       "      <td>501.440948</td>\n",
       "      <td>501.375688</td>\n",
       "      <td>501.310429</td>\n",
       "      <td>501.245169</td>\n",
       "      <td>501.179909</td>\n",
       "    </tr>\n",
       "  </tbody>\n",
       "</table>\n",
       "</div>"
      ],
      "text/plain": [
       "            0% Equities:100% Bonds  5% Equities:95% Bonds  \\\n",
       "Date                                                        \n",
       "2015-01-01              500.000000             500.000000   \n",
       "2015-01-03              501.451906             500.940085   \n",
       "2015-01-06              502.903811             502.077888   \n",
       "2015-01-07              503.206292             502.669119   \n",
       "2015-01-08              502.419843             502.354583   \n",
       "\n",
       "            10% Equities:90% Bonds  15% Equities:85% Bonds  \\\n",
       "Date                                                         \n",
       "2015-01-01              500.000000              500.000000   \n",
       "2015-01-03              500.428265              499.916445   \n",
       "2015-01-06              501.251965              500.426042   \n",
       "2015-01-07              502.131947              501.594775   \n",
       "2015-01-08              502.289323              502.224064   \n",
       "\n",
       "            20% Equities:80% Bonds  25% Equities:75% Bonds  \\\n",
       "Date                                                         \n",
       "2015-01-01              500.000000              500.000000   \n",
       "2015-01-03              499.404624              498.892804   \n",
       "2015-01-06              499.600119              498.774196   \n",
       "2015-01-07              501.057602              500.520430   \n",
       "2015-01-08              502.158804              502.093544   \n",
       "\n",
       "            30% Equities:70% Bonds  35% Equities:65% Bonds  \\\n",
       "Date                                                         \n",
       "2015-01-01              500.000000              500.000000   \n",
       "2015-01-03              498.380984              497.869163   \n",
       "2015-01-06              497.948273              497.122350   \n",
       "2015-01-07              499.983258              499.446085   \n",
       "2015-01-08              502.028285              501.963025   \n",
       "\n",
       "            40% Equities:60% Bonds  45% Equities:55% Bonds  \\\n",
       "Date                                                         \n",
       "2015-01-01              500.000000              500.000000   \n",
       "2015-01-03              497.357343              496.845523   \n",
       "2015-01-06              496.296427              495.470504   \n",
       "2015-01-07              498.908913              498.371741   \n",
       "2015-01-08              501.897765              501.832506   \n",
       "\n",
       "            50% Equities:50% Bonds  55% Equities:45% Bonds  \\\n",
       "Date                                                         \n",
       "2015-01-01              500.000000              500.000000   \n",
       "2015-01-03              496.333702              495.821882   \n",
       "2015-01-06              494.644581              493.818658   \n",
       "2015-01-07              497.834568              497.297396   \n",
       "2015-01-08              501.767246              501.701987   \n",
       "\n",
       "            60% Equities:40% Bonds  65% Equities:35% Bonds  \\\n",
       "Date                                                         \n",
       "2015-01-01              500.000000              500.000000   \n",
       "2015-01-03              495.310062              494.798241   \n",
       "2015-01-06              492.992735              492.166812   \n",
       "2015-01-07              496.760224              496.223051   \n",
       "2015-01-08              501.636727              501.571467   \n",
       "\n",
       "            70% Equities:30% Bonds  75% Equities:25% Bonds  \\\n",
       "Date                                                         \n",
       "2015-01-01              500.000000              500.000000   \n",
       "2015-01-03              494.286421              493.774601   \n",
       "2015-01-06              491.340889              490.514966   \n",
       "2015-01-07              495.685879              495.148707   \n",
       "2015-01-08              501.506208              501.440948   \n",
       "\n",
       "            80% Equities:20% Bonds  85% Equities:15% Bonds  \\\n",
       "Date                                                         \n",
       "2015-01-01              500.000000              500.000000   \n",
       "2015-01-03              493.262780              492.750960   \n",
       "2015-01-06              489.689043              488.863119   \n",
       "2015-01-07              494.611534              494.074362   \n",
       "2015-01-08              501.375688              501.310429   \n",
       "\n",
       "            90% Equities:10% Bonds  95% Equities:5% Bonds  \n",
       "Date                                                       \n",
       "2015-01-01              500.000000             500.000000  \n",
       "2015-01-03              492.239140             491.727319  \n",
       "2015-01-06              488.037196             487.211273  \n",
       "2015-01-07              493.537190             493.000017  \n",
       "2015-01-08              501.245169             501.179909  "
      ]
     },
     "execution_count": 145,
     "metadata": {},
     "output_type": "execute_result"
    }
   ],
   "source": [
    "allocation_df.head(5)"
   ]
  },
  {
   "cell_type": "code",
   "execution_count": 141,
   "metadata": {},
   "outputs": [],
   "source": [
    "# Remove duplicate values -- Duplicates are created on non-market trading days where the next value is returned\n",
    "\n",
    "allocation_df = allocation_df.drop_duplicates(keep='first').sort_index()"
   ]
  },
  {
   "cell_type": "code",
   "execution_count": 178,
   "metadata": {},
   "outputs": [],
   "source": [
    "# Create an empty DataFrame for reporting the daily change in each strategy\n",
    "\n",
    "daily_change_df = pd.DataFrame(index = allocation_df.index[1:])"
   ]
  },
  {
   "cell_type": "code",
   "execution_count": 179,
   "metadata": {},
   "outputs": [],
   "source": [
    "# Create a function to return daily change\n",
    "def daily_rate(prev, curr):\n",
    "    return(((curr-prev)/prev)*100)\n",
    "\n",
    "for column in allocation_df.columns:\n",
    "    daily_change_df[column] = 0.0 # Initialise the column\n",
    "    val_array = np.array(allocation_df[column])\n",
    "    daily_change_array = np.array(daily_change_df[column])\n",
    "    for i in range(1,len(val_array)):\n",
    "         daily_change_array[i-1] = daily_rate(val_array[i-1],val_array[i])\n",
    "    daily_change_df[column] = daily_change_array\n",
    "    "
   ]
  },
  {
   "cell_type": "code",
   "execution_count": 180,
   "metadata": {},
   "outputs": [
    {
     "data": {
      "text/html": [
       "<div>\n",
       "<style scoped>\n",
       "    .dataframe tbody tr th:only-of-type {\n",
       "        vertical-align: middle;\n",
       "    }\n",
       "\n",
       "    .dataframe tbody tr th {\n",
       "        vertical-align: top;\n",
       "    }\n",
       "\n",
       "    .dataframe thead th {\n",
       "        text-align: right;\n",
       "    }\n",
       "</style>\n",
       "<table border=\"1\" class=\"dataframe\">\n",
       "  <thead>\n",
       "    <tr style=\"text-align: right;\">\n",
       "      <th></th>\n",
       "      <th>0% Equities:100% Bonds</th>\n",
       "      <th>5% Equities:95% Bonds</th>\n",
       "      <th>10% Equities:90% Bonds</th>\n",
       "      <th>15% Equities:85% Bonds</th>\n",
       "      <th>20% Equities:80% Bonds</th>\n",
       "      <th>25% Equities:75% Bonds</th>\n",
       "      <th>30% Equities:70% Bonds</th>\n",
       "      <th>35% Equities:65% Bonds</th>\n",
       "      <th>40% Equities:60% Bonds</th>\n",
       "      <th>45% Equities:55% Bonds</th>\n",
       "      <th>50% Equities:50% Bonds</th>\n",
       "      <th>55% Equities:45% Bonds</th>\n",
       "      <th>60% Equities:40% Bonds</th>\n",
       "      <th>65% Equities:35% Bonds</th>\n",
       "      <th>70% Equities:30% Bonds</th>\n",
       "      <th>75% Equities:25% Bonds</th>\n",
       "      <th>80% Equities:20% Bonds</th>\n",
       "      <th>85% Equities:15% Bonds</th>\n",
       "      <th>90% Equities:10% Bonds</th>\n",
       "      <th>95% Equities:5% Bonds</th>\n",
       "    </tr>\n",
       "    <tr>\n",
       "      <th>Date</th>\n",
       "      <th></th>\n",
       "      <th></th>\n",
       "      <th></th>\n",
       "      <th></th>\n",
       "      <th></th>\n",
       "      <th></th>\n",
       "      <th></th>\n",
       "      <th></th>\n",
       "      <th></th>\n",
       "      <th></th>\n",
       "      <th></th>\n",
       "      <th></th>\n",
       "      <th></th>\n",
       "      <th></th>\n",
       "      <th></th>\n",
       "      <th></th>\n",
       "      <th></th>\n",
       "      <th></th>\n",
       "      <th></th>\n",
       "      <th></th>\n",
       "    </tr>\n",
       "  </thead>\n",
       "  <tbody>\n",
       "    <tr>\n",
       "      <th>2015-01-03</th>\n",
       "      <td>0.290381</td>\n",
       "      <td>0.188017</td>\n",
       "      <td>0.085653</td>\n",
       "      <td>-0.016711</td>\n",
       "      <td>-0.119075</td>\n",
       "      <td>-0.221439</td>\n",
       "      <td>-0.323803</td>\n",
       "      <td>-0.426167</td>\n",
       "      <td>-0.528531</td>\n",
       "      <td>-0.630895</td>\n",
       "      <td>-0.733260</td>\n",
       "      <td>-0.835624</td>\n",
       "      <td>-0.937988</td>\n",
       "      <td>-1.040352</td>\n",
       "      <td>-1.142716</td>\n",
       "      <td>-1.245080</td>\n",
       "      <td>-1.347444</td>\n",
       "      <td>-1.449808</td>\n",
       "      <td>-1.552172</td>\n",
       "      <td>-1.654536</td>\n",
       "    </tr>\n",
       "    <tr>\n",
       "      <th>2015-01-06</th>\n",
       "      <td>0.289540</td>\n",
       "      <td>0.227134</td>\n",
       "      <td>0.164599</td>\n",
       "      <td>0.101937</td>\n",
       "      <td>0.039146</td>\n",
       "      <td>-0.023774</td>\n",
       "      <td>-0.086823</td>\n",
       "      <td>-0.150002</td>\n",
       "      <td>-0.213311</td>\n",
       "      <td>-0.276750</td>\n",
       "      <td>-0.340320</td>\n",
       "      <td>-0.404021</td>\n",
       "      <td>-0.467854</td>\n",
       "      <td>-0.531819</td>\n",
       "      <td>-0.595916</td>\n",
       "      <td>-0.660146</td>\n",
       "      <td>-0.724510</td>\n",
       "      <td>-0.789007</td>\n",
       "      <td>-0.853639</td>\n",
       "      <td>-0.918405</td>\n",
       "    </tr>\n",
       "    <tr>\n",
       "      <th>2015-01-07</th>\n",
       "      <td>0.060147</td>\n",
       "      <td>0.117757</td>\n",
       "      <td>0.175557</td>\n",
       "      <td>0.233547</td>\n",
       "      <td>0.291730</td>\n",
       "      <td>0.350105</td>\n",
       "      <td>0.408674</td>\n",
       "      <td>0.467437</td>\n",
       "      <td>0.526396</td>\n",
       "      <td>0.585552</td>\n",
       "      <td>0.644905</td>\n",
       "      <td>0.704457</td>\n",
       "      <td>0.764208</td>\n",
       "      <td>0.824160</td>\n",
       "      <td>0.884313</td>\n",
       "      <td>0.944669</td>\n",
       "      <td>1.005228</td>\n",
       "      <td>1.065992</td>\n",
       "      <td>1.126962</td>\n",
       "      <td>1.188138</td>\n",
       "    </tr>\n",
       "    <tr>\n",
       "      <th>2015-01-08</th>\n",
       "      <td>-0.156288</td>\n",
       "      <td>-0.062573</td>\n",
       "      <td>0.031342</td>\n",
       "      <td>0.125458</td>\n",
       "      <td>0.219775</td>\n",
       "      <td>0.314296</td>\n",
       "      <td>0.409019</td>\n",
       "      <td>0.503946</td>\n",
       "      <td>0.599078</td>\n",
       "      <td>0.694414</td>\n",
       "      <td>0.789957</td>\n",
       "      <td>0.885706</td>\n",
       "      <td>0.981661</td>\n",
       "      <td>1.077825</td>\n",
       "      <td>1.174197</td>\n",
       "      <td>1.270778</td>\n",
       "      <td>1.367569</td>\n",
       "      <td>1.464570</td>\n",
       "      <td>1.561783</td>\n",
       "      <td>1.659207</td>\n",
       "    </tr>\n",
       "    <tr>\n",
       "      <th>2015-01-09</th>\n",
       "      <td>0.168573</td>\n",
       "      <td>0.118166</td>\n",
       "      <td>0.067745</td>\n",
       "      <td>0.017311</td>\n",
       "      <td>-0.033136</td>\n",
       "      <td>-0.083595</td>\n",
       "      <td>-0.134069</td>\n",
       "      <td>-0.184555</td>\n",
       "      <td>-0.235054</td>\n",
       "      <td>-0.285567</td>\n",
       "      <td>-0.336092</td>\n",
       "      <td>-0.386631</td>\n",
       "      <td>-0.437183</td>\n",
       "      <td>-0.487748</td>\n",
       "      <td>-0.538326</td>\n",
       "      <td>-0.588917</td>\n",
       "      <td>-0.639522</td>\n",
       "      <td>-0.690140</td>\n",
       "      <td>-0.740770</td>\n",
       "      <td>-0.791415</td>\n",
       "    </tr>\n",
       "  </tbody>\n",
       "</table>\n",
       "</div>"
      ],
      "text/plain": [
       "            0% Equities:100% Bonds  5% Equities:95% Bonds  \\\n",
       "Date                                                        \n",
       "2015-01-03                0.290381               0.188017   \n",
       "2015-01-06                0.289540               0.227134   \n",
       "2015-01-07                0.060147               0.117757   \n",
       "2015-01-08               -0.156288              -0.062573   \n",
       "2015-01-09                0.168573               0.118166   \n",
       "\n",
       "            10% Equities:90% Bonds  15% Equities:85% Bonds  \\\n",
       "Date                                                         \n",
       "2015-01-03                0.085653               -0.016711   \n",
       "2015-01-06                0.164599                0.101937   \n",
       "2015-01-07                0.175557                0.233547   \n",
       "2015-01-08                0.031342                0.125458   \n",
       "2015-01-09                0.067745                0.017311   \n",
       "\n",
       "            20% Equities:80% Bonds  25% Equities:75% Bonds  \\\n",
       "Date                                                         \n",
       "2015-01-03               -0.119075               -0.221439   \n",
       "2015-01-06                0.039146               -0.023774   \n",
       "2015-01-07                0.291730                0.350105   \n",
       "2015-01-08                0.219775                0.314296   \n",
       "2015-01-09               -0.033136               -0.083595   \n",
       "\n",
       "            30% Equities:70% Bonds  35% Equities:65% Bonds  \\\n",
       "Date                                                         \n",
       "2015-01-03               -0.323803               -0.426167   \n",
       "2015-01-06               -0.086823               -0.150002   \n",
       "2015-01-07                0.408674                0.467437   \n",
       "2015-01-08                0.409019                0.503946   \n",
       "2015-01-09               -0.134069               -0.184555   \n",
       "\n",
       "            40% Equities:60% Bonds  45% Equities:55% Bonds  \\\n",
       "Date                                                         \n",
       "2015-01-03               -0.528531               -0.630895   \n",
       "2015-01-06               -0.213311               -0.276750   \n",
       "2015-01-07                0.526396                0.585552   \n",
       "2015-01-08                0.599078                0.694414   \n",
       "2015-01-09               -0.235054               -0.285567   \n",
       "\n",
       "            50% Equities:50% Bonds  55% Equities:45% Bonds  \\\n",
       "Date                                                         \n",
       "2015-01-03               -0.733260               -0.835624   \n",
       "2015-01-06               -0.340320               -0.404021   \n",
       "2015-01-07                0.644905                0.704457   \n",
       "2015-01-08                0.789957                0.885706   \n",
       "2015-01-09               -0.336092               -0.386631   \n",
       "\n",
       "            60% Equities:40% Bonds  65% Equities:35% Bonds  \\\n",
       "Date                                                         \n",
       "2015-01-03               -0.937988               -1.040352   \n",
       "2015-01-06               -0.467854               -0.531819   \n",
       "2015-01-07                0.764208                0.824160   \n",
       "2015-01-08                0.981661                1.077825   \n",
       "2015-01-09               -0.437183               -0.487748   \n",
       "\n",
       "            70% Equities:30% Bonds  75% Equities:25% Bonds  \\\n",
       "Date                                                         \n",
       "2015-01-03               -1.142716               -1.245080   \n",
       "2015-01-06               -0.595916               -0.660146   \n",
       "2015-01-07                0.884313                0.944669   \n",
       "2015-01-08                1.174197                1.270778   \n",
       "2015-01-09               -0.538326               -0.588917   \n",
       "\n",
       "            80% Equities:20% Bonds  85% Equities:15% Bonds  \\\n",
       "Date                                                         \n",
       "2015-01-03               -1.347444               -1.449808   \n",
       "2015-01-06               -0.724510               -0.789007   \n",
       "2015-01-07                1.005228                1.065992   \n",
       "2015-01-08                1.367569                1.464570   \n",
       "2015-01-09               -0.639522               -0.690140   \n",
       "\n",
       "            90% Equities:10% Bonds  95% Equities:5% Bonds  \n",
       "Date                                                       \n",
       "2015-01-03               -1.552172              -1.654536  \n",
       "2015-01-06               -0.853639              -0.918405  \n",
       "2015-01-07                1.126962               1.188138  \n",
       "2015-01-08                1.561783               1.659207  \n",
       "2015-01-09               -0.740770              -0.791415  "
      ]
     },
     "execution_count": 180,
     "metadata": {},
     "output_type": "execute_result"
    }
   ],
   "source": [
    "daily_change_df.head()"
   ]
  },
  {
   "cell_type": "code",
   "execution_count": 181,
   "metadata": {},
   "outputs": [],
   "source": [
    "# Create a new dataframe for the standard deviation by year/strategy\n",
    "\n",
    "std_df = pd.DataFrame(columns =daily_change_df.columns)"
   ]
  },
  {
   "cell_type": "code",
   "execution_count": 182,
   "metadata": {},
   "outputs": [
    {
     "data": {
      "text/html": [
       "<div>\n",
       "<style scoped>\n",
       "    .dataframe tbody tr th:only-of-type {\n",
       "        vertical-align: middle;\n",
       "    }\n",
       "\n",
       "    .dataframe tbody tr th {\n",
       "        vertical-align: top;\n",
       "    }\n",
       "\n",
       "    .dataframe thead th {\n",
       "        text-align: right;\n",
       "    }\n",
       "</style>\n",
       "<table border=\"1\" class=\"dataframe\">\n",
       "  <thead>\n",
       "    <tr style=\"text-align: right;\">\n",
       "      <th></th>\n",
       "      <th>0% Equities:100% Bonds</th>\n",
       "      <th>5% Equities:95% Bonds</th>\n",
       "      <th>10% Equities:90% Bonds</th>\n",
       "      <th>15% Equities:85% Bonds</th>\n",
       "      <th>20% Equities:80% Bonds</th>\n",
       "      <th>25% Equities:75% Bonds</th>\n",
       "      <th>30% Equities:70% Bonds</th>\n",
       "      <th>35% Equities:65% Bonds</th>\n",
       "      <th>40% Equities:60% Bonds</th>\n",
       "      <th>45% Equities:55% Bonds</th>\n",
       "      <th>50% Equities:50% Bonds</th>\n",
       "      <th>55% Equities:45% Bonds</th>\n",
       "      <th>60% Equities:40% Bonds</th>\n",
       "      <th>65% Equities:35% Bonds</th>\n",
       "      <th>70% Equities:30% Bonds</th>\n",
       "      <th>75% Equities:25% Bonds</th>\n",
       "      <th>80% Equities:20% Bonds</th>\n",
       "      <th>85% Equities:15% Bonds</th>\n",
       "      <th>90% Equities:10% Bonds</th>\n",
       "      <th>95% Equities:5% Bonds</th>\n",
       "    </tr>\n",
       "    <tr>\n",
       "      <th>Date</th>\n",
       "      <th></th>\n",
       "      <th></th>\n",
       "      <th></th>\n",
       "      <th></th>\n",
       "      <th></th>\n",
       "      <th></th>\n",
       "      <th></th>\n",
       "      <th></th>\n",
       "      <th></th>\n",
       "      <th></th>\n",
       "      <th></th>\n",
       "      <th></th>\n",
       "      <th></th>\n",
       "      <th></th>\n",
       "      <th></th>\n",
       "      <th></th>\n",
       "      <th></th>\n",
       "      <th></th>\n",
       "      <th></th>\n",
       "      <th></th>\n",
       "    </tr>\n",
       "  </thead>\n",
       "  <tbody>\n",
       "    <tr>\n",
       "      <th>2015-01-03</th>\n",
       "      <td>0.290381</td>\n",
       "      <td>0.188017</td>\n",
       "      <td>0.085653</td>\n",
       "      <td>-0.016711</td>\n",
       "      <td>-0.119075</td>\n",
       "      <td>-0.221439</td>\n",
       "      <td>-0.323803</td>\n",
       "      <td>-0.426167</td>\n",
       "      <td>-0.528531</td>\n",
       "      <td>-0.630895</td>\n",
       "      <td>-0.733260</td>\n",
       "      <td>-0.835624</td>\n",
       "      <td>-0.937988</td>\n",
       "      <td>-1.040352</td>\n",
       "      <td>-1.142716</td>\n",
       "      <td>-1.245080</td>\n",
       "      <td>-1.347444</td>\n",
       "      <td>-1.449808</td>\n",
       "      <td>-1.552172</td>\n",
       "      <td>-1.654536</td>\n",
       "    </tr>\n",
       "    <tr>\n",
       "      <th>2015-01-06</th>\n",
       "      <td>0.289540</td>\n",
       "      <td>0.227134</td>\n",
       "      <td>0.164599</td>\n",
       "      <td>0.101937</td>\n",
       "      <td>0.039146</td>\n",
       "      <td>-0.023774</td>\n",
       "      <td>-0.086823</td>\n",
       "      <td>-0.150002</td>\n",
       "      <td>-0.213311</td>\n",
       "      <td>-0.276750</td>\n",
       "      <td>-0.340320</td>\n",
       "      <td>-0.404021</td>\n",
       "      <td>-0.467854</td>\n",
       "      <td>-0.531819</td>\n",
       "      <td>-0.595916</td>\n",
       "      <td>-0.660146</td>\n",
       "      <td>-0.724510</td>\n",
       "      <td>-0.789007</td>\n",
       "      <td>-0.853639</td>\n",
       "      <td>-0.918405</td>\n",
       "    </tr>\n",
       "    <tr>\n",
       "      <th>2015-01-07</th>\n",
       "      <td>0.060147</td>\n",
       "      <td>0.117757</td>\n",
       "      <td>0.175557</td>\n",
       "      <td>0.233547</td>\n",
       "      <td>0.291730</td>\n",
       "      <td>0.350105</td>\n",
       "      <td>0.408674</td>\n",
       "      <td>0.467437</td>\n",
       "      <td>0.526396</td>\n",
       "      <td>0.585552</td>\n",
       "      <td>0.644905</td>\n",
       "      <td>0.704457</td>\n",
       "      <td>0.764208</td>\n",
       "      <td>0.824160</td>\n",
       "      <td>0.884313</td>\n",
       "      <td>0.944669</td>\n",
       "      <td>1.005228</td>\n",
       "      <td>1.065992</td>\n",
       "      <td>1.126962</td>\n",
       "      <td>1.188138</td>\n",
       "    </tr>\n",
       "    <tr>\n",
       "      <th>2015-01-08</th>\n",
       "      <td>-0.156288</td>\n",
       "      <td>-0.062573</td>\n",
       "      <td>0.031342</td>\n",
       "      <td>0.125458</td>\n",
       "      <td>0.219775</td>\n",
       "      <td>0.314296</td>\n",
       "      <td>0.409019</td>\n",
       "      <td>0.503946</td>\n",
       "      <td>0.599078</td>\n",
       "      <td>0.694414</td>\n",
       "      <td>0.789957</td>\n",
       "      <td>0.885706</td>\n",
       "      <td>0.981661</td>\n",
       "      <td>1.077825</td>\n",
       "      <td>1.174197</td>\n",
       "      <td>1.270778</td>\n",
       "      <td>1.367569</td>\n",
       "      <td>1.464570</td>\n",
       "      <td>1.561783</td>\n",
       "      <td>1.659207</td>\n",
       "    </tr>\n",
       "    <tr>\n",
       "      <th>2015-01-09</th>\n",
       "      <td>0.168573</td>\n",
       "      <td>0.118166</td>\n",
       "      <td>0.067745</td>\n",
       "      <td>0.017311</td>\n",
       "      <td>-0.033136</td>\n",
       "      <td>-0.083595</td>\n",
       "      <td>-0.134069</td>\n",
       "      <td>-0.184555</td>\n",
       "      <td>-0.235054</td>\n",
       "      <td>-0.285567</td>\n",
       "      <td>-0.336092</td>\n",
       "      <td>-0.386631</td>\n",
       "      <td>-0.437183</td>\n",
       "      <td>-0.487748</td>\n",
       "      <td>-0.538326</td>\n",
       "      <td>-0.588917</td>\n",
       "      <td>-0.639522</td>\n",
       "      <td>-0.690140</td>\n",
       "      <td>-0.740770</td>\n",
       "      <td>-0.791415</td>\n",
       "    </tr>\n",
       "  </tbody>\n",
       "</table>\n",
       "</div>"
      ],
      "text/plain": [
       "            0% Equities:100% Bonds  5% Equities:95% Bonds  \\\n",
       "Date                                                        \n",
       "2015-01-03                0.290381               0.188017   \n",
       "2015-01-06                0.289540               0.227134   \n",
       "2015-01-07                0.060147               0.117757   \n",
       "2015-01-08               -0.156288              -0.062573   \n",
       "2015-01-09                0.168573               0.118166   \n",
       "\n",
       "            10% Equities:90% Bonds  15% Equities:85% Bonds  \\\n",
       "Date                                                         \n",
       "2015-01-03                0.085653               -0.016711   \n",
       "2015-01-06                0.164599                0.101937   \n",
       "2015-01-07                0.175557                0.233547   \n",
       "2015-01-08                0.031342                0.125458   \n",
       "2015-01-09                0.067745                0.017311   \n",
       "\n",
       "            20% Equities:80% Bonds  25% Equities:75% Bonds  \\\n",
       "Date                                                         \n",
       "2015-01-03               -0.119075               -0.221439   \n",
       "2015-01-06                0.039146               -0.023774   \n",
       "2015-01-07                0.291730                0.350105   \n",
       "2015-01-08                0.219775                0.314296   \n",
       "2015-01-09               -0.033136               -0.083595   \n",
       "\n",
       "            30% Equities:70% Bonds  35% Equities:65% Bonds  \\\n",
       "Date                                                         \n",
       "2015-01-03               -0.323803               -0.426167   \n",
       "2015-01-06               -0.086823               -0.150002   \n",
       "2015-01-07                0.408674                0.467437   \n",
       "2015-01-08                0.409019                0.503946   \n",
       "2015-01-09               -0.134069               -0.184555   \n",
       "\n",
       "            40% Equities:60% Bonds  45% Equities:55% Bonds  \\\n",
       "Date                                                         \n",
       "2015-01-03               -0.528531               -0.630895   \n",
       "2015-01-06               -0.213311               -0.276750   \n",
       "2015-01-07                0.526396                0.585552   \n",
       "2015-01-08                0.599078                0.694414   \n",
       "2015-01-09               -0.235054               -0.285567   \n",
       "\n",
       "            50% Equities:50% Bonds  55% Equities:45% Bonds  \\\n",
       "Date                                                         \n",
       "2015-01-03               -0.733260               -0.835624   \n",
       "2015-01-06               -0.340320               -0.404021   \n",
       "2015-01-07                0.644905                0.704457   \n",
       "2015-01-08                0.789957                0.885706   \n",
       "2015-01-09               -0.336092               -0.386631   \n",
       "\n",
       "            60% Equities:40% Bonds  65% Equities:35% Bonds  \\\n",
       "Date                                                         \n",
       "2015-01-03               -0.937988               -1.040352   \n",
       "2015-01-06               -0.467854               -0.531819   \n",
       "2015-01-07                0.764208                0.824160   \n",
       "2015-01-08                0.981661                1.077825   \n",
       "2015-01-09               -0.437183               -0.487748   \n",
       "\n",
       "            70% Equities:30% Bonds  75% Equities:25% Bonds  \\\n",
       "Date                                                         \n",
       "2015-01-03               -1.142716               -1.245080   \n",
       "2015-01-06               -0.595916               -0.660146   \n",
       "2015-01-07                0.884313                0.944669   \n",
       "2015-01-08                1.174197                1.270778   \n",
       "2015-01-09               -0.538326               -0.588917   \n",
       "\n",
       "            80% Equities:20% Bonds  85% Equities:15% Bonds  \\\n",
       "Date                                                         \n",
       "2015-01-03               -1.347444               -1.449808   \n",
       "2015-01-06               -0.724510               -0.789007   \n",
       "2015-01-07                1.005228                1.065992   \n",
       "2015-01-08                1.367569                1.464570   \n",
       "2015-01-09               -0.639522               -0.690140   \n",
       "\n",
       "            90% Equities:10% Bonds  95% Equities:5% Bonds  \n",
       "Date                                                       \n",
       "2015-01-03               -1.552172              -1.654536  \n",
       "2015-01-06               -0.853639              -0.918405  \n",
       "2015-01-07                1.126962               1.188138  \n",
       "2015-01-08                1.561783               1.659207  \n",
       "2015-01-09               -0.740770              -0.791415  "
      ]
     },
     "execution_count": 182,
     "metadata": {},
     "output_type": "execute_result"
    }
   ],
   "source": [
    "daily_change_df.head()"
   ]
  },
  {
   "cell_type": "code",
   "execution_count": 183,
   "metadata": {},
   "outputs": [
    {
     "data": {
      "text/plain": [
       "Date\n",
       "2015-01-03   -1.654536\n",
       "2015-01-06   -0.918405\n",
       "2015-01-07    1.188138\n",
       "2015-01-08    1.659207\n",
       "2015-01-09   -0.791415\n",
       "Name: 95% Equities:5% Bonds, dtype: float64"
      ]
     },
     "execution_count": 183,
     "metadata": {},
     "output_type": "execute_result"
    }
   ],
   "source": [
    "subset[column].head()"
   ]
  },
  {
   "cell_type": "code",
   "execution_count": 184,
   "metadata": {},
   "outputs": [
    {
     "data": {
      "text/plain": [
       "'95% Equities:5% Bonds'"
      ]
     },
     "execution_count": 184,
     "metadata": {},
     "output_type": "execute_result"
    }
   ],
   "source": [
    "column"
   ]
  },
  {
   "cell_type": "code",
   "execution_count": 185,
   "metadata": {},
   "outputs": [],
   "source": [
    "daily_change_df['Year'] = daily_change_df.index.strftime('%Y')\n",
    "    \n",
    "years = list(daily_change_df['Year'].unique())\n",
    "\n",
    "for column in std_df.columns:\n",
    "    for year in years:\n",
    "        subset = daily_change_df[(daily_change_df['Year']==year)]\n",
    "        std_df.at[year,column] = subset[column].std()\n",
    "    std_df.at['Period Total',column] = daily_change_df[column].std()"
   ]
  },
  {
   "cell_type": "code",
   "execution_count": 186,
   "metadata": {},
   "outputs": [
    {
     "data": {
      "text/html": [
       "<div>\n",
       "<style scoped>\n",
       "    .dataframe tbody tr th:only-of-type {\n",
       "        vertical-align: middle;\n",
       "    }\n",
       "\n",
       "    .dataframe tbody tr th {\n",
       "        vertical-align: top;\n",
       "    }\n",
       "\n",
       "    .dataframe thead th {\n",
       "        text-align: right;\n",
       "    }\n",
       "</style>\n",
       "<table border=\"1\" class=\"dataframe\">\n",
       "  <thead>\n",
       "    <tr style=\"text-align: right;\">\n",
       "      <th></th>\n",
       "      <th>0% Equities:100% Bonds</th>\n",
       "      <th>5% Equities:95% Bonds</th>\n",
       "      <th>10% Equities:90% Bonds</th>\n",
       "      <th>15% Equities:85% Bonds</th>\n",
       "      <th>20% Equities:80% Bonds</th>\n",
       "      <th>25% Equities:75% Bonds</th>\n",
       "      <th>30% Equities:70% Bonds</th>\n",
       "      <th>35% Equities:65% Bonds</th>\n",
       "      <th>40% Equities:60% Bonds</th>\n",
       "      <th>45% Equities:55% Bonds</th>\n",
       "      <th>50% Equities:50% Bonds</th>\n",
       "      <th>55% Equities:45% Bonds</th>\n",
       "      <th>60% Equities:40% Bonds</th>\n",
       "      <th>65% Equities:35% Bonds</th>\n",
       "      <th>70% Equities:30% Bonds</th>\n",
       "      <th>75% Equities:25% Bonds</th>\n",
       "      <th>80% Equities:20% Bonds</th>\n",
       "      <th>85% Equities:15% Bonds</th>\n",
       "      <th>90% Equities:10% Bonds</th>\n",
       "      <th>95% Equities:5% Bonds</th>\n",
       "    </tr>\n",
       "  </thead>\n",
       "  <tbody>\n",
       "    <tr>\n",
       "      <th>2015</th>\n",
       "      <td>0.234589</td>\n",
       "      <td>0.21526</td>\n",
       "      <td>0.207329</td>\n",
       "      <td>0.212118</td>\n",
       "      <td>0.228872</td>\n",
       "      <td>0.25528</td>\n",
       "      <td>0.283388</td>\n",
       "      <td>0.321118</td>\n",
       "      <td>0.362293</td>\n",
       "      <td>0.406258</td>\n",
       "      <td>0.451903</td>\n",
       "      <td>0.499034</td>\n",
       "      <td>0.547033</td>\n",
       "      <td>0.596186</td>\n",
       "      <td>0.645353</td>\n",
       "      <td>0.703231</td>\n",
       "      <td>0.753747</td>\n",
       "      <td>0.80462</td>\n",
       "      <td>0.855803</td>\n",
       "      <td>0.90726</td>\n",
       "    </tr>\n",
       "    <tr>\n",
       "      <th>2016</th>\n",
       "      <td>0.208478</td>\n",
       "      <td>0.194907</td>\n",
       "      <td>0.190318</td>\n",
       "      <td>0.19532</td>\n",
       "      <td>0.209329</td>\n",
       "      <td>0.230621</td>\n",
       "      <td>0.252087</td>\n",
       "      <td>0.282273</td>\n",
       "      <td>0.315758</td>\n",
       "      <td>0.35161</td>\n",
       "      <td>0.388922</td>\n",
       "      <td>0.427775</td>\n",
       "      <td>0.46738</td>\n",
       "      <td>0.507916</td>\n",
       "      <td>0.548625</td>\n",
       "      <td>0.59894</td>\n",
       "      <td>0.641247</td>\n",
       "      <td>0.683829</td>\n",
       "      <td>0.726826</td>\n",
       "      <td>0.77009</td>\n",
       "    </tr>\n",
       "    <tr>\n",
       "      <th>2017</th>\n",
       "      <td>0.182667</td>\n",
       "      <td>0.167462</td>\n",
       "      <td>0.157645</td>\n",
       "      <td>0.150515</td>\n",
       "      <td>0.147122</td>\n",
       "      <td>0.147828</td>\n",
       "      <td>0.153019</td>\n",
       "      <td>0.161752</td>\n",
       "      <td>0.173451</td>\n",
       "      <td>0.187949</td>\n",
       "      <td>0.203527</td>\n",
       "      <td>0.222522</td>\n",
       "      <td>0.241768</td>\n",
       "      <td>0.262103</td>\n",
       "      <td>0.282984</td>\n",
       "      <td>0.303592</td>\n",
       "      <td>0.327333</td>\n",
       "      <td>0.348442</td>\n",
       "      <td>0.372227</td>\n",
       "      <td>0.396615</td>\n",
       "    </tr>\n",
       "    <tr>\n",
       "      <th>2018</th>\n",
       "      <td>0.170673</td>\n",
       "      <td>0.161759</td>\n",
       "      <td>0.169248</td>\n",
       "      <td>0.191606</td>\n",
       "      <td>0.221665</td>\n",
       "      <td>0.259796</td>\n",
       "      <td>0.308381</td>\n",
       "      <td>0.351423</td>\n",
       "      <td>0.404219</td>\n",
       "      <td>0.45425</td>\n",
       "      <td>0.496246</td>\n",
       "      <td>0.557155</td>\n",
       "      <td>0.609673</td>\n",
       "      <td>0.659166</td>\n",
       "      <td>0.714389</td>\n",
       "      <td>0.767396</td>\n",
       "      <td>0.822285</td>\n",
       "      <td>0.877681</td>\n",
       "      <td>0.937097</td>\n",
       "      <td>0.994762</td>\n",
       "    </tr>\n",
       "    <tr>\n",
       "      <th>2019</th>\n",
       "      <td>0.21581</td>\n",
       "      <td>0.192698</td>\n",
       "      <td>0.181799</td>\n",
       "      <td>0.177992</td>\n",
       "      <td>0.182492</td>\n",
       "      <td>0.195965</td>\n",
       "      <td>0.220128</td>\n",
       "      <td>0.245622</td>\n",
       "      <td>0.280068</td>\n",
       "      <td>0.314685</td>\n",
       "      <td>0.345089</td>\n",
       "      <td>0.389744</td>\n",
       "      <td>0.42931</td>\n",
       "      <td>0.471063</td>\n",
       "      <td>0.509137</td>\n",
       "      <td>0.554357</td>\n",
       "      <td>0.596945</td>\n",
       "      <td>0.639999</td>\n",
       "      <td>0.682025</td>\n",
       "      <td>0.731451</td>\n",
       "    </tr>\n",
       "    <tr>\n",
       "      <th>2020</th>\n",
       "      <td>0.159876</td>\n",
       "      <td>0.0937402</td>\n",
       "      <td>0.0203979</td>\n",
       "      <td>0.0405363</td>\n",
       "      <td>0.105277</td>\n",
       "      <td>0.171199</td>\n",
       "      <td>0.23267</td>\n",
       "      <td>0.307337</td>\n",
       "      <td>0.366238</td>\n",
       "      <td>0.431527</td>\n",
       "      <td>0.499354</td>\n",
       "      <td>0.561792</td>\n",
       "      <td>0.626768</td>\n",
       "      <td>0.69164</td>\n",
       "      <td>0.756651</td>\n",
       "      <td>0.81871</td>\n",
       "      <td>0.887365</td>\n",
       "      <td>0.957954</td>\n",
       "      <td>1.01787</td>\n",
       "      <td>1.08718</td>\n",
       "    </tr>\n",
       "    <tr>\n",
       "      <th>Period Total</th>\n",
       "      <td>0.203879</td>\n",
       "      <td>0.187722</td>\n",
       "      <td>0.182482</td>\n",
       "      <td>0.187218</td>\n",
       "      <td>0.200798</td>\n",
       "      <td>0.222607</td>\n",
       "      <td>0.25018</td>\n",
       "      <td>0.281187</td>\n",
       "      <td>0.318097</td>\n",
       "      <td>0.35579</td>\n",
       "      <td>0.391473</td>\n",
       "      <td>0.435559</td>\n",
       "      <td>0.476962</td>\n",
       "      <td>0.518548</td>\n",
       "      <td>0.561026</td>\n",
       "      <td>0.608102</td>\n",
       "      <td>0.652235</td>\n",
       "      <td>0.696461</td>\n",
       "      <td>0.741923</td>\n",
       "      <td>0.788509</td>\n",
       "    </tr>\n",
       "  </tbody>\n",
       "</table>\n",
       "</div>"
      ],
      "text/plain": [
       "             0% Equities:100% Bonds 5% Equities:95% Bonds  \\\n",
       "2015                       0.234589               0.21526   \n",
       "2016                       0.208478              0.194907   \n",
       "2017                       0.182667              0.167462   \n",
       "2018                       0.170673              0.161759   \n",
       "2019                        0.21581              0.192698   \n",
       "2020                       0.159876             0.0937402   \n",
       "Period Total               0.203879              0.187722   \n",
       "\n",
       "             10% Equities:90% Bonds 15% Equities:85% Bonds  \\\n",
       "2015                       0.207329               0.212118   \n",
       "2016                       0.190318                0.19532   \n",
       "2017                       0.157645               0.150515   \n",
       "2018                       0.169248               0.191606   \n",
       "2019                       0.181799               0.177992   \n",
       "2020                      0.0203979              0.0405363   \n",
       "Period Total               0.182482               0.187218   \n",
       "\n",
       "             20% Equities:80% Bonds 25% Equities:75% Bonds  \\\n",
       "2015                       0.228872                0.25528   \n",
       "2016                       0.209329               0.230621   \n",
       "2017                       0.147122               0.147828   \n",
       "2018                       0.221665               0.259796   \n",
       "2019                       0.182492               0.195965   \n",
       "2020                       0.105277               0.171199   \n",
       "Period Total               0.200798               0.222607   \n",
       "\n",
       "             30% Equities:70% Bonds 35% Equities:65% Bonds  \\\n",
       "2015                       0.283388               0.321118   \n",
       "2016                       0.252087               0.282273   \n",
       "2017                       0.153019               0.161752   \n",
       "2018                       0.308381               0.351423   \n",
       "2019                       0.220128               0.245622   \n",
       "2020                        0.23267               0.307337   \n",
       "Period Total                0.25018               0.281187   \n",
       "\n",
       "             40% Equities:60% Bonds 45% Equities:55% Bonds  \\\n",
       "2015                       0.362293               0.406258   \n",
       "2016                       0.315758                0.35161   \n",
       "2017                       0.173451               0.187949   \n",
       "2018                       0.404219                0.45425   \n",
       "2019                       0.280068               0.314685   \n",
       "2020                       0.366238               0.431527   \n",
       "Period Total               0.318097                0.35579   \n",
       "\n",
       "             50% Equities:50% Bonds 55% Equities:45% Bonds  \\\n",
       "2015                       0.451903               0.499034   \n",
       "2016                       0.388922               0.427775   \n",
       "2017                       0.203527               0.222522   \n",
       "2018                       0.496246               0.557155   \n",
       "2019                       0.345089               0.389744   \n",
       "2020                       0.499354               0.561792   \n",
       "Period Total               0.391473               0.435559   \n",
       "\n",
       "             60% Equities:40% Bonds 65% Equities:35% Bonds  \\\n",
       "2015                       0.547033               0.596186   \n",
       "2016                        0.46738               0.507916   \n",
       "2017                       0.241768               0.262103   \n",
       "2018                       0.609673               0.659166   \n",
       "2019                        0.42931               0.471063   \n",
       "2020                       0.626768                0.69164   \n",
       "Period Total               0.476962               0.518548   \n",
       "\n",
       "             70% Equities:30% Bonds 75% Equities:25% Bonds  \\\n",
       "2015                       0.645353               0.703231   \n",
       "2016                       0.548625                0.59894   \n",
       "2017                       0.282984               0.303592   \n",
       "2018                       0.714389               0.767396   \n",
       "2019                       0.509137               0.554357   \n",
       "2020                       0.756651                0.81871   \n",
       "Period Total               0.561026               0.608102   \n",
       "\n",
       "             80% Equities:20% Bonds 85% Equities:15% Bonds  \\\n",
       "2015                       0.753747                0.80462   \n",
       "2016                       0.641247               0.683829   \n",
       "2017                       0.327333               0.348442   \n",
       "2018                       0.822285               0.877681   \n",
       "2019                       0.596945               0.639999   \n",
       "2020                       0.887365               0.957954   \n",
       "Period Total               0.652235               0.696461   \n",
       "\n",
       "             90% Equities:10% Bonds 95% Equities:5% Bonds  \n",
       "2015                       0.855803               0.90726  \n",
       "2016                       0.726826               0.77009  \n",
       "2017                       0.372227              0.396615  \n",
       "2018                       0.937097              0.994762  \n",
       "2019                       0.682025              0.731451  \n",
       "2020                        1.01787               1.08718  \n",
       "Period Total               0.741923              0.788509  "
      ]
     },
     "execution_count": 186,
     "metadata": {},
     "output_type": "execute_result"
    }
   ],
   "source": [
    "std_df"
   ]
  },
  {
   "cell_type": "code",
   "execution_count": 187,
   "metadata": {},
   "outputs": [],
   "source": [
    "# Calculate volatility as the standard deviation of the daily movement"
   ]
  },
  {
   "cell_type": "code",
   "execution_count": null,
   "metadata": {},
   "outputs": [],
   "source": [
    "# Interesting - This suggests that there is a point where volatility decreases while the total return increases during the time period sampled. "
   ]
  },
  {
   "cell_type": "code",
   "execution_count": 191,
   "metadata": {},
   "outputs": [
    {
     "data": {
      "text/plain": [
       "<AxesSubplot:xlabel='Date'>"
      ]
     },
     "execution_count": 191,
     "metadata": {},
     "output_type": "execute_result"
    },
    {
     "data": {
      "image/png": "[encoded data removed]",
      "text/plain": [
       "<Figure size 432x288 with 1 Axes>"
      ]
     },
     "metadata": {
      "needs_background": "light"
     },
     "output_type": "display_data"
    }
   ],
   "source": [
    "allocation_df[['0% Equities:100% Bonds','10% Equities:90% Bonds','20% Equities:80% Bonds']].plot()"
   ]
  },
  {
   "cell_type": "code",
   "execution_count": 216,
   "metadata": {},
   "outputs": [
    {
     "name": "stderr",
     "output_type": "stream",
     "text": [
      "/usr/local/lib/python3.6/dist-packages/pandas/plotting/_matplotlib/core.py:1235: UserWarning: FixedFormatter should only be used together with FixedLocator\n",
      "  ax.set_xticklabels(xticklabels)\n"
     ]
    },
    {
     "data": {
      "text/plain": [
       "<AxesSubplot:label='e11816f6-766f-47d9-b4c5-97555deaf703'>"
      ]
     },
     "execution_count": 216,
     "metadata": {},
     "output_type": "execute_result"
    },
    {
     "data": {
      "image/png": "[encoded data removed]",
      "text/plain": [
       "<Figure size 432x288 with 2 Axes>"
      ]
     },
     "metadata": {
      "needs_background": "light"
     },
     "output_type": "display_data"
    }
   ],
   "source": [
    "\n",
    "x = pd.Series(std_df.loc['Period Total'], name = 'Variance')\n",
    "y = pd.Series(allocation_roi_df.loc['Period Total'], name = 'ROI')\n",
    "test = pd.concat([x,y], axis = 0)\n",
    "#test = pd.DataFrame(test, columns =['Variance','ROI'])\n",
    "test.plot( rot = 45, secondary_y= True)"
   ]
  },
  {
   "cell_type": "code",
   "execution_count": null,
   "metadata": {},
   "outputs": [],
   "source": []
  },
  {
   "cell_type": "code",
   "execution_count": 207,
   "metadata": {},
   "outputs": [
    {
     "data": {
      "text/plain": [
       "0% Equities:100% Bonds    0.203879\n",
       "5% Equities:95% Bonds     0.187722\n",
       "10% Equities:90% Bonds    0.182482\n",
       "15% Equities:85% Bonds    0.187218\n",
       "20% Equities:80% Bonds    0.200798\n",
       "25% Equities:75% Bonds    0.222607\n",
       "30% Equities:70% Bonds     0.25018\n",
       "35% Equities:65% Bonds    0.281187\n",
       "40% Equities:60% Bonds    0.318097\n",
       "45% Equities:55% Bonds     0.35579\n",
       "50% Equities:50% Bonds    0.391473\n",
       "55% Equities:45% Bonds    0.435559\n",
       "60% Equities:40% Bonds    0.476962\n",
       "65% Equities:35% Bonds    0.518548\n",
       "70% Equities:30% Bonds    0.561026\n",
       "75% Equities:25% Bonds    0.608102\n",
       "80% Equities:20% Bonds    0.652235\n",
       "85% Equities:15% Bonds    0.696461\n",
       "90% Equities:10% Bonds    0.741923\n",
       "95% Equities:5% Bonds     0.788509\n",
       "Name: Period Total, dtype: object"
      ]
     },
     "execution_count": 207,
     "metadata": {},
     "output_type": "execute_result"
    }
   ],
   "source": [
    "x"
   ]
  },
  {
   "cell_type": "code",
   "execution_count": 194,
   "metadata": {},
   "outputs": [
    {
     "data": {
      "text/plain": [
       "775"
      ]
     },
     "execution_count": 194,
     "metadata": {},
     "output_type": "execute_result"
    }
   ],
   "source": [
    "len(daily_change_df[(daily_change_df['0% Equities:100% Bonds']>.1) | ((daily_change_df['0% Equities:100% Bonds']<-.1))])"
   ]
  },
  {
   "cell_type": "code",
   "execution_count": 196,
   "metadata": {},
   "outputs": [
    {
     "data": {
      "text/plain": [
       "30"
      ]
     },
     "execution_count": 196,
     "metadata": {},
     "output_type": "execute_result"
    }
   ],
   "source": [
    "len(daily_change_df[(daily_change_df['0% Equities:100% Bonds']>.5) | ((daily_change_df['0% Equities:100% Bonds']<-.5))])"
   ]
  },
  {
   "cell_type": "code",
   "execution_count": 197,
   "metadata": {},
   "outputs": [
    {
     "data": {
      "text/plain": [
       "16"
      ]
     },
     "execution_count": 197,
     "metadata": {},
     "output_type": "execute_result"
    }
   ],
   "source": [
    "len(daily_change_df[(daily_change_df['10% Equities:90% Bonds']>.5) | ((daily_change_df['10% Equities:90% Bonds']<-.5))])"
   ]
  },
  {
   "cell_type": "code",
   "execution_count": null,
   "metadata": {},
   "outputs": [],
   "source": []
  },
  {
   "cell_type": "code",
   "execution_count": 199,
   "metadata": {},
   "outputs": [
    {
     "name": "stderr",
     "output_type": "stream",
     "text": [
      "/usr/local/lib/python3.6/dist-packages/pandas/plotting/_matplotlib/core.py:1235: UserWarning: FixedFormatter should only be used together with FixedLocator\n",
      "  ax.set_xticklabels(xticklabels)\n"
     ]
    },
    {
     "data": {
      "text/plain": [
       "<AxesSubplot:label='75329993-6cfe-435d-9580-03ec4c7521d6'>"
      ]
     },
     "execution_count": 199,
     "metadata": {},
     "output_type": "execute_result"
    },
    {
     "data": {
      "image/png": "[encoded data removed]",
      "text/plain": [
       "<Figure size 432x288 with 2 Axes>"
      ]
     },
     "metadata": {
      "needs_background": "light"
     },
     "output_type": "display_data"
    }
   ],
   "source": [
    "pd.Series(std_df.loc['2018']).plot()\n",
    "pd.Series(allocation_roi_df.loc['2018']).plot( rot = 45, secondary_y= True)"
   ]
  },
  {
   "cell_type": "code",
   "execution_count": null,
   "metadata": {},
   "outputs": [],
   "source": []
  },
  {
   "cell_type": "code",
   "execution_count": 113,
   "metadata": {},
   "outputs": [
    {
     "name": "stderr",
     "output_type": "stream",
     "text": [
      "/usr/local/lib/python3.6/dist-packages/pandas/plotting/_matplotlib/core.py:1235: UserWarning: FixedFormatter should only be used together with FixedLocator\n",
      "  ax.set_xticklabels(xticklabels)\n"
     ]
    },
    {
     "data": {
      "text/plain": [
       "<AxesSubplot:>"
      ]
     },
     "execution_count": 113,
     "metadata": {},
     "output_type": "execute_result"
    },
    {
     "data": {
      "image/png": "[encoded data removed]",
      "text/plain": [
       "<Figure size 432x288 with 1 Axes>"
      ]
     },
     "metadata": {
      "needs_background": "light"
     },
     "output_type": "display_data"
    }
   ],
   "source": [
    "pd.Series(std_df.loc['2020']).plot()\n",
    "pd.Series(allocation_roi_df.loc['2020']).plot()"
   ]
  },
  {
   "cell_type": "code",
   "execution_count": null,
   "metadata": {},
   "outputs": [],
   "source": [
    "# https://www.investopedia.com/terms/p/portfolio-variance.asp"
   ]
  },
  {
   "cell_type": "code",
   "execution_count": null,
   "metadata": {},
   "outputs": [],
   "source": [
    "# Look for biggest monthly/weekly decrease in portfolio value"
   ]
  },
  {
   "cell_type": "code",
   "execution_count": null,
   "metadata": {},
   "outputs": [],
   "source": [
    "# Get the value a few days later\n",
    "\n",
    "portfolio.get_value('2018-05-01')"
   ]
  },
  {
   "cell_type": "code",
   "execution_count": null,
   "metadata": {},
   "outputs": [],
   "source": [
    "portfolio.get_asset_values('2018-05-01')"
   ]
  },
  {
   "cell_type": "code",
   "execution_count": null,
   "metadata": {},
   "outputs": [],
   "source": [
    "portfolio.asset_values"
   ]
  },
  {
   "cell_type": "code",
   "execution_count": null,
   "metadata": {},
   "outputs": [],
   "source": [
    "for share in portfolio.shares:\n",
    "    print(share.div.index)"
   ]
  },
  {
   "cell_type": "code",
   "execution_count": null,
   "metadata": {},
   "outputs": [],
   "source": [
    "portfolio.reinvest_divs('2018-05-01')"
   ]
  },
  {
   "cell_type": "code",
   "execution_count": null,
   "metadata": {},
   "outputs": [],
   "source": [
    "# import sys\n",
    "# !{sys.executable} -m pip install pandas_datareader"
   ]
  },
  {
   "cell_type": "code",
   "execution_count": null,
   "metadata": {},
   "outputs": [],
   "source": [
    "## This is useful:\n",
    "#https://jakevdp.github.io/PythonDataScienceHandbook/03.11-working-with-time-series.html"
   ]
  },
  {
   "cell_type": "code",
   "execution_count": null,
   "metadata": {},
   "outputs": [],
   "source": [
    "bnd = web.DataReader('BND', 'yahoo', start='2015-10-30', end='2020-10-30')"
   ]
  },
  {
   "cell_type": "code",
   "execution_count": null,
   "metadata": {},
   "outputs": [],
   "source": [
    "sp = web.DataReader('VOO', 'yahoo', start='2015-10-30', end='2020-10-30')"
   ]
  },
  {
   "cell_type": "code",
   "execution_count": null,
   "metadata": {},
   "outputs": [],
   "source": [
    "sp.head(3)"
   ]
  },
  {
   "cell_type": "code",
   "execution_count": null,
   "metadata": {},
   "outputs": [],
   "source": [
    "bnd.head(3)"
   ]
  },
  {
   "cell_type": "code",
   "execution_count": null,
   "metadata": {},
   "outputs": [],
   "source": [
    "bnd.loc['2017-07-07']['High']"
   ]
  },
  {
   "cell_type": "code",
   "execution_count": null,
   "metadata": {},
   "outputs": [],
   "source": [
    "# Import dividend records\n",
    "bnd_div = web.DataReader('BND', 'yahoo-dividends', start='2015-10-30', end='2020-10-30')\n",
    "sp_div = web.DataReader('VOO', 'yahoo-dividends', start='2015-10-30', end='2020-10-30')"
   ]
  },
  {
   "cell_type": "code",
   "execution_count": null,
   "metadata": {},
   "outputs": [],
   "source": [
    "bnd_div.head(3)"
   ]
  },
  {
   "cell_type": "code",
   "execution_count": null,
   "metadata": {},
   "outputs": [],
   "source": [
    "sp_div.head(3)"
   ]
  },
  {
   "cell_type": "code",
   "execution_count": null,
   "metadata": {},
   "outputs": [],
   "source": [
    "sp_div.value.loc['2020-09-29']"
   ]
  },
  {
   "cell_type": "code",
   "execution_count": null,
   "metadata": {},
   "outputs": [],
   "source": [
    "sp_div[sp_div.index < pd.to_datetime('2016-01-01')]"
   ]
  },
  {
   "cell_type": "code",
   "execution_count": null,
   "metadata": {},
   "outputs": [],
   "source": [
    "sp_div.index"
   ]
  },
  {
   "cell_type": "code",
   "execution_count": null,
   "metadata": {},
   "outputs": [],
   "source": [
    "str('sp')+str('_div')"
   ]
  },
  {
   "cell_type": "code",
   "execution_count": null,
   "metadata": {},
   "outputs": [],
   "source": [
    "Assets = {}\n",
    "Assets['Bonds'] = bnd\n",
    "Assets['Equities'] = sp"
   ]
  },
  {
   "cell_type": "code",
   "execution_count": null,
   "metadata": {},
   "outputs": [],
   "source": [
    "Dividends"
   ]
  },
  {
   "cell_type": "code",
   "execution_count": null,
   "metadata": {},
   "outputs": [],
   "source": [
    "# Maybe it is worth merging the dividend and share price files together for easier reference?\n",
    "# Or build a dictionary to allow easy mapping?"
   ]
  },
  {
   "cell_type": "code",
   "execution_count": null,
   "metadata": {},
   "outputs": [],
   "source": []
  },
  {
   "cell_type": "markdown",
   "metadata": {},
   "source": [
    "## 1. Calculate Value Given a Start and End Date"
   ]
  },
  {
   "cell_type": "code",
   "execution_count": null,
   "metadata": {},
   "outputs": [],
   "source": [
    "start_date = '2015-11-20'\n",
    "end_date = "
   ]
  },
  {
   "cell_type": "code",
   "execution_count": null,
   "metadata": {},
   "outputs": [],
   "source": [
    "def calc_value(share, divs, start, end, initial_value):\n",
    "    # Take the average of the day's high and low for starting share price\n",
    "    num_shares = initial_value/np.mean([share.loc[start]['Low'],share.loc[start]['High']])\n",
    "    divs = divs[(divs.index <= pd.to_datetime(end)) & (divs.index >= pd.to_datetime(start))]\n",
    "    for date in divs.index:\n",
    "        price = np.mean([share.High.loc[date], share.Low.loc[date]])\n",
    "        div_value = divs.value.loc[date]\n",
    "        num_shares += div_value/price\n",
    "    output = {}\n",
    "    output['Value'] = num_shares*np.mean([share.loc[end]['Low'],share.loc[end]['High']])\n",
    "    output['ROI'] = output['Value']-initial_value\n",
    "    return(output)\n",
    "    \n",
    "    # Will need to factor in other actions later, but this will work for now\n",
    "    \n",
    "    \n"
   ]
  },
  {
   "cell_type": "code",
   "execution_count": null,
   "metadata": {},
   "outputs": [],
   "source": [
    "calc_value(sp,sp_div, '2015-11-20', '2017-11-20',100)"
   ]
  },
  {
   "cell_type": "code",
   "execution_count": null,
   "metadata": {},
   "outputs": [],
   "source": [
    "calc_value(bnd,bnd_div, '2015-11-20', '2017-11-20',100)"
   ]
  },
  {
   "cell_type": "code",
   "execution_count": null,
   "metadata": {},
   "outputs": [],
   "source": [
    "sp.Close.plot()"
   ]
  },
  {
   "cell_type": "code",
   "execution_count": null,
   "metadata": {},
   "outputs": [],
   "source": [
    "bnd.Close.plot()"
   ]
  },
  {
   "cell_type": "code",
   "execution_count": null,
   "metadata": {},
   "outputs": [],
   "source": [
    "# Identify the ROI with different asset distributions"
   ]
  },
  {
   "cell_type": "code",
   "execution_count": null,
   "metadata": {},
   "outputs": [],
   "source": [
    "class Share:\n",
    "\n",
    "    def __init__(self, name, asset_type):\n",
    "        \"\"\"Initialize attributes.\"\"\"\n",
    "        self.name = name\n",
    "        self.type = asset_type\n",
    "        #self.amount = amount\n",
    "        \n",
    "    def get_value(self, date):\n",
    "        df = web.DataReader(self.name, 'yahoo', start=date, end=date)\n",
    "        return round(df.loc[date,'Close'],2)\n",
    "    "
   ]
  },
  {
   "cell_type": "code",
   "execution_count": null,
   "metadata": {},
   "outputs": [],
   "source": []
  },
  {
   "cell_type": "code",
   "execution_count": null,
   "metadata": {},
   "outputs": [],
   "source": [
    "bnd = Share('BND','Bond')"
   ]
  },
  {
   "cell_type": "code",
   "execution_count": null,
   "metadata": {},
   "outputs": [],
   "source": [
    "sp = Share('VOO','Equity')"
   ]
  },
  {
   "cell_type": "code",
   "execution_count": null,
   "metadata": {},
   "outputs": [],
   "source": [
    "class Strategy:\n",
    "    \n",
    "    def __init__(self,equity_distribution, bond_distribution, cash_distribution, threshold):\n",
    "        self.equity_distribution = equity_distribution\n",
    "        self.bond_distribution = bond_distribution\n",
    "        self.cash_distribution = 100-(equity_distribution+bond_distribution)\n",
    "        self.threshold = threshold\n",
    "    "
   ]
  },
  {
   "cell_type": "code",
   "execution_count": null,
   "metadata": {},
   "outputs": [],
   "source": [
    "class Portfolio:\n",
    "    \n",
    "    def __init__(self):\n",
    "        self.shares = {}\n",
    "        self.log = {}\n",
    "        self.cash_bal = 0\n",
    "        self.asset_split = {'Equities': None,'Bonds': None,'Cash': None}\n",
    "        self.asset_values = {'Equities': None,'Bonds': None,'Cash': None}\n",
    "        \n",
    "    def buy(self, share, amount, date):\n",
    "        purchase_price = share.get_value(date)\n",
    "        shares = amount/purchase_price\n",
    "        # Record the transaction\n",
    "        self.log[len(self.log)] = ['Buy',share,amount,purchase_price,shares,date]\n",
    "        # Add the number of shares\n",
    "        if share in self.shares:\n",
    "            self.shares[share] += shares\n",
    "        elif share not in self.shares:\n",
    "            self.shares[share] = shares\n",
    "            \n",
    "    def sell(self, share, amount, date):\n",
    "        sell_price = share.get_value(date)\n",
    "        shares = amount/sell_price\n",
    "        # Record the transaction\n",
    "        self.log[len(self.log)] = ['Sell',share,amount,sell_price,shares,date]\n",
    "        # Add the number of shares\n",
    "        if share in self.shares:\n",
    "            self.shares[share] -= shares\n",
    "        elif share not in self.shares:\n",
    "            self.shares[share] = shares\n",
    "        cash_bal += amount\n",
    "        \n",
    "            \n",
    "    def get_value(self,date):\n",
    "        value = self.cash_bal\n",
    "        # Iterate through the 'shares' attribute and get the current value for each 'Share' object\n",
    "        for share in self.shares:\n",
    "            value += share.get_value(date)*self.shares[share]\n",
    "        return(value)\n",
    "    \n",
    "    def get_asset_values(self,date):\n",
    "        bond_val = 0\n",
    "        eq_val = 0\n",
    "        for share in self.shares:\n",
    "            if share.type == 'Bond':\n",
    "                bond_val += share.get_value(date)*self.shares[share]\n",
    "            elif share.type == 'Equity':\n",
    "                eq_val += share.get_value(date)*self.shares[share]\n",
    "        total = bond_val+eq_val+self.cash_bal\n",
    "        self.asset_values = {'Equities': eq_val,'Bonds': bond_val,'Cash': self.cash_bal}\n",
    "        self.asset_split = {'Equities': (eq_val/total)*100,'Bonds': (bond_val/total)*100,'Cash': (self.cash_bal/total)*100}\n",
    "            \n",
    "        \n",
    "    "
   ]
  },
  {
   "cell_type": "code",
   "execution_count": null,
   "metadata": {},
   "outputs": [],
   "source": [
    "portfolio = Portfolio()"
   ]
  },
  {
   "cell_type": "code",
   "execution_count": null,
   "metadata": {},
   "outputs": [],
   "source": [
    "portfolio.get_value)"
   ]
  },
  {
   "cell_type": "code",
   "execution_count": null,
   "metadata": {},
   "outputs": [],
   "source": [
    "# Calculate portfolio value\n",
    "\n",
    "start_date = '2015-11-20'\n",
    "end_date = '2020-11-20'\n",
    "\n",
    "portfolio.buy(sp,750,start_date)\n",
    "portfolio.buy(bnd,250,start_date)\n",
    "\n",
    "portfolio.get_value(end_date)"
   ]
  },
  {
   "cell_type": "code",
   "execution_count": null,
   "metadata": {},
   "outputs": [],
   "source": [
    "bond = web.DataReader('BND', 'yahoo', start='2015-10-30', end='2020-10-30')"
   ]
  },
  {
   "cell_type": "code",
   "execution_count": null,
   "metadata": {},
   "outputs": [],
   "source": [
    "dates = list(bond.index)"
   ]
  },
  {
   "cell_type": "code",
   "execution_count": null,
   "metadata": {},
   "outputs": [],
   "source": [
    "dates = [x.strftime('%Y-%m-%d') for x in dates]"
   ]
  },
  {
   "cell_type": "code",
   "execution_count": null,
   "metadata": {},
   "outputs": [],
   "source": [
    "# Deploy balancing strategy\n",
    "\n",
    "strategy = Strategy(75,25,0,1)\n",
    "\n",
    "# Initial Purchase (manually allocated proportions)\n",
    "portfolio = Portfolio() \n",
    "portfolio.buy(sp,750,start_date)\n",
    "portfolio.buy(bnd,250,start_date)\n",
    "\n",
    "for date in dates:\n",
    "    portfolio.get_asset_values(date)\n",
    "    if portfolio.asset_split['Equities'] > strategy.equity_distribution+strategy.threshold:\n",
    "        amount_to_sell = (portfolio.asset_split['Equities']-strategy.equity_distribution)*portfolio.asset_values['Equities']\n",
    "        portfolio.sell(sp,amount_to_sell,date)\n",
    "        portfolio.buy(bnd,amount_to_sell,date)\n",
    "        \n",
    "\n",
    "    "
   ]
  },
  {
   "cell_type": "code",
   "execution_count": null,
   "metadata": {},
   "outputs": [],
   "source": [
    "portfolio.get_asset_values('2019-10-29')"
   ]
  },
  {
   "cell_type": "code",
   "execution_count": null,
   "metadata": {},
   "outputs": [],
   "source": [
    "portfolio.asset_split['Equities']"
   ]
  },
  {
   "cell_type": "code",
   "execution_count": null,
   "metadata": {},
   "outputs": [],
   "source": []
  }
 ],
 "metadata": {
  "kernelspec": {
   "display_name": "Python 3",
   "language": "python",
   "name": "python3"
  },
  "language_info": {
   "codemirror_mode": {
    "name": "ipython",
    "version": 3
   },
   "file_extension": ".py",
   "mimetype": "text/x-python",
   "name": "python",
   "nbconvert_exporter": "python",
   "pygments_lexer": "ipython3",
   "version": "3.6.9"
  }
 },
 "nbformat": 4,
 "nbformat_minor": 4
}

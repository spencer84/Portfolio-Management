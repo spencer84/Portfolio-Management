{
 "cells": [
  {
   "cell_type": "markdown",
   "metadata": {},
   "source": [
    "This notebook seeks to explore whether a portfolio's total ROI can be improved by holding a certain amount of cash reserves to 'buy the dip'--attempting to time the market by buying at relative low points rather than holding for a longer duration."
   ]
  },
  {
   "cell_type": "markdown",
   "metadata": {},
   "source": [
    "## 0. Import Modules and Data"
   ]
  },
  {
   "cell_type": "code",
   "execution_count": 1,
   "metadata": {},
   "outputs": [],
   "source": [
    "import pandas as pd\n",
    "import numpy as np\n",
    "from pandas_datareader import data\n",
    "import pandas_datareader.data as web\n",
    "import datetime as dt\n",
    "import Portfolio as port"
   ]
  },
  {
   "cell_type": "markdown",
   "metadata": {},
   "source": [
    "## 1. Set-up Portfolio"
   ]
  },
  {
   "cell_type": "code",
   "execution_count": 2,
   "metadata": {},
   "outputs": [],
   "source": [
    "# Define start date and end date\n",
    "\n",
    "start_date = '2015-01-01'\n",
    "\n",
    "end_date = '2020-01-05'"
   ]
  },
  {
   "cell_type": "code",
   "execution_count": 3,
   "metadata": {},
   "outputs": [],
   "source": [
    "# Define Shares\n",
    "\n",
    "# Provide the name of the ticker and type (Equity or Bond)\n",
    "\n",
    "#VOO Vanguard ETF is serving as a proxy for individual stocks/bonds\n",
    "\n",
    "voo = port.Share('VOO', 'Equity', start_date,end_date)"
   ]
  },
  {
   "cell_type": "code",
   "execution_count": 4,
   "metadata": {},
   "outputs": [],
   "source": [
    "shares_list = [voo]\n",
    "\n",
    "shares_dict = {}\n",
    "\n",
    "for share in shares_list:\n",
    "    shares_dict[share] = share.type"
   ]
  },
  {
   "cell_type": "code",
   "execution_count": 19,
   "metadata": {},
   "outputs": [],
   "source": [
    "# Define Strategy\n",
    "\n",
    "# Provide the equity distribution, the bond distriubtion, cash distribution, and the threshold\n",
    "strat = port.Strategy(50,0,50,1)\n",
    "# For this strategy of trying to time the market I set up the portfolio with a 50/50 allocation of equities and cash\n",
    "# This is done so that the portfolio can have enough cash to buy any big dips early on."
   ]
  },
  {
   "cell_type": "code",
   "execution_count": null,
   "metadata": {},
   "outputs": [],
   "source": []
  },
  {
   "cell_type": "code",
   "execution_count": 20,
   "metadata": {},
   "outputs": [],
   "source": [
    "# Lets set up a rolling history of the last 90 days\n",
    "\n",
    "# Actions measured in days, not minutes...\n",
    "\n",
    "# the more the share value drops, the more cash we put in --wait until the panic has subsided"
   ]
  },
  {
   "cell_type": "code",
   "execution_count": 21,
   "metadata": {},
   "outputs": [],
   "source": [
    "portfolio = port.Portfolio(shares_dict, div_reinvest = False)\n",
    "\n",
    "portfolio.initial_buy(500, strat, start_date)"
   ]
  },
  {
   "cell_type": "code",
   "execution_count": 22,
   "metadata": {},
   "outputs": [],
   "source": [
    "# Explain the logic used to 'buy the dip' here:\n",
    "\n",
    "# If the weekly average of the share value decreases by more than 5% from the 90% average\n",
    "# AND\n",
    "# If we haven't bought any more shares in the last 7 days...\n",
    "\n",
    "# Then buy an amount equal to:\n",
    "# The absolute value of the decrease, plus 1, squared, minus 1, times the amount of cash held by the portfolio.\n",
    "\n",
    "# For example:\n",
    "# If we have a decrease of 5% and $10 of cash it would look like this:\n",
    "# "
   ]
  },
  {
   "cell_type": "code",
   "execution_count": 23,
   "metadata": {},
   "outputs": [
    {
     "data": {
      "text/plain": [
       "1.0250000000000004"
      ]
     },
     "execution_count": 23,
     "metadata": {},
     "output_type": "execute_result"
    }
   ],
   "source": [
    "(((0.05 + 1)**2)-1)*10"
   ]
  },
  {
   "cell_type": "code",
   "execution_count": 24,
   "metadata": {},
   "outputs": [],
   "source": [
    "# for i in np.arange(0.05,1.05,0.05):\n",
    "#     print(i,(((i + 1)**(2+i))-1)*100) # I kinda like this formula, but we can tinker with this later..."
   ]
  },
  {
   "cell_type": "code",
   "execution_count": 25,
   "metadata": {},
   "outputs": [],
   "source": [
    "\n",
    "time_period = pd.date_range(pd.to_datetime(start_date),pd.to_datetime(end_date))\n",
    "\n",
    "# set a counter to avoid buying into shares more than once a week\n",
    "counter = 0\n",
    "for day in time_period:\n",
    "    counter +=1\n",
    "    portfolio.reinvest_divs(day)\n",
    "    portfolio.get_asset_values(day)\n",
    "    for share in portfolio.shares:\n",
    "        share.get_rolling(day)\n",
    "        last_week = day - dt.timedelta(days = 7)\n",
    "        prev_week = last_week - dt.timedelta(days = 7)\n",
    "        week_avg = share.rolling_90_days[share.rolling_90_days.index>=last_week]['Low'].mean()\n",
    "        ninety_day_avg = share.rolling_90_days.Low.mean()\n",
    "        if (week_avg-ninety_day_avg)/ninety_day_avg < -0.05 and counter >=7:\n",
    "            buy_amount = (((abs((week_avg-ninety_day_avg)/share.rolling_90_days.Low.mean())+1)**2)-1)*portfolio.cash_bal\n",
    "            if buy_amount > portfolio.cash_bal:\n",
    "                buy_amount = portfolio.cash_bal\n",
    "            portfolio.buy(share, buy_amount, day)\n",
    "            counter = 0\n",
    "portfolio_history = portfolio.get_hist_df()\n",
    "portfolio_history['Date'] = pd.to_datetime(portfolio_history['Date']) # Convert date to datetime object\n",
    "portfolio_history.set_index('Date', inplace = True)             "
   ]
  },
  {
   "cell_type": "code",
   "execution_count": null,
   "metadata": {},
   "outputs": [],
   "source": []
  },
  {
   "cell_type": "code",
   "execution_count": 26,
   "metadata": {},
   "outputs": [
    {
     "data": {
      "text/html": [
       "<div>\n",
       "<style scoped>\n",
       "    .dataframe tbody tr th:only-of-type {\n",
       "        vertical-align: middle;\n",
       "    }\n",
       "\n",
       "    .dataframe tbody tr th {\n",
       "        vertical-align: top;\n",
       "    }\n",
       "\n",
       "    .dataframe thead th {\n",
       "        text-align: right;\n",
       "    }\n",
       "</style>\n",
       "<table border=\"1\" class=\"dataframe\">\n",
       "  <thead>\n",
       "    <tr style=\"text-align: right;\">\n",
       "      <th></th>\n",
       "      <th>Total Value</th>\n",
       "      <th>Equities</th>\n",
       "      <th>Bonds</th>\n",
       "    </tr>\n",
       "    <tr>\n",
       "      <th>Date</th>\n",
       "      <th></th>\n",
       "      <th></th>\n",
       "      <th></th>\n",
       "    </tr>\n",
       "  </thead>\n",
       "  <tbody>\n",
       "    <tr>\n",
       "      <th>2015-01-01</th>\n",
       "      <td>500.000000</td>\n",
       "      <td>250.000000</td>\n",
       "      <td>0</td>\n",
       "    </tr>\n",
       "    <tr>\n",
       "      <th>2015-01-02</th>\n",
       "      <td>500.000000</td>\n",
       "      <td>250.000000</td>\n",
       "      <td>0</td>\n",
       "    </tr>\n",
       "    <tr>\n",
       "      <th>2015-01-03</th>\n",
       "      <td>495.607749</td>\n",
       "      <td>245.607749</td>\n",
       "      <td>0</td>\n",
       "    </tr>\n",
       "    <tr>\n",
       "      <th>2015-01-04</th>\n",
       "      <td>495.607749</td>\n",
       "      <td>245.607749</td>\n",
       "      <td>0</td>\n",
       "    </tr>\n",
       "    <tr>\n",
       "      <th>2015-01-05</th>\n",
       "      <td>495.607749</td>\n",
       "      <td>245.607749</td>\n",
       "      <td>0</td>\n",
       "    </tr>\n",
       "    <tr>\n",
       "      <th>...</th>\n",
       "      <td>...</td>\n",
       "      <td>...</td>\n",
       "      <td>...</td>\n",
       "    </tr>\n",
       "    <tr>\n",
       "      <th>2020-01-01</th>\n",
       "      <td>851.335451</td>\n",
       "      <td>803.239842</td>\n",
       "      <td>0</td>\n",
       "    </tr>\n",
       "    <tr>\n",
       "      <th>2020-01-02</th>\n",
       "      <td>851.335451</td>\n",
       "      <td>803.239842</td>\n",
       "      <td>0</td>\n",
       "    </tr>\n",
       "    <tr>\n",
       "      <th>2020-01-03</th>\n",
       "      <td>845.467671</td>\n",
       "      <td>797.372062</td>\n",
       "      <td>0</td>\n",
       "    </tr>\n",
       "    <tr>\n",
       "      <th>2020-01-04</th>\n",
       "      <td>845.467671</td>\n",
       "      <td>797.372062</td>\n",
       "      <td>0</td>\n",
       "    </tr>\n",
       "    <tr>\n",
       "      <th>2020-01-05</th>\n",
       "      <td>845.467671</td>\n",
       "      <td>797.372062</td>\n",
       "      <td>0</td>\n",
       "    </tr>\n",
       "  </tbody>\n",
       "</table>\n",
       "<p>1831 rows × 3 columns</p>\n",
       "</div>"
      ],
      "text/plain": [
       "            Total Value    Equities  Bonds\n",
       "Date                                      \n",
       "2015-01-01   500.000000  250.000000      0\n",
       "2015-01-02   500.000000  250.000000      0\n",
       "2015-01-03   495.607749  245.607749      0\n",
       "2015-01-04   495.607749  245.607749      0\n",
       "2015-01-05   495.607749  245.607749      0\n",
       "...                 ...         ...    ...\n",
       "2020-01-01   851.335451  803.239842      0\n",
       "2020-01-02   851.335451  803.239842      0\n",
       "2020-01-03   845.467671  797.372062      0\n",
       "2020-01-04   845.467671  797.372062      0\n",
       "2020-01-05   845.467671  797.372062      0\n",
       "\n",
       "[1831 rows x 3 columns]"
      ]
     },
     "execution_count": 26,
     "metadata": {},
     "output_type": "execute_result"
    }
   ],
   "source": [
    "portfolio_history"
   ]
  },
  {
   "cell_type": "code",
   "execution_count": 14,
   "metadata": {},
   "outputs": [],
   "source": [
    "# Run without trying to time the market"
   ]
  },
  {
   "cell_type": "code",
   "execution_count": 27,
   "metadata": {},
   "outputs": [],
   "source": [
    "portfolio = port.Portfolio(shares_dict, div_reinvest = True)\n",
    "\n",
    "portfolio.initial_buy(500, strat, start_date)"
   ]
  },
  {
   "cell_type": "code",
   "execution_count": 28,
   "metadata": {},
   "outputs": [],
   "source": [
    "\n",
    "time_period = pd.date_range(pd.to_datetime(start_date),pd.to_datetime(end_date))\n",
    "\n",
    "# set a counter to avoid buying into shares more than once a week\n",
    "counter = 0\n",
    "for day in time_period:\n",
    "    counter +=1\n",
    "    portfolio.reinvest_divs(day)\n",
    "    portfolio.get_asset_values(day)\n",
    "#    for share in portfolio.shares:\n",
    "#         share.get_rolling(day)\n",
    "#         last_week = day - dt.timedelta(days = 7)\n",
    "#         prev_week = last_week - dt.timedelta(days = 7)\n",
    "#         week_avg = share.rolling_90_days[share.rolling_90_days.index>=last_week]['Low'].mean()\n",
    "#         ninety_day_avg = share.rolling_90_days.Low.mean()\n",
    "#         if (week_avg-ninety_day_avg)/ninety_day_avg < -0.05 and counter >=7:\n",
    "#             buy_amount = (((abs((week_avg-ninety_day_avg)/share.rolling_90_days.Low.mean())+1)**2)-1)*portfolio.cash_bal\n",
    "#             portfolio.buy(share, buy_amount, day)\n",
    "#             counter = 0\n",
    "portfolio_history = portfolio.get_hist_df()\n",
    "portfolio_history['Date'] = pd.to_datetime(portfolio_history['Date']) # Convert date to datetime object\n",
    "portfolio_history.set_index('Date', inplace = True)             "
   ]
  },
  {
   "cell_type": "code",
   "execution_count": 29,
   "metadata": {},
   "outputs": [
    {
     "data": {
      "text/html": [
       "<div>\n",
       "<style scoped>\n",
       "    .dataframe tbody tr th:only-of-type {\n",
       "        vertical-align: middle;\n",
       "    }\n",
       "\n",
       "    .dataframe tbody tr th {\n",
       "        vertical-align: top;\n",
       "    }\n",
       "\n",
       "    .dataframe thead th {\n",
       "        text-align: right;\n",
       "    }\n",
       "</style>\n",
       "<table border=\"1\" class=\"dataframe\">\n",
       "  <thead>\n",
       "    <tr style=\"text-align: right;\">\n",
       "      <th></th>\n",
       "      <th>Total Value</th>\n",
       "      <th>Equities</th>\n",
       "      <th>Bonds</th>\n",
       "    </tr>\n",
       "    <tr>\n",
       "      <th>Date</th>\n",
       "      <th></th>\n",
       "      <th></th>\n",
       "      <th></th>\n",
       "    </tr>\n",
       "  </thead>\n",
       "  <tbody>\n",
       "    <tr>\n",
       "      <th>2015-01-01</th>\n",
       "      <td>500.000000</td>\n",
       "      <td>250.000000</td>\n",
       "      <td>0</td>\n",
       "    </tr>\n",
       "    <tr>\n",
       "      <th>2015-01-02</th>\n",
       "      <td>500.000000</td>\n",
       "      <td>250.000000</td>\n",
       "      <td>0</td>\n",
       "    </tr>\n",
       "    <tr>\n",
       "      <th>2015-01-03</th>\n",
       "      <td>495.607749</td>\n",
       "      <td>245.607749</td>\n",
       "      <td>0</td>\n",
       "    </tr>\n",
       "    <tr>\n",
       "      <th>2015-01-04</th>\n",
       "      <td>495.607749</td>\n",
       "      <td>245.607749</td>\n",
       "      <td>0</td>\n",
       "    </tr>\n",
       "    <tr>\n",
       "      <th>2015-01-05</th>\n",
       "      <td>495.607749</td>\n",
       "      <td>245.607749</td>\n",
       "      <td>0</td>\n",
       "    </tr>\n",
       "    <tr>\n",
       "      <th>...</th>\n",
       "      <td>...</td>\n",
       "      <td>...</td>\n",
       "      <td>...</td>\n",
       "    </tr>\n",
       "    <tr>\n",
       "      <th>2020-01-01</th>\n",
       "      <td>687.835882</td>\n",
       "      <td>437.835882</td>\n",
       "      <td>0</td>\n",
       "    </tr>\n",
       "    <tr>\n",
       "      <th>2020-01-02</th>\n",
       "      <td>687.835882</td>\n",
       "      <td>437.835882</td>\n",
       "      <td>0</td>\n",
       "    </tr>\n",
       "    <tr>\n",
       "      <th>2020-01-03</th>\n",
       "      <td>684.637429</td>\n",
       "      <td>434.637429</td>\n",
       "      <td>0</td>\n",
       "    </tr>\n",
       "    <tr>\n",
       "      <th>2020-01-04</th>\n",
       "      <td>684.637429</td>\n",
       "      <td>434.637429</td>\n",
       "      <td>0</td>\n",
       "    </tr>\n",
       "    <tr>\n",
       "      <th>2020-01-05</th>\n",
       "      <td>684.637429</td>\n",
       "      <td>434.637429</td>\n",
       "      <td>0</td>\n",
       "    </tr>\n",
       "  </tbody>\n",
       "</table>\n",
       "<p>1831 rows × 3 columns</p>\n",
       "</div>"
      ],
      "text/plain": [
       "            Total Value    Equities  Bonds\n",
       "Date                                      \n",
       "2015-01-01   500.000000  250.000000      0\n",
       "2015-01-02   500.000000  250.000000      0\n",
       "2015-01-03   495.607749  245.607749      0\n",
       "2015-01-04   495.607749  245.607749      0\n",
       "2015-01-05   495.607749  245.607749      0\n",
       "...                 ...         ...    ...\n",
       "2020-01-01   687.835882  437.835882      0\n",
       "2020-01-02   687.835882  437.835882      0\n",
       "2020-01-03   684.637429  434.637429      0\n",
       "2020-01-04   684.637429  434.637429      0\n",
       "2020-01-05   684.637429  434.637429      0\n",
       "\n",
       "[1831 rows x 3 columns]"
      ]
     },
     "execution_count": 29,
     "metadata": {},
     "output_type": "execute_result"
    }
   ],
   "source": [
    "portfolio_history"
   ]
  },
  {
   "cell_type": "code",
   "execution_count": null,
   "metadata": {},
   "outputs": [],
   "source": [
    "voo.get_data()"
   ]
  },
  {
   "cell_type": "code",
   "execution_count": null,
   "metadata": {},
   "outputs": [],
   "source": [
    "voo.get_rolling(start_date)"
   ]
  },
  {
   "cell_type": "code",
   "execution_count": null,
   "metadata": {},
   "outputs": [],
   "source": [
    "voo.rolling_90_days.Low.mean()"
   ]
  },
  {
   "cell_type": "code",
   "execution_count": null,
   "metadata": {},
   "outputs": [],
   "source": []
  },
  {
   "cell_type": "code",
   "execution_count": null,
   "metadata": {},
   "outputs": [],
   "source": [
    "# Create a loop for different cash allocations\n",
    "\n",
    "# This is largely the same as above, however, the strat (strategy) will change in each iteration\n",
    "\n",
    "ini_amount = 500\n",
    " \n",
    "for i in range(0,105,5):\n",
    "    strat = port.Strategy(i,0,100-i,1) \n",
    "    \n",
    "    portfolio = port.Portfolio(shares_dict)\n",
    "\n",
    "    portfolio.initial_buy(ini_amount, strat, start_date)\n",
    "    \n",
    "    time_period = pd.date_range(pd.to_datetime(start_date),pd.to_datetime(end_date))\n",
    "\n",
    "    for day in time_period:\n",
    "        portfolio.reinvest_divs(day)\n",
    "        portfolio.get_asset_values(day)\n",
    "        if portfolio.asset_split['Equities'] > strat.equity_distribution+strat.threshold:\n",
    "            sell_amt = (portfolio.asset_values['Equities']+portfolio.asset_values['Bonds'])*((portfolio.asset_split['Equities']-strat.equity_distribution)/100)\n",
    "            sell_amt_per = sell_amt/len(portfolio.equities)\n",
    "            for share in portfolio.equities: # sell equities and buy more bonds\n",
    "                portfolio.sell(share, sell_amt_per, day)\n",
    "            for share in portfolio.bonds:\n",
    "                portfolio.buy(share, sell_amt_per, day)\n",
    "\n",
    "        if portfolio.asset_split['Bonds'] > strat.bond_distribution+strat.threshold:\n",
    "            sell_amt = (portfolio.asset_values['Equities']+portfolio.asset_values['Bonds'])*(portfolio.asset_split['Bonds']-strat.bond_distribution)\n",
    "            sell_amt_per = sell_amt/len(portfolio.bonds)\n",
    "            for share in portfolio.bonds: # sell bonds and buy more equities\n",
    "                portfolio.sell(share, sell_amt_per, day)\n",
    "            for share in portfolio.bonds:\n",
    "                portfolio.buy(share, sell_amt_per, day)\n",
    "    portfolio_history = portfolio.get_hist_df()\n",
    "    portfolio_history['Date'] = pd.to_datetime(portfolio_history['Date']) # Convert date to datetime object\n",
    "    portfolio_history.set_index('Date', inplace = True) \n",
    "    \n",
    "    # Create a new column of the allocation dataframe based on the total value of the most recent portfolio simulation\n",
    "    allocation_df[str(i)+'% Equities:'+str(100-i)+'% Bonds'] = portfolio_history['Total Value']\n",
    "    \n",
    "    # Loop through each year to calculate a ROI in each year \n",
    "    \n",
    "    portfolio_history['Year'] = portfolio_history.index.strftime('%Y')\n",
    "    \n",
    "    years = list(portfolio_history['Year'].unique())\n",
    "    \n",
    "    for year in years:\n",
    "        subset = portfolio_history[portfolio_history['Year']==year]\n",
    "        allocation_roi_df.at[year,str(i)+'% Equities:'+str(100-i)+'% Bonds'] = ((subset['Total Value'].iat[-1]/subset['Total Value'].iat[0])-1)*100\n",
    "    allocation_roi_df.at['Period Total',str(i)+'% Equities:'+str(100-i)+'% Bonds'] = ((portfolio_history['Total Value'].iat[-1]/portfolio_history['Total Value'].iat[0])-1)*100"
   ]
  }
 ],
 "metadata": {
  "kernelspec": {
   "display_name": "Python 3",
   "language": "python",
   "name": "python3"
  },
  "language_info": {
   "codemirror_mode": {
    "name": "ipython",
    "version": 3
   },
   "file_extension": ".py",
   "mimetype": "text/x-python",
   "name": "python",
   "nbconvert_exporter": "python",
   "pygments_lexer": "ipython3",
   "version": "3.6.9"
  }
 },
 "nbformat": 4,
 "nbformat_minor": 4
}

{
 "cells": [
  {
   "cell_type": "markdown",
   "metadata": {},
   "source": [
    "This notebook seeks to explore whether a portfolio's total ROI can be improved by holding a certain amount of cash reserves to 'buy the dip'--attempting to time the market by buying at relative low points rather than holding for a longer duration."
   ]
  },
  {
   "cell_type": "markdown",
   "metadata": {},
   "source": [
    "## 0. Import Modules and Data"
   ]
  },
  {
   "cell_type": "code",
   "execution_count": 1,
   "metadata": {},
   "outputs": [],
   "source": [
    "import pandas as pd\n",
    "import numpy as np\n",
    "from pandas_datareader import data\n",
    "import pandas_datareader.data as web\n",
    "import datetime as dt\n",
    "import Portfolio as port\n",
    "import random"
   ]
  },
  {
   "cell_type": "markdown",
   "metadata": {},
   "source": [
    "## 1. Set-up Portfolio"
   ]
  },
  {
   "cell_type": "code",
   "execution_count": 2,
   "metadata": {},
   "outputs": [],
   "source": [
    "# Define start date and end date\n",
    "\n",
    "start_date = '2015-01-01'\n",
    "\n",
    "end_date = '2020-01-05'"
   ]
  },
  {
   "cell_type": "markdown",
   "metadata": {},
   "source": [
    "### 1.1 Establish random time horizons"
   ]
  },
  {
   "cell_type": "markdown",
   "metadata": {},
   "source": [
    "The goal here is to simulate a random timeframe of investment to evaluate if an investment strategy is consistently successful or if it is just lucky timing. The 'time_horizons' function is designed to randomly sample a range of dates (between a start date and and end date) and return a pair where the start date is earlier than the end date and the time between the two dates is greater than the specified time horizon. "
   ]
  },
  {
   "cell_type": "code",
   "execution_count": 3,
   "metadata": {},
   "outputs": [],
   "source": [
    "def time_horizons(samples, time_horizon, start_date, end_date):\n",
    "    # samples reflects how many date pairs to return\n",
    "    # The time_horizon is how long the dates need to be apart from eachother\n",
    "    # start_date and end_date refer to the absolute max and min of the dates samples\n",
    "    time_period = pd.date_range(pd.to_datetime(start_date),pd.to_datetime(end_date))# Full timeline for data as a range\n",
    "    counter = 0\n",
    "    date_dict = {}\n",
    "    while counter < samples:\n",
    "        random_start = random.choice(time_period)\n",
    "        random_end = random.choice(time_period)\n",
    "        while random_start > random_end or (random_end-random_start) < dt.timedelta(days=365*time_horizon):\n",
    "            random_start = random.choice(time_period)\n",
    "            random_end = random.choice(time_period)\n",
    "        date_dict[random_start] = random_end\n",
    "        counter += 1\n",
    "    return(date_dict)"
   ]
  },
  {
   "cell_type": "code",
   "execution_count": 4,
   "metadata": {},
   "outputs": [],
   "source": [
    "# Create a dictionary of date pairs to test the investing strategy.\n",
    "\n",
    "dates = time_horizons(20,3,pd.to_datetime('01/01/2010'), pd.to_datetime('12/31/2020'))"
   ]
  },
  {
   "cell_type": "code",
   "execution_count": 5,
   "metadata": {},
   "outputs": [
    {
     "name": "stdout",
     "output_type": "stream",
     "text": [
      "(Timestamp('2013-09-03 00:00:00', freq='D'), Timestamp('2019-08-18 00:00:00', freq='D'))\n",
      "(Timestamp('2015-01-23 00:00:00', freq='D'), Timestamp('2020-12-05 00:00:00', freq='D'))\n",
      "(Timestamp('2010-12-03 00:00:00', freq='D'), Timestamp('2019-01-30 00:00:00', freq='D'))\n",
      "(Timestamp('2013-03-29 00:00:00', freq='D'), Timestamp('2020-10-03 00:00:00', freq='D'))\n",
      "(Timestamp('2010-05-26 00:00:00', freq='D'), Timestamp('2019-01-01 00:00:00', freq='D'))\n",
      "(Timestamp('2010-01-06 00:00:00', freq='D'), Timestamp('2020-10-11 00:00:00', freq='D'))\n",
      "(Timestamp('2012-03-27 00:00:00', freq='D'), Timestamp('2016-02-09 00:00:00', freq='D'))\n",
      "(Timestamp('2016-07-07 00:00:00', freq='D'), Timestamp('2020-06-21 00:00:00', freq='D'))\n",
      "(Timestamp('2014-08-24 00:00:00', freq='D'), Timestamp('2019-12-13 00:00:00', freq='D'))\n",
      "(Timestamp('2010-01-13 00:00:00', freq='D'), Timestamp('2013-04-18 00:00:00', freq='D'))\n",
      "(Timestamp('2012-04-07 00:00:00', freq='D'), Timestamp('2020-02-11 00:00:00', freq='D'))\n",
      "(Timestamp('2012-10-06 00:00:00', freq='D'), Timestamp('2016-08-18 00:00:00', freq='D'))\n",
      "(Timestamp('2011-11-01 00:00:00', freq='D'), Timestamp('2015-01-02 00:00:00', freq='D'))\n",
      "(Timestamp('2014-10-04 00:00:00', freq='D'), Timestamp('2018-10-23 00:00:00', freq='D'))\n",
      "(Timestamp('2014-03-21 00:00:00', freq='D'), Timestamp('2017-07-26 00:00:00', freq='D'))\n",
      "(Timestamp('2013-08-26 00:00:00', freq='D'), Timestamp('2018-01-27 00:00:00', freq='D'))\n",
      "(Timestamp('2013-08-29 00:00:00', freq='D'), Timestamp('2020-07-21 00:00:00', freq='D'))\n",
      "(Timestamp('2014-08-10 00:00:00', freq='D'), Timestamp('2019-04-26 00:00:00', freq='D'))\n",
      "(Timestamp('2011-11-21 00:00:00', freq='D'), Timestamp('2020-02-29 00:00:00', freq='D'))\n",
      "(Timestamp('2013-12-01 00:00:00', freq='D'), Timestamp('2020-03-13 00:00:00', freq='D'))\n"
     ]
    }
   ],
   "source": [
    "# Check the date pairs to ensure parameters are met\n",
    "for item in dates.items():\n",
    "    print(item)"
   ]
  },
  {
   "cell_type": "markdown",
   "metadata": {},
   "source": [
    "### 1.2 Create a Master Log of all portfolio outcomes"
   ]
  },
  {
   "cell_type": "code",
   "execution_count": 6,
   "metadata": {},
   "outputs": [],
   "source": [
    "### Create empty dataframe to be populated during the run\n",
    "\n",
    "master_log = pd.DataFrame(columns = ['Portfolio','Strategy','Start Date','End Date','Time Horizon', 'ROI'])"
   ]
  },
  {
   "cell_type": "code",
   "execution_count": 7,
   "metadata": {},
   "outputs": [
    {
     "data": {
      "text/html": [
       "<div>\n",
       "<style scoped>\n",
       "    .dataframe tbody tr th:only-of-type {\n",
       "        vertical-align: middle;\n",
       "    }\n",
       "\n",
       "    .dataframe tbody tr th {\n",
       "        vertical-align: top;\n",
       "    }\n",
       "\n",
       "    .dataframe thead th {\n",
       "        text-align: right;\n",
       "    }\n",
       "</style>\n",
       "<table border=\"1\" class=\"dataframe\">\n",
       "  <thead>\n",
       "    <tr style=\"text-align: right;\">\n",
       "      <th></th>\n",
       "      <th>Portfolio</th>\n",
       "      <th>Strategy</th>\n",
       "      <th>Start Date</th>\n",
       "      <th>End Date</th>\n",
       "      <th>Time Horizon</th>\n",
       "      <th>ROI</th>\n",
       "    </tr>\n",
       "  </thead>\n",
       "  <tbody>\n",
       "  </tbody>\n",
       "</table>\n",
       "</div>"
      ],
      "text/plain": [
       "Empty DataFrame\n",
       "Columns: [Portfolio, Strategy, Start Date, End Date, Time Horizon, ROI]\n",
       "Index: []"
      ]
     },
     "execution_count": 7,
     "metadata": {},
     "output_type": "execute_result"
    }
   ],
   "source": [
    "master_log"
   ]
  },
  {
   "cell_type": "markdown",
   "metadata": {},
   "source": [
    "### 1.3 Set Up Strategies for Comparison"
   ]
  },
  {
   "cell_type": "code",
   "execution_count": 8,
   "metadata": {},
   "outputs": [],
   "source": [
    "# Define Shares\n",
    "\n",
    "# Provide the name of the ticker and type (Equity or Bond)\n",
    "\n",
    "#VOO Vanguard ETF is serving as a proxy for individual stocks/bonds\n",
    "\n",
    "voo = port.Share('VOO', 'Equity', start_date,end_date)"
   ]
  },
  {
   "cell_type": "code",
   "execution_count": 9,
   "metadata": {},
   "outputs": [],
   "source": [
    "shares_list = [voo]\n",
    "\n",
    "shares_dict = {}\n",
    "\n",
    "for share in shares_list:\n",
    "    shares_dict[share] = share.type"
   ]
  },
  {
   "cell_type": "code",
   "execution_count": 10,
   "metadata": {},
   "outputs": [],
   "source": [
    "# Define Strategy\n",
    "\n",
    "# Provide the equity distribution, the bond distriubtion, cash distribution, and the threshold\n",
    "strat = port.Strategy(100,0,0,1)\n",
    "# For this strategy of trying to time the market I set up the portfolio with a 50/50 allocation of equities and cash\n",
    "# This is done so that the portfolio can have enough cash to buy any big dips early on."
   ]
  },
  {
   "cell_type": "code",
   "execution_count": null,
   "metadata": {},
   "outputs": [],
   "source": []
  },
  {
   "cell_type": "code",
   "execution_count": 11,
   "metadata": {},
   "outputs": [],
   "source": [
    "# Actions measured in days, not minutes...\n",
    "\n",
    "# the more the share value drops, the more cash we put in --wait until the panic has subsided"
   ]
  },
  {
   "cell_type": "code",
   "execution_count": 12,
   "metadata": {},
   "outputs": [
    {
     "data": {
      "text/plain": [
       "'2015-01-01'"
      ]
     },
     "execution_count": 12,
     "metadata": {},
     "output_type": "execute_result"
    }
   ],
   "source": [
    "start_date"
   ]
  },
  {
   "cell_type": "markdown",
   "metadata": {},
   "source": [
    "## 2. Run Strategies"
   ]
  },
  {
   "cell_type": "code",
   "execution_count": 13,
   "metadata": {},
   "outputs": [],
   "source": [
    "### 2.0 Set Parameters"
   ]
  },
  {
   "cell_type": "code",
   "execution_count": 14,
   "metadata": {},
   "outputs": [],
   "source": [
    "# Set number of samples\n",
    "\n",
    "samples = 20"
   ]
  },
  {
   "cell_type": "code",
   "execution_count": 15,
   "metadata": {},
   "outputs": [],
   "source": [
    "# Set time horizon (years expecting to invest)\n",
    "\n",
    "horizon = 3"
   ]
  },
  {
   "cell_type": "markdown",
   "metadata": {},
   "source": [
    "### 2.1 Strategy 1: Buy & Hold"
   ]
  },
  {
   "cell_type": "code",
   "execution_count": 16,
   "metadata": {},
   "outputs": [],
   "source": [
    "# Generate date pairs\n",
    "\n",
    "dates = time_horizons(samples,horizon,pd.to_datetime('01/01/2015'), pd.to_datetime('12/31/2020'))"
   ]
  },
  {
   "cell_type": "code",
   "execution_count": 17,
   "metadata": {},
   "outputs": [
    {
     "data": {
      "text/plain": [
       "'2015-01-01'"
      ]
     },
     "execution_count": 17,
     "metadata": {},
     "output_type": "execute_result"
    }
   ],
   "source": [
    "start_date"
   ]
  },
  {
   "cell_type": "code",
   "execution_count": 19,
   "metadata": {},
   "outputs": [
    {
     "name": "stdout",
     "output_type": "stream",
     "text": [
      "1.4541273639636383\n",
      "1.753701787609191\n",
      "1.6830823546843583\n",
      "1.5665180640127665\n",
      "1.615111505593701\n",
      "1.5013110956558728\n",
      "1.7054726798576993\n",
      "1.396392522980929\n",
      "1.2291591162872717\n",
      "1.7961229294562797\n",
      "1.3788000492988306\n",
      "1.6622894078763075\n",
      "1.4279791702059037\n",
      "1.686183369570748\n",
      "1.5961396257822051\n",
      "1.710908248348145\n",
      "1.822658071319945\n",
      "1.6997548860002951\n",
      "1.7285161890810483\n",
      "1.687084060506575\n"
     ]
    }
   ],
   "source": [
    "# Run without trying to time the market\n",
    "for start_date in dates:\n",
    "    end_date = dates[start_date]\n",
    "    time_period = pd.date_range(pd.to_datetime(start_date),pd.to_datetime(end_date))\n",
    "    portfolio = port.Portfolio(shares_dict, div_reinvest = True)\n",
    "    portfolio.initial_buy(500, strat, pd.to_datetime(start_date))\n",
    "    # set a counter to avoid buying into shares more than once a week\n",
    "    counter = 0\n",
    "    for day in time_period:\n",
    "        counter +=1\n",
    "        portfolio.reinvest_divs(day)\n",
    "        portfolio.get_asset_values(day)\n",
    "    #    for share in portfolio.shares:\n",
    "    #         share.get_rolling(day)\n",
    "    #         last_week = day - dt.timedelta(days = 7)\n",
    "    #         prev_week = last_week - dt.timedelta(days = 7)\n",
    "    #         week_avg = share.rolling_90_days[share.rolling_90_days.index>=last_week]['Low'].mean()\n",
    "    #         ninety_day_avg = share.rolling_90_days.Low.mean()\n",
    "    #         if (week_avg-ninety_day_avg)/ninety_day_avg < -0.05 and counter >=7:\n",
    "    #             buy_amount = (((abs((week_avg-ninety_day_avg)/share.rolling_90_days.Low.mean())+1)**2)-1)*portfolio.cash_bal\n",
    "    #             portfolio.buy(share, buy_amount, day)\n",
    "    #             counter = 0\n",
    "    portfolio_history = portfolio.get_hist_df()\n",
    "    portfolio_history['Date'] = pd.to_datetime(portfolio_history['Date']) # Convert date to datetime object\n",
    "    portfolio_history.set_index('Date', inplace = True)\n",
    "    roi = portfolio_history.loc[end_date,'Total Value']/portfolio_history.loc[start_date,'Total Value']\n",
    "    master_log = master_log.append({'Portfolio':'Portfolio 1','Strategy':'Buy & Hold','Start Date':start_date,'End Date':end_date,'Time Horizon':horizon,'ROI':roi}, ignore_index=True)"
   ]
  },
  {
   "cell_type": "code",
   "execution_count": 20,
   "metadata": {},
   "outputs": [
    {
     "data": {
      "text/html": [
       "<div>\n",
       "<style scoped>\n",
       "    .dataframe tbody tr th:only-of-type {\n",
       "        vertical-align: middle;\n",
       "    }\n",
       "\n",
       "    .dataframe tbody tr th {\n",
       "        vertical-align: top;\n",
       "    }\n",
       "\n",
       "    .dataframe thead th {\n",
       "        text-align: right;\n",
       "    }\n",
       "</style>\n",
       "<table border=\"1\" class=\"dataframe\">\n",
       "  <thead>\n",
       "    <tr style=\"text-align: right;\">\n",
       "      <th></th>\n",
       "      <th>Portfolio</th>\n",
       "      <th>Strategy</th>\n",
       "      <th>Start Date</th>\n",
       "      <th>End Date</th>\n",
       "      <th>Time Horizon</th>\n",
       "      <th>ROI</th>\n",
       "    </tr>\n",
       "  </thead>\n",
       "  <tbody>\n",
       "    <tr>\n",
       "      <th>0</th>\n",
       "      <td>Portfolio 1</td>\n",
       "      <td>Buy &amp; Hold</td>\n",
       "      <td>2015-07-17</td>\n",
       "      <td>2019-05-17</td>\n",
       "      <td>3</td>\n",
       "      <td>1.454127</td>\n",
       "    </tr>\n",
       "    <tr>\n",
       "      <th>1</th>\n",
       "      <td>Portfolio 1</td>\n",
       "      <td>Buy &amp; Hold</td>\n",
       "      <td>2016-03-09</td>\n",
       "      <td>2020-10-01</td>\n",
       "      <td>3</td>\n",
       "      <td>1.753702</td>\n",
       "    </tr>\n",
       "    <tr>\n",
       "      <th>2</th>\n",
       "      <td>Portfolio 1</td>\n",
       "      <td>Buy &amp; Hold</td>\n",
       "      <td>2015-11-23</td>\n",
       "      <td>2020-09-09</td>\n",
       "      <td>3</td>\n",
       "      <td>1.683082</td>\n",
       "    </tr>\n",
       "    <tr>\n",
       "      <th>3</th>\n",
       "      <td>Portfolio 1</td>\n",
       "      <td>Buy &amp; Hold</td>\n",
       "      <td>2016-12-02</td>\n",
       "      <td>2020-12-23</td>\n",
       "      <td>3</td>\n",
       "      <td>1.566518</td>\n",
       "    </tr>\n",
       "    <tr>\n",
       "      <th>4</th>\n",
       "      <td>Portfolio 1</td>\n",
       "      <td>Buy &amp; Hold</td>\n",
       "      <td>2016-11-05</td>\n",
       "      <td>2020-07-01</td>\n",
       "      <td>3</td>\n",
       "      <td>1.615112</td>\n",
       "    </tr>\n",
       "    <tr>\n",
       "      <th>5</th>\n",
       "      <td>Portfolio 1</td>\n",
       "      <td>Buy &amp; Hold</td>\n",
       "      <td>2015-06-19</td>\n",
       "      <td>2019-08-31</td>\n",
       "      <td>3</td>\n",
       "      <td>1.501311</td>\n",
       "    </tr>\n",
       "    <tr>\n",
       "      <th>6</th>\n",
       "      <td>Portfolio 1</td>\n",
       "      <td>Buy &amp; Hold</td>\n",
       "      <td>2016-04-09</td>\n",
       "      <td>2020-02-23</td>\n",
       "      <td>3</td>\n",
       "      <td>1.705473</td>\n",
       "    </tr>\n",
       "    <tr>\n",
       "      <th>7</th>\n",
       "      <td>Portfolio 1</td>\n",
       "      <td>Buy &amp; Hold</td>\n",
       "      <td>2015-10-03</td>\n",
       "      <td>2018-12-14</td>\n",
       "      <td>3</td>\n",
       "      <td>1.396393</td>\n",
       "    </tr>\n",
       "    <tr>\n",
       "      <th>8</th>\n",
       "      <td>Portfolio 1</td>\n",
       "      <td>Buy &amp; Hold</td>\n",
       "      <td>2015-03-25</td>\n",
       "      <td>2018-12-24</td>\n",
       "      <td>3</td>\n",
       "      <td>1.229159</td>\n",
       "    </tr>\n",
       "    <tr>\n",
       "      <th>9</th>\n",
       "      <td>Portfolio 1</td>\n",
       "      <td>Buy &amp; Hold</td>\n",
       "      <td>2016-02-21</td>\n",
       "      <td>2020-04-07</td>\n",
       "      <td>3</td>\n",
       "      <td>1.796123</td>\n",
       "    </tr>\n",
       "    <tr>\n",
       "      <th>10</th>\n",
       "      <td>Portfolio 1</td>\n",
       "      <td>Buy &amp; Hold</td>\n",
       "      <td>2015-03-11</td>\n",
       "      <td>2018-03-22</td>\n",
       "      <td>3</td>\n",
       "      <td>1.378800</td>\n",
       "    </tr>\n",
       "    <tr>\n",
       "      <th>11</th>\n",
       "      <td>Portfolio 1</td>\n",
       "      <td>Buy &amp; Hold</td>\n",
       "      <td>2016-04-17</td>\n",
       "      <td>2020-12-01</td>\n",
       "      <td>3</td>\n",
       "      <td>1.662289</td>\n",
       "    </tr>\n",
       "    <tr>\n",
       "      <th>12</th>\n",
       "      <td>Portfolio 1</td>\n",
       "      <td>Buy &amp; Hold</td>\n",
       "      <td>2016-09-25</td>\n",
       "      <td>2019-10-02</td>\n",
       "      <td>3</td>\n",
       "      <td>1.427979</td>\n",
       "    </tr>\n",
       "    <tr>\n",
       "      <th>13</th>\n",
       "      <td>Portfolio 1</td>\n",
       "      <td>Buy &amp; Hold</td>\n",
       "      <td>2015-07-13</td>\n",
       "      <td>2020-04-06</td>\n",
       "      <td>3</td>\n",
       "      <td>1.686183</td>\n",
       "    </tr>\n",
       "    <tr>\n",
       "      <th>14</th>\n",
       "      <td>Portfolio 1</td>\n",
       "      <td>Buy &amp; Hold</td>\n",
       "      <td>2015-10-10</td>\n",
       "      <td>2019-07-17</td>\n",
       "      <td>3</td>\n",
       "      <td>1.596140</td>\n",
       "    </tr>\n",
       "    <tr>\n",
       "      <th>15</th>\n",
       "      <td>Portfolio 1</td>\n",
       "      <td>Buy &amp; Hold</td>\n",
       "      <td>2015-07-27</td>\n",
       "      <td>2020-11-17</td>\n",
       "      <td>3</td>\n",
       "      <td>1.710908</td>\n",
       "    </tr>\n",
       "    <tr>\n",
       "      <th>16</th>\n",
       "      <td>Portfolio 1</td>\n",
       "      <td>Buy &amp; Hold</td>\n",
       "      <td>2016-01-11</td>\n",
       "      <td>2020-03-23</td>\n",
       "      <td>3</td>\n",
       "      <td>1.822658</td>\n",
       "    </tr>\n",
       "    <tr>\n",
       "      <th>17</th>\n",
       "      <td>Portfolio 1</td>\n",
       "      <td>Buy &amp; Hold</td>\n",
       "      <td>2015-02-16</td>\n",
       "      <td>2020-01-14</td>\n",
       "      <td>3</td>\n",
       "      <td>1.699755</td>\n",
       "    </tr>\n",
       "    <tr>\n",
       "      <th>18</th>\n",
       "      <td>Portfolio 1</td>\n",
       "      <td>Buy &amp; Hold</td>\n",
       "      <td>2015-03-27</td>\n",
       "      <td>2020-05-26</td>\n",
       "      <td>3</td>\n",
       "      <td>1.728516</td>\n",
       "    </tr>\n",
       "    <tr>\n",
       "      <th>19</th>\n",
       "      <td>Portfolio 1</td>\n",
       "      <td>Buy &amp; Hold</td>\n",
       "      <td>2015-05-23</td>\n",
       "      <td>2020-07-27</td>\n",
       "      <td>3</td>\n",
       "      <td>1.687084</td>\n",
       "    </tr>\n",
       "  </tbody>\n",
       "</table>\n",
       "</div>"
      ],
      "text/plain": [
       "      Portfolio    Strategy Start Date   End Date Time Horizon       ROI\n",
       "0   Portfolio 1  Buy & Hold 2015-07-17 2019-05-17            3  1.454127\n",
       "1   Portfolio 1  Buy & Hold 2016-03-09 2020-10-01            3  1.753702\n",
       "2   Portfolio 1  Buy & Hold 2015-11-23 2020-09-09            3  1.683082\n",
       "3   Portfolio 1  Buy & Hold 2016-12-02 2020-12-23            3  1.566518\n",
       "4   Portfolio 1  Buy & Hold 2016-11-05 2020-07-01            3  1.615112\n",
       "5   Portfolio 1  Buy & Hold 2015-06-19 2019-08-31            3  1.501311\n",
       "6   Portfolio 1  Buy & Hold 2016-04-09 2020-02-23            3  1.705473\n",
       "7   Portfolio 1  Buy & Hold 2015-10-03 2018-12-14            3  1.396393\n",
       "8   Portfolio 1  Buy & Hold 2015-03-25 2018-12-24            3  1.229159\n",
       "9   Portfolio 1  Buy & Hold 2016-02-21 2020-04-07            3  1.796123\n",
       "10  Portfolio 1  Buy & Hold 2015-03-11 2018-03-22            3  1.378800\n",
       "11  Portfolio 1  Buy & Hold 2016-04-17 2020-12-01            3  1.662289\n",
       "12  Portfolio 1  Buy & Hold 2016-09-25 2019-10-02            3  1.427979\n",
       "13  Portfolio 1  Buy & Hold 2015-07-13 2020-04-06            3  1.686183\n",
       "14  Portfolio 1  Buy & Hold 2015-10-10 2019-07-17            3  1.596140\n",
       "15  Portfolio 1  Buy & Hold 2015-07-27 2020-11-17            3  1.710908\n",
       "16  Portfolio 1  Buy & Hold 2016-01-11 2020-03-23            3  1.822658\n",
       "17  Portfolio 1  Buy & Hold 2015-02-16 2020-01-14            3  1.699755\n",
       "18  Portfolio 1  Buy & Hold 2015-03-27 2020-05-26            3  1.728516\n",
       "19  Portfolio 1  Buy & Hold 2015-05-23 2020-07-27            3  1.687084"
      ]
     },
     "execution_count": 20,
     "metadata": {},
     "output_type": "execute_result"
    }
   ],
   "source": [
    "master_log"
   ]
  },
  {
   "cell_type": "code",
   "execution_count": null,
   "metadata": {},
   "outputs": [],
   "source": [
    "# Explain the logic used to 'buy the dip' here:\n",
    "\n",
    "# If the weekly average of the share value decreases by more than 5% from the 90% average\n",
    "# AND\n",
    "# If we haven't bought any more shares in the last 7 days...\n",
    "\n",
    "# Then buy an amount equal to:\n",
    "# The absolute value of the decrease, plus 1, squared, minus 1, times the amount of cash held by the portfolio.\n",
    "\n",
    "# For example:\n",
    "# If we have a decrease of 5% and $10 of cash it would look like this:\n",
    "#"
   ]
  },
  {
   "cell_type": "code",
   "execution_count": null,
   "metadata": {},
   "outputs": [],
   "source": [
    "(((0.05 + 1)**2)-1)*10"
   ]
  },
  {
   "cell_type": "code",
   "execution_count": null,
   "metadata": {},
   "outputs": [],
   "source": [
    "# for i in np.arange(0.05,1.05,0.05):\n",
    "#     print(i,(((i + 1)**(2+i))-1)*100) # I kinda like this formula, but we can tinker with this later..."
   ]
  },
  {
   "cell_type": "code",
   "execution_count": null,
   "metadata": {},
   "outputs": [],
   "source": [
    "portfolio = port.Portfolio(shares_dict, div_reinvest = True)\n",
    "\n",
    "portfolio.initial_buy(500, strat, start_date)"
   ]
  },
  {
   "cell_type": "code",
   "execution_count": null,
   "metadata": {},
   "outputs": [],
   "source": [
    "\n",
    "time_period = pd.date_range(pd.to_datetime(start_date),pd.to_datetime(end_date))\n",
    "\n",
    "# set a counter to avoid buying into shares more than once a week\n",
    "counter = 0\n",
    "for day in time_period:\n",
    "    counter +=1\n",
    "    portfolio.reinvest_divs(day)\n",
    "    portfolio.get_asset_values(day)\n",
    "    for share in portfolio.shares:\n",
    "        share.get_rolling(day)\n",
    "        last_week = day - dt.timedelta(days = 7)\n",
    "        prev_week = last_week - dt.timedelta(days = 7)\n",
    "        week_avg = share.rolling_90_days[share.rolling_90_days.index>=last_week]['Low'].mean()\n",
    "        ninety_day_avg = share.rolling_90_days.Low.mean()\n",
    "        if (week_avg-ninety_day_avg)/ninety_day_avg < -0.05 and counter >=7:\n",
    "            buy_amount = (((abs((week_avg-ninety_day_avg)/share.rolling_90_days.Low.mean())+1)**2)-1)*portfolio.cash_bal\n",
    "            if buy_amount > portfolio.cash_bal:\n",
    "                buy_amount = portfolio.cash_bal\n",
    "            portfolio.buy(share, buy_amount, day)\n",
    "            counter = 0\n",
    "portfolio_history = portfolio.get_hist_df()\n",
    "portfolio_history['Date'] = pd.to_datetime(portfolio_history['Date']) # Convert date to datetime object\n",
    "portfolio_history.set_index('Date', inplace = True)           "
   ]
  },
  {
   "cell_type": "code",
   "execution_count": null,
   "metadata": {},
   "outputs": [],
   "source": [
    "portfolio_history"
   ]
  },
  {
   "cell_type": "code",
   "execution_count": null,
   "metadata": {},
   "outputs": [],
   "source": [
    "voo.get_data()"
   ]
  },
  {
   "cell_type": "code",
   "execution_count": null,
   "metadata": {},
   "outputs": [],
   "source": [
    "voo.get_rolling(start_date)"
   ]
  },
  {
   "cell_type": "code",
   "execution_count": null,
   "metadata": {},
   "outputs": [],
   "source": [
    "voo.rolling_90_days.Low.mean()"
   ]
  },
  {
   "cell_type": "code",
   "execution_count": null,
   "metadata": {},
   "outputs": [],
   "source": []
  },
  {
   "cell_type": "code",
   "execution_count": null,
   "metadata": {},
   "outputs": [],
   "source": [
    "# Create a loop for different cash allocations\n",
    "\n",
    "# This is largely the same as above, however, the strat (strategy) will change in each iteration\n",
    "\n",
    "ini_amount = 500\n",
    " \n",
    "for i in range(0,105,5):\n",
    "    strat = port.Strategy(i,0,100-i,1) \n",
    "    \n",
    "    portfolio = port.Portfolio(shares_dict)\n",
    "\n",
    "    portfolio.initial_buy(ini_amount, strat, start_date)\n",
    "    \n",
    "    time_period = pd.date_range(pd.to_datetime(start_date),pd.to_datetime(end_date))\n",
    "\n",
    "    for day in time_period:\n",
    "        portfolio.reinvest_divs(day)\n",
    "        portfolio.get_asset_values(day)\n",
    "        if portfolio.asset_split['Equities'] > strat.equity_distribution+strat.threshold:\n",
    "            sell_amt = (portfolio.asset_values['Equities']+portfolio.asset_values['Bonds'])*((portfolio.asset_split['Equities']-strat.equity_distribution)/100)\n",
    "            sell_amt_per = sell_amt/len(portfolio.equities)\n",
    "            for share in portfolio.equities: # sell equities and buy more bonds\n",
    "                portfolio.sell(share, sell_amt_per, day)\n",
    "            for share in portfolio.bonds:\n",
    "                portfolio.buy(share, sell_amt_per, day)\n",
    "\n",
    "        if portfolio.asset_split['Bonds'] > strat.bond_distribution+strat.threshold:\n",
    "            sell_amt = (portfolio.asset_values['Equities']+portfolio.asset_values['Bonds'])*(portfolio.asset_split['Bonds']-strat.bond_distribution)\n",
    "            sell_amt_per = sell_amt/len(portfolio.bonds)\n",
    "            for share in portfolio.bonds: # sell bonds and buy more equities\n",
    "                portfolio.sell(share, sell_amt_per, day)\n",
    "            for share in portfolio.bonds:\n",
    "                portfolio.buy(share, sell_amt_per, day)\n",
    "    portfolio_history = portfolio.get_hist_df()\n",
    "    portfolio_history['Date'] = pd.to_datetime(portfolio_history['Date']) # Convert date to datetime object\n",
    "    portfolio_history.set_index('Date', inplace = True) \n",
    "    \n",
    "    # Create a new column of the allocation dataframe based on the total value of the most recent portfolio simulation\n",
    "    allocation_df[str(i)+'% Equities:'+str(100-i)+'% Bonds'] = portfolio_history['Total Value']\n",
    "    \n",
    "    # Loop through each year to calculate a ROI in each year \n",
    "    \n",
    "    portfolio_history['Year'] = portfolio_history.index.strftime('%Y')\n",
    "    \n",
    "    years = list(portfolio_history['Year'].unique())\n",
    "    \n",
    "    for year in years:\n",
    "        subset = portfolio_history[portfolio_history['Year']==year]\n",
    "        allocation_roi_df.at[year,str(i)+'% Equities:'+str(100-i)+'% Bonds'] = ((subset['Total Value'].iat[-1]/subset['Total Value'].iat[0])-1)*100\n",
    "    allocation_roi_df.at['Period Total',str(i)+'% Equities:'+str(100-i)+'% Bonds'] = ((portfolio_history['Total Value'].iat[-1]/portfolio_history['Total Value'].iat[0])-1)*100"
   ]
  }
 ],
 "metadata": {
  "kernelspec": {
   "display_name": "Python 3",
   "language": "python",
   "name": "python3"
  },
  "language_info": {
   "codemirror_mode": {
    "name": "ipython",
    "version": 3
   },
   "file_extension": ".py",
   "mimetype": "text/x-python",
   "name": "python",
   "nbconvert_exporter": "python",
   "pygments_lexer": "ipython3",
   "version": "3.6.9"
  }
 },
 "nbformat": 4,
 "nbformat_minor": 4
}
